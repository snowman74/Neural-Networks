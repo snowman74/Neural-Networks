{
  "nbformat": 4,
  "nbformat_minor": 0,
  "metadata": {
    "colab": {
      "name": "Домашнее задание №15",
      "provenance": [],
      "collapsed_sections": [
        "jkSHLMKtPWAD"
      ],
      "toc_visible": true,
      "mount_file_id": "1nK4W0ROzomVYK7So8Rzl5gGORGR3rl_h",
      "authorship_tag": "ABX9TyNbYoG1GIYsUXhZszALHM3v",
      "include_colab_link": true
    },
    "kernelspec": {
      "name": "python3",
      "display_name": "Python 3"
    },
    "accelerator": "GPU"
  },
  "cells": [
    {
      "cell_type": "markdown",
      "metadata": {
        "id": "view-in-github",
        "colab_type": "text"
      },
      "source": [
        "<a href=\"https://colab.research.google.com/github/snowman74/Neural-Networks/blob/main/%D0%9F%D1%80%D0%BE%D1%81%D1%82%D1%8B%D0%B5%20%D0%BF%D0%BE%D0%BB%D0%BD%D0%BE%D1%81%D0%B2%D1%8F%D0%B7%D0%BD%D1%8B%D0%B9%20%D0%BD%D0%B5%D0%B9%D1%80%D0%BE%D0%BD%D0%BD%D1%8B%D0%B5%20%D1%81%D0%B5%D1%82%D0%B8_%D0%BF%D1%80%D0%BE%D0%B4%D0%BE%D0%BB%D0%B6%D0%B5%D0%BD%D0%B8%D0%B5.ipynb\" target=\"_parent\"><img src=\"https://colab.research.google.com/assets/colab-badge.svg\" alt=\"Open In Colab\"/></a>"
      ]
    },
    {
      "cell_type": "code",
      "metadata": {
        "id": "QcLOB_sNbqMj"
      },
      "source": [
        "from tensorflow.keras.datasets import mnist\n",
        "from tensorflow.keras.models import Sequential\n",
        "from tensorflow.keras.layers import Dense\n",
        "from tensorflow.keras.layers import Dense, Activation, Dropout, BatchNormalization\n",
        "from tensorflow.keras.optimizers import Adam\n",
        "from tensorflow.keras import utils\n",
        "from tensorflow.keras.preprocessing import image\n",
        "import numpy as np\n",
        "import pylab\n",
        "from google.colab import files\n",
        "import matplotlib.pyplot as plt\n",
        "from PIL import Image\n",
        "from skimage.transform import resize\n",
        "import pandas as pd\n",
        "from sklearn.model_selection import train_test_split\n",
        "from sklearn.preprocessing import LabelEncoder, StandardScaler\n",
        "from sklearn import preprocessing\n",
        "%matplotlib inline"
      ],
      "execution_count": null,
      "outputs": []
    },
    {
      "cell_type": "code",
      "metadata": {
        "id": "eumM203vgabU"
      },
      "source": [
        "def createModel():\n",
        "\n",
        "  model = Sequential()\n",
        "\n",
        "  model.add(Dense(800, input_dim=784, activation='relu'))\n",
        "  model.add(Dense(400, activation='relu'))\n",
        "  model.add(Dense(10, activation='softmax'))\n",
        "  model.compile(loss='categorical_crossentropy', optimizer='adam', metrics=['accuracy'])\n",
        "\n",
        "  return model"
      ],
      "execution_count": null,
      "outputs": []
    },
    {
      "cell_type": "code",
      "metadata": {
        "id": "6Mi268uui4Hb",
        "colab": {
          "base_uri": "https://localhost:8080/",
          "height": 52
        },
        "outputId": "1c46fbbf-33ab-4f44-ac3e-e19df742153f"
      },
      "source": [
        "(x_tr, y_tr), (x_te, y_te) = mnist.load_data() # Загружаем базу MNIST\n",
        "x_tr = x_tr.reshape(60000, 784) # Меняем размерности\n",
        "x_te = x_te.reshape(10000, 784)\n",
        "# Создаем общий датафрейм, чтобы иметь возможность самим выбирать размеры обучающей и тестовой выборки\n",
        "pd_train = pd.DataFrame(x_tr)\n",
        "pd_train['Y'] = y_tr\n",
        "pd_test = pd.DataFrame(x_te)\n",
        "pd_test['Y'] = y_te\n",
        "data_pd = pd_train.append(pd_test, ignore_index=True)\n",
        "X = data_pd.iloc[:70000, :784].values\n",
        "Y = data_pd['Y'].values"
      ],
      "execution_count": null,
      "outputs": [
        {
          "output_type": "stream",
          "text": [
            "Downloading data from https://storage.googleapis.com/tensorflow/tf-keras-datasets/mnist.npz\n",
            "11493376/11490434 [==============================] - 0s 0us/step\n"
          ],
          "name": "stdout"
        }
      ]
    },
    {
      "cell_type": "code",
      "metadata": {
        "id": "XtjIHXfwvajl"
      },
      "source": [
        "# нормализуем данные\n",
        "X = X.astype('float32')\n",
        "X = X / 255\n",
        "Y = utils.to_categorical(Y, 10)"
      ],
      "execution_count": null,
      "outputs": []
    },
    {
      "cell_type": "markdown",
      "metadata": {
        "id": "6tqwHqzMhkcy"
      },
      "source": [
        "**Запустим сеть с различными размерами обучающей и проверочной выборок**"
      ]
    },
    {
      "cell_type": "code",
      "metadata": {
        "id": "h_hXgkpVdMdY",
        "colab": {
          "base_uri": "https://localhost:8080/",
          "height": 1000
        },
        "outputId": "416c1d37-f666-47e9-ab11-6fd17a890cf0"
      },
      "source": [
        "res = {}\n",
        "for train_var in [50000, 10000, 500, 250]:\n",
        "  model = createModel()\n",
        "\n",
        "  res[f'Размер обуч.выборки={train_var}'] = model.fit(X[:train_var],\n",
        "                                                      Y[:train_var],\n",
        "                                                      batch_size=50,\n",
        "                                                      epochs=15,\n",
        "                                                      validation_data=(X[-train_var:],\n",
        "                                                                       Y[-train_var:]))"
      ],
      "execution_count": null,
      "outputs": [
        {
          "output_type": "stream",
          "text": [
            "Epoch 1/15\n",
            "1000/1000 [==============================] - 4s 4ms/step - loss: 0.1994 - accuracy: 0.9393 - val_loss: 0.1001 - val_accuracy: 0.9689\n",
            "Epoch 2/15\n",
            "1000/1000 [==============================] - 4s 4ms/step - loss: 0.0798 - accuracy: 0.9756 - val_loss: 0.0726 - val_accuracy: 0.9770\n",
            "Epoch 3/15\n",
            "1000/1000 [==============================] - 4s 4ms/step - loss: 0.0532 - accuracy: 0.9830 - val_loss: 0.0618 - val_accuracy: 0.9806\n",
            "Epoch 4/15\n",
            "1000/1000 [==============================] - 4s 4ms/step - loss: 0.0386 - accuracy: 0.9873 - val_loss: 0.0528 - val_accuracy: 0.9841\n",
            "Epoch 5/15\n",
            "1000/1000 [==============================] - 4s 4ms/step - loss: 0.0318 - accuracy: 0.9900 - val_loss: 0.0594 - val_accuracy: 0.9838\n",
            "Epoch 6/15\n",
            "1000/1000 [==============================] - 4s 4ms/step - loss: 0.0263 - accuracy: 0.9916 - val_loss: 0.0511 - val_accuracy: 0.9856\n",
            "Epoch 7/15\n",
            "1000/1000 [==============================] - 4s 4ms/step - loss: 0.0223 - accuracy: 0.9931 - val_loss: 0.0543 - val_accuracy: 0.9854\n",
            "Epoch 8/15\n",
            "1000/1000 [==============================] - 4s 4ms/step - loss: 0.0203 - accuracy: 0.9935 - val_loss: 0.0490 - val_accuracy: 0.9877\n",
            "Epoch 9/15\n",
            "1000/1000 [==============================] - 4s 4ms/step - loss: 0.0196 - accuracy: 0.9938 - val_loss: 0.0367 - val_accuracy: 0.9917\n",
            "Epoch 10/15\n",
            "1000/1000 [==============================] - 4s 4ms/step - loss: 0.0146 - accuracy: 0.9953 - val_loss: 0.0489 - val_accuracy: 0.9894\n",
            "Epoch 11/15\n",
            "1000/1000 [==============================] - 4s 4ms/step - loss: 0.0179 - accuracy: 0.9943 - val_loss: 0.0448 - val_accuracy: 0.9905\n",
            "Epoch 12/15\n",
            "1000/1000 [==============================] - 4s 4ms/step - loss: 0.0138 - accuracy: 0.9951 - val_loss: 0.0463 - val_accuracy: 0.9903\n",
            "Epoch 13/15\n",
            "1000/1000 [==============================] - 4s 4ms/step - loss: 0.0127 - accuracy: 0.9964 - val_loss: 0.0544 - val_accuracy: 0.9893\n",
            "Epoch 14/15\n",
            "1000/1000 [==============================] - 4s 4ms/step - loss: 0.0122 - accuracy: 0.9967 - val_loss: 0.0468 - val_accuracy: 0.9907\n",
            "Epoch 15/15\n",
            "1000/1000 [==============================] - 4s 4ms/step - loss: 0.0117 - accuracy: 0.9966 - val_loss: 0.0472 - val_accuracy: 0.9907\n",
            "Epoch 1/15\n",
            "200/200 [==============================] - 1s 4ms/step - loss: 0.3789 - accuracy: 0.8902 - val_loss: 0.2138 - val_accuracy: 0.9321\n",
            "Epoch 2/15\n",
            "200/200 [==============================] - 1s 4ms/step - loss: 0.1418 - accuracy: 0.9559 - val_loss: 0.1695 - val_accuracy: 0.9496\n",
            "Epoch 3/15\n",
            "200/200 [==============================] - 1s 4ms/step - loss: 0.0806 - accuracy: 0.9770 - val_loss: 0.1638 - val_accuracy: 0.9486\n",
            "Epoch 4/15\n",
            "200/200 [==============================] - 1s 4ms/step - loss: 0.0489 - accuracy: 0.9857 - val_loss: 0.1420 - val_accuracy: 0.9566\n",
            "Epoch 5/15\n",
            "200/200 [==============================] - 1s 4ms/step - loss: 0.0369 - accuracy: 0.9882 - val_loss: 0.1616 - val_accuracy: 0.9546\n",
            "Epoch 6/15\n",
            "200/200 [==============================] - 1s 4ms/step - loss: 0.0259 - accuracy: 0.9912 - val_loss: 0.1838 - val_accuracy: 0.9531\n",
            "Epoch 7/15\n",
            "200/200 [==============================] - 1s 4ms/step - loss: 0.0239 - accuracy: 0.9919 - val_loss: 0.1935 - val_accuracy: 0.9548\n",
            "Epoch 8/15\n",
            "200/200 [==============================] - 1s 4ms/step - loss: 0.0132 - accuracy: 0.9960 - val_loss: 0.1755 - val_accuracy: 0.9560\n",
            "Epoch 9/15\n",
            "200/200 [==============================] - 1s 4ms/step - loss: 0.0103 - accuracy: 0.9972 - val_loss: 0.1470 - val_accuracy: 0.9648\n",
            "Epoch 10/15\n",
            "200/200 [==============================] - 1s 4ms/step - loss: 0.0090 - accuracy: 0.9974 - val_loss: 0.2910 - val_accuracy: 0.9410\n",
            "Epoch 11/15\n",
            "200/200 [==============================] - 1s 4ms/step - loss: 0.0410 - accuracy: 0.9869 - val_loss: 0.1837 - val_accuracy: 0.9570\n",
            "Epoch 12/15\n",
            "200/200 [==============================] - 1s 4ms/step - loss: 0.0193 - accuracy: 0.9930 - val_loss: 0.2440 - val_accuracy: 0.9488\n",
            "Epoch 13/15\n",
            "200/200 [==============================] - 1s 4ms/step - loss: 0.0165 - accuracy: 0.9938 - val_loss: 0.2035 - val_accuracy: 0.9582\n",
            "Epoch 14/15\n",
            "200/200 [==============================] - 1s 4ms/step - loss: 0.0163 - accuracy: 0.9950 - val_loss: 0.1656 - val_accuracy: 0.9640\n",
            "Epoch 15/15\n",
            "200/200 [==============================] - 1s 4ms/step - loss: 0.0016 - accuracy: 0.9997 - val_loss: 0.1686 - val_accuracy: 0.9660\n",
            "Epoch 1/15\n",
            "10/10 [==============================] - 0s 14ms/step - loss: 1.4153 - accuracy: 0.6100 - val_loss: 0.8893 - val_accuracy: 0.7080\n",
            "Epoch 2/15\n",
            "10/10 [==============================] - 0s 5ms/step - loss: 0.4290 - accuracy: 0.8720 - val_loss: 0.6182 - val_accuracy: 0.7780\n",
            "Epoch 3/15\n",
            "10/10 [==============================] - 0s 5ms/step - loss: 0.2329 - accuracy: 0.9140 - val_loss: 0.6826 - val_accuracy: 0.7640\n",
            "Epoch 4/15\n",
            "10/10 [==============================] - 0s 5ms/step - loss: 0.1209 - accuracy: 0.9660 - val_loss: 0.6984 - val_accuracy: 0.7880\n",
            "Epoch 5/15\n",
            "10/10 [==============================] - 0s 6ms/step - loss: 0.0515 - accuracy: 0.9900 - val_loss: 0.5468 - val_accuracy: 0.8260\n",
            "Epoch 6/15\n",
            "10/10 [==============================] - 0s 5ms/step - loss: 0.0205 - accuracy: 1.0000 - val_loss: 0.6196 - val_accuracy: 0.8100\n",
            "Epoch 7/15\n",
            "10/10 [==============================] - 0s 5ms/step - loss: 0.0116 - accuracy: 1.0000 - val_loss: 0.6463 - val_accuracy: 0.8200\n",
            "Epoch 8/15\n",
            "10/10 [==============================] - 0s 5ms/step - loss: 0.0071 - accuracy: 1.0000 - val_loss: 0.6294 - val_accuracy: 0.8300\n",
            "Epoch 9/15\n",
            "10/10 [==============================] - 0s 5ms/step - loss: 0.0052 - accuracy: 1.0000 - val_loss: 0.6231 - val_accuracy: 0.8280\n",
            "Epoch 10/15\n",
            "10/10 [==============================] - 0s 5ms/step - loss: 0.0040 - accuracy: 1.0000 - val_loss: 0.6416 - val_accuracy: 0.8200\n",
            "Epoch 11/15\n",
            "10/10 [==============================] - 0s 5ms/step - loss: 0.0032 - accuracy: 1.0000 - val_loss: 0.6723 - val_accuracy: 0.8200\n",
            "Epoch 12/15\n",
            "10/10 [==============================] - 0s 5ms/step - loss: 0.0028 - accuracy: 1.0000 - val_loss: 0.6621 - val_accuracy: 0.8240\n",
            "Epoch 13/15\n",
            "10/10 [==============================] - 0s 5ms/step - loss: 0.0023 - accuracy: 1.0000 - val_loss: 0.6651 - val_accuracy: 0.8260\n",
            "Epoch 14/15\n",
            "10/10 [==============================] - 0s 5ms/step - loss: 0.0021 - accuracy: 1.0000 - val_loss: 0.6775 - val_accuracy: 0.8220\n",
            "Epoch 15/15\n",
            "10/10 [==============================] - 0s 5ms/step - loss: 0.0018 - accuracy: 1.0000 - val_loss: 0.6775 - val_accuracy: 0.8240\n",
            "Epoch 1/15\n",
            "5/5 [==============================] - 0s 27ms/step - loss: 1.9358 - accuracy: 0.3640 - val_loss: 1.4644 - val_accuracy: 0.6200\n",
            "Epoch 2/15\n",
            "5/5 [==============================] - 0s 6ms/step - loss: 0.8634 - accuracy: 0.8440 - val_loss: 0.9526 - val_accuracy: 0.7200\n",
            "Epoch 3/15\n",
            "5/5 [==============================] - 0s 6ms/step - loss: 0.3692 - accuracy: 0.9160 - val_loss: 1.0184 - val_accuracy: 0.6720\n",
            "Epoch 4/15\n",
            "5/5 [==============================] - 0s 6ms/step - loss: 0.2025 - accuracy: 0.9360 - val_loss: 0.8929 - val_accuracy: 0.6960\n",
            "Epoch 5/15\n",
            "5/5 [==============================] - 0s 6ms/step - loss: 0.1043 - accuracy: 0.9680 - val_loss: 0.9698 - val_accuracy: 0.6640\n",
            "Epoch 6/15\n",
            "5/5 [==============================] - 0s 5ms/step - loss: 0.0453 - accuracy: 0.9960 - val_loss: 0.9379 - val_accuracy: 0.7240\n",
            "Epoch 7/15\n",
            "5/5 [==============================] - 0s 6ms/step - loss: 0.0244 - accuracy: 1.0000 - val_loss: 1.0188 - val_accuracy: 0.7240\n",
            "Epoch 8/15\n",
            "5/5 [==============================] - 0s 7ms/step - loss: 0.0138 - accuracy: 1.0000 - val_loss: 1.0221 - val_accuracy: 0.7320\n",
            "Epoch 9/15\n",
            "5/5 [==============================] - 0s 6ms/step - loss: 0.0080 - accuracy: 1.0000 - val_loss: 0.9969 - val_accuracy: 0.7560\n",
            "Epoch 10/15\n",
            "5/5 [==============================] - 0s 6ms/step - loss: 0.0052 - accuracy: 1.0000 - val_loss: 1.0136 - val_accuracy: 0.7360\n",
            "Epoch 11/15\n",
            "5/5 [==============================] - 0s 6ms/step - loss: 0.0040 - accuracy: 1.0000 - val_loss: 1.0420 - val_accuracy: 0.7520\n",
            "Epoch 12/15\n",
            "5/5 [==============================] - 0s 7ms/step - loss: 0.0030 - accuracy: 1.0000 - val_loss: 1.0554 - val_accuracy: 0.7400\n",
            "Epoch 13/15\n",
            "5/5 [==============================] - 0s 6ms/step - loss: 0.0024 - accuracy: 1.0000 - val_loss: 1.0628 - val_accuracy: 0.7400\n",
            "Epoch 14/15\n",
            "5/5 [==============================] - 0s 6ms/step - loss: 0.0019 - accuracy: 1.0000 - val_loss: 1.0699 - val_accuracy: 0.7400\n",
            "Epoch 15/15\n",
            "5/5 [==============================] - 0s 6ms/step - loss: 0.0017 - accuracy: 1.0000 - val_loss: 1.0768 - val_accuracy: 0.7440\n"
          ],
          "name": "stdout"
        }
      ]
    },
    {
      "cell_type": "code",
      "metadata": {
        "id": "gonZEbjPtuj5",
        "colab": {
          "base_uri": "https://localhost:8080/",
          "height": 278
        },
        "outputId": "530dd58d-b160-45c1-95f3-ad7ae69ea938"
      },
      "source": [
        "res['Размер обуч.выборки=500'].history['val_accuracy']"
      ],
      "execution_count": null,
      "outputs": [
        {
          "output_type": "execute_result",
          "data": {
            "text/plain": [
              "[0.7080000042915344,\n",
              " 0.777999997138977,\n",
              " 0.7639999985694885,\n",
              " 0.7879999876022339,\n",
              " 0.8259999752044678,\n",
              " 0.8100000023841858,\n",
              " 0.8199999928474426,\n",
              " 0.8299999833106995,\n",
              " 0.828000009059906,\n",
              " 0.8199999928474426,\n",
              " 0.8199999928474426,\n",
              " 0.8240000009536743,\n",
              " 0.8259999752044678,\n",
              " 0.8220000267028809,\n",
              " 0.8240000009536743]"
            ]
          },
          "metadata": {
            "tags": []
          },
          "execution_count": 38
        }
      ]
    },
    {
      "cell_type": "code",
      "metadata": {
        "id": "uY-OKuYWzvtj",
        "colab": {
          "base_uri": "https://localhost:8080/",
          "height": 1000
        },
        "outputId": "b26d8d51-805c-41b5-b564-7767b35390f1"
      },
      "source": [
        "# Выводим график точности на проверочной выборке\n",
        "for train_var in [50000, 10000, 500, 250]:\n",
        "  plt.figure(figsize=(10,10))\n",
        "  plt.title(str(train_var))\n",
        "  plt.plot(res[f'Размер обуч.выборки={train_var}'].history['accuracy'], \n",
        "         label='Доля верных ответов на обучающем наборе')\n",
        "  plt.plot(res[f'Размер обуч.выборки={train_var}'].history['val_accuracy'], \n",
        "          label='Доля верных ответов на проверочном наборе')\n",
        "\n",
        "  # Выводим подписи осей\n",
        "  plt.xlabel('Эпоха обучения')\n",
        "  plt.ylabel('Доля верных ответов')\n",
        "\n",
        "  # Выводим легенду\n",
        "  plt.legend()\n",
        "  plt.show()"
      ],
      "execution_count": null,
      "outputs": [
        {
          "output_type": "display_data",
          "data": {
            "image/png": "[encoded data removed]",
            "text/plain": [
              "<Figure size 720x720 with 1 Axes>"
            ]
          },
          "metadata": {
            "tags": [],
            "needs_background": "light"
          }
        },
        {
          "output_type": "display_data",
          "data": {
            "image/png": "[encoded data removed]",
            "text/plain": [
              "<Figure size 720x720 with 1 Axes>"
            ]
          },
          "metadata": {
            "tags": [],
            "needs_background": "light"
          }
        },
        {
          "output_type": "display_data",
          "data": {
            "image/png": "[encoded data removed]",
            "text/plain": [
              "<Figure size 720x720 with 1 Axes>"
            ]
          },
          "metadata": {
            "tags": [],
            "needs_background": "light"
          }
        },
        {
          "output_type": "display_data",
          "data": {
            "image/png": "[encoded data removed]",
            "text/plain": [
              "<Figure size 720x720 with 1 Axes>"
            ]
          },
          "metadata": {
            "tags": [],
            "needs_background": "light"
          }
        }
      ]
    },
    {
      "cell_type": "code",
      "metadata": {
        "id": "gU4oK_dvbp8i"
      },
      "source": [
        "res_df_1 = pd.DataFrame()\n",
        "for train_var in [50000, 10000, 500, 250]:\n",
        "   res_df_1[f'Размер обуч.выборки={train_var}'] = res[f'Размер обуч.выборки={train_var}'].history['val_accuracy']"
      ],
      "execution_count": null,
      "outputs": []
    },
    {
      "cell_type": "markdown",
      "metadata": {
        "id": "78ap1rMKf6jo"
      },
      "source": [
        "Из графиков и таблицы видно, что точность нейронной сети при обучающей выборке 50000 - наивысшая, в остальных случаях сеть недообучена"
      ]
    },
    {
      "cell_type": "code",
      "metadata": {
        "id": "Jq3In89Kbp57",
        "colab": {
          "base_uri": "https://localhost:8080/",
          "height": 520
        },
        "outputId": "cdc06f69-9334-41ba-da63-3b2b851ba962"
      },
      "source": [
        "res_df_1"
      ],
      "execution_count": null,
      "outputs": [
        {
          "output_type": "execute_result",
          "data": {
            "text/html": [
              "<div>\n",
              "<style scoped>\n",
              "    .dataframe tbody tr th:only-of-type {\n",
              "        vertical-align: middle;\n",
              "    }\n",
              "\n",
              "    .dataframe tbody tr th {\n",
              "        vertical-align: top;\n",
              "    }\n",
              "\n",
              "    .dataframe thead th {\n",
              "        text-align: right;\n",
              "    }\n",
              "</style>\n",
              "<table border=\"1\" class=\"dataframe\">\n",
              "  <thead>\n",
              "    <tr style=\"text-align: right;\">\n",
              "      <th></th>\n",
              "      <th>Размер обуч.выборки=50000</th>\n",
              "      <th>Размер обуч.выборки=10000</th>\n",
              "      <th>Размер обуч.выборки=500</th>\n",
              "      <th>Размер обуч.выборки=250</th>\n",
              "    </tr>\n",
              "  </thead>\n",
              "  <tbody>\n",
              "    <tr>\n",
              "      <th>0</th>\n",
              "      <td>0.96892</td>\n",
              "      <td>0.9321</td>\n",
              "      <td>0.708</td>\n",
              "      <td>0.620</td>\n",
              "    </tr>\n",
              "    <tr>\n",
              "      <th>1</th>\n",
              "      <td>0.97704</td>\n",
              "      <td>0.9496</td>\n",
              "      <td>0.778</td>\n",
              "      <td>0.720</td>\n",
              "    </tr>\n",
              "    <tr>\n",
              "      <th>2</th>\n",
              "      <td>0.98062</td>\n",
              "      <td>0.9486</td>\n",
              "      <td>0.764</td>\n",
              "      <td>0.672</td>\n",
              "    </tr>\n",
              "    <tr>\n",
              "      <th>3</th>\n",
              "      <td>0.98414</td>\n",
              "      <td>0.9566</td>\n",
              "      <td>0.788</td>\n",
              "      <td>0.696</td>\n",
              "    </tr>\n",
              "    <tr>\n",
              "      <th>4</th>\n",
              "      <td>0.98384</td>\n",
              "      <td>0.9546</td>\n",
              "      <td>0.826</td>\n",
              "      <td>0.664</td>\n",
              "    </tr>\n",
              "    <tr>\n",
              "      <th>5</th>\n",
              "      <td>0.98564</td>\n",
              "      <td>0.9531</td>\n",
              "      <td>0.810</td>\n",
              "      <td>0.724</td>\n",
              "    </tr>\n",
              "    <tr>\n",
              "      <th>6</th>\n",
              "      <td>0.98538</td>\n",
              "      <td>0.9548</td>\n",
              "      <td>0.820</td>\n",
              "      <td>0.724</td>\n",
              "    </tr>\n",
              "    <tr>\n",
              "      <th>7</th>\n",
              "      <td>0.98770</td>\n",
              "      <td>0.9560</td>\n",
              "      <td>0.830</td>\n",
              "      <td>0.732</td>\n",
              "    </tr>\n",
              "    <tr>\n",
              "      <th>8</th>\n",
              "      <td>0.99174</td>\n",
              "      <td>0.9648</td>\n",
              "      <td>0.828</td>\n",
              "      <td>0.756</td>\n",
              "    </tr>\n",
              "    <tr>\n",
              "      <th>9</th>\n",
              "      <td>0.98936</td>\n",
              "      <td>0.9410</td>\n",
              "      <td>0.820</td>\n",
              "      <td>0.736</td>\n",
              "    </tr>\n",
              "    <tr>\n",
              "      <th>10</th>\n",
              "      <td>0.99048</td>\n",
              "      <td>0.9570</td>\n",
              "      <td>0.820</td>\n",
              "      <td>0.752</td>\n",
              "    </tr>\n",
              "    <tr>\n",
              "      <th>11</th>\n",
              "      <td>0.99030</td>\n",
              "      <td>0.9488</td>\n",
              "      <td>0.824</td>\n",
              "      <td>0.740</td>\n",
              "    </tr>\n",
              "    <tr>\n",
              "      <th>12</th>\n",
              "      <td>0.98930</td>\n",
              "      <td>0.9582</td>\n",
              "      <td>0.826</td>\n",
              "      <td>0.740</td>\n",
              "    </tr>\n",
              "    <tr>\n",
              "      <th>13</th>\n",
              "      <td>0.99068</td>\n",
              "      <td>0.9640</td>\n",
              "      <td>0.822</td>\n",
              "      <td>0.740</td>\n",
              "    </tr>\n",
              "    <tr>\n",
              "      <th>14</th>\n",
              "      <td>0.99068</td>\n",
              "      <td>0.9660</td>\n",
              "      <td>0.824</td>\n",
              "      <td>0.744</td>\n",
              "    </tr>\n",
              "  </tbody>\n",
              "</table>\n",
              "</div>"
            ],
            "text/plain": [
              "    Размер обуч.выборки=50000  ...  Размер обуч.выборки=250\n",
              "0                     0.96892  ...                    0.620\n",
              "1                     0.97704  ...                    0.720\n",
              "2                     0.98062  ...                    0.672\n",
              "3                     0.98414  ...                    0.696\n",
              "4                     0.98384  ...                    0.664\n",
              "5                     0.98564  ...                    0.724\n",
              "6                     0.98538  ...                    0.724\n",
              "7                     0.98770  ...                    0.732\n",
              "8                     0.99174  ...                    0.756\n",
              "9                     0.98936  ...                    0.736\n",
              "10                    0.99048  ...                    0.752\n",
              "11                    0.99030  ...                    0.740\n",
              "12                    0.98930  ...                    0.740\n",
              "13                    0.99068  ...                    0.740\n",
              "14                    0.99068  ...                    0.744\n",
              "\n",
              "[15 rows x 4 columns]"
            ]
          },
          "metadata": {
            "tags": []
          },
          "execution_count": 106
        }
      ]
    },
    {
      "cell_type": "markdown",
      "metadata": {
        "id": "eHv7bZtarihD"
      },
      "source": [
        "**Попробуем другие варианты архитектуры**"
      ]
    },
    {
      "cell_type": "code",
      "metadata": {
        "id": "9mdFwPoqeqhG",
        "colab": {
          "base_uri": "https://localhost:8080/",
          "height": 656
        },
        "outputId": "94162390-ee24-4514-a1ba-a4f31982bca5"
      },
      "source": [
        "modelOne = Sequential()\n",
        "modelOne.add(Dense(400, input_dim=784, activation='relu'))\n",
        "modelOne.add(Dense(800, activation='relu'))\n",
        "modelOne.add(Dense(10, activation='softmax'))\n",
        "modelOne.compile(loss='categorical_crossentropy', optimizer='adam', metrics=['accuracy'])\n",
        "\n",
        "X_train = X[:60000]\n",
        "y_train = Y[:60000]\n",
        "X_val = X[60000:65000]\n",
        "y_val = Y[60000:65000]\n",
        "X_test = X[65000:]\n",
        "y_test = Y[65000:]\n",
        "\n",
        "resOne = modelOne.fit(X_train, y_train, batch_size=100, epochs=20, validation_data=(X_val, y_val), verbose=0)\n",
        "\n",
        "score_testOne = modelOne.evaluate(X_test, y_test, verbose=0)[-1]\n",
        "score_valOne = resOne.history['val_accuracy'][-1]\n",
        "print(f'Точность на тестовой выборке ={round(score_testOne, 3)}')\n",
        "print(f'Точность на проверочной выборке ={round(score_valOne, 3)}')\n",
        "\n",
        "plt.figure(figsize=(10,10))\n",
        "plt.title('modelOne')\n",
        "plt.plot(resOne.history['accuracy'], \n",
        "        label='Доля верных ответов на обучающем наборе')\n",
        "plt.plot(resOne.history['val_accuracy'], \n",
        "        label='Доля верных ответов на проверочном наборе')\n",
        "\n",
        "# Выводим подписи осей\n",
        "plt.xlabel('Эпоха обучения')\n",
        "plt.ylabel('Доля верных ответов')\n",
        "\n",
        "# Выводим легенду\n",
        "plt.legend()\n",
        "plt.show()"
      ],
      "execution_count": null,
      "outputs": [
        {
          "output_type": "stream",
          "text": [
            "Точность на тестовой выборке =0.988\n",
            "Точность на проверочной выборке =0.975\n"
          ],
          "name": "stdout"
        },
        {
          "output_type": "display_data",
          "data": {
            "image/png": "[encoded data removed]",
            "text/plain": [
              "<Figure size 720x720 with 1 Axes>"
            ]
          },
          "metadata": {
            "tags": [],
            "needs_background": "light"
          }
        }
      ]
    },
    {
      "cell_type": "markdown",
      "metadata": {
        "id": "RL7lQc3dwWoS"
      },
      "source": [
        "**Попробуем добавить слой DropOut**\n",
        "\n",
        "\n"
      ]
    },
    {
      "cell_type": "code",
      "metadata": {
        "id": "65qoHB63dMNA",
        "colab": {
          "base_uri": "https://localhost:8080/",
          "height": 656
        },
        "outputId": "4abdaf40-115d-4d65-890a-658922ce6cee"
      },
      "source": [
        "modelTwo = Sequential()\n",
        "modelTwo.add(Dense(300, input_dim=784, activation='relu'))\n",
        "modelTwo.add(Dense(800, activation='relu'))\n",
        "modelTwo.add(Dropout(0.4))\n",
        "modelTwo.add(Dense(10, activation='softmax'))\n",
        "modelTwo.compile(loss='categorical_crossentropy', optimizer='adam', metrics=['accuracy'])\n",
        "\n",
        "X_train = X[:60000]\n",
        "y_train = Y[:60000]\n",
        "X_val = X[60000:65000]\n",
        "y_val = Y[60000:65000]\n",
        "X_test = X[65000:]\n",
        "y_test = Y[65000:]\n",
        "resTwo = modelTwo.fit(X_train, y_train, batch_size=100, epochs=20, validation_data=(X_val, y_val), verbose=0)\n",
        "\n",
        "score_testTwo = modelTwo.evaluate(X_test, y_test, verbose=0)[-1]\n",
        "score_valTwo = resTwo.history['val_accuracy'][-1]\n",
        "print(f'Точность на тестовой выборке ={round(score_testTwo, 3)}')\n",
        "print(f'Точность на проверочной выборке ={round(score_valTwo, 3)}')\n",
        "\n",
        "plt.figure(figsize=(10,10))\n",
        "plt.title('modelTwo')\n",
        "plt.plot(resTwo.history['accuracy'], \n",
        "        label='Доля верных ответов на обучающем наборе')\n",
        "plt.plot(resTwo.history['val_accuracy'], \n",
        "        label='Доля верных ответов на проверочном наборе')\n",
        "\n",
        "# Выводим подписи осей\n",
        "plt.xlabel('Эпоха обучения')\n",
        "plt.ylabel('Доля верных ответов')\n",
        "\n",
        "# Выводим легенду\n",
        "plt.legend()\n",
        "plt.show()"
      ],
      "execution_count": null,
      "outputs": [
        {
          "output_type": "stream",
          "text": [
            "Точность на тестовой выборке =0.988\n",
            "Точность на проверочной выборке =0.973\n"
          ],
          "name": "stdout"
        },
        {
          "output_type": "display_data",
          "data": {
            "image/png": "[encoded data removed]",
            "text/plain": [
              "<Figure size 720x720 with 1 Axes>"
            ]
          },
          "metadata": {
            "tags": [],
            "needs_background": "light"
          }
        }
      ]
    },
    {
      "cell_type": "markdown",
      "metadata": {
        "id": "EHUhwhvS5JT_"
      },
      "source": [
        "a. 4 Dense слоя\n",
        "\n",
        "b. 3 Dropout слоя\n",
        "\n",
        "c. 3 BatchNormalization слоя"
      ]
    },
    {
      "cell_type": "code",
      "metadata": {
        "id": "qxwc7vnR4fwG",
        "colab": {
          "base_uri": "https://localhost:8080/",
          "height": 1000
        },
        "outputId": "5ca42598-d695-4efa-de30-535356b91e9c"
      },
      "source": [
        "modelThree = Sequential()\n",
        "\n",
        "modelThree.add(BatchNormalization(input_shape=(784,)))\n",
        "modelThree.add(Dropout(0.3))\n",
        "modelThree.add(Dense(300, activation='relu'))\n",
        "\n",
        "modelThree.add(BatchNormalization())\n",
        "modelThree.add(Dense(800, activation='relu'))\n",
        "\n",
        "modelThree.add(BatchNormalization())\n",
        "modelThree.add(Dropout(0.3))\n",
        "modelThree.add(Dense(400, activation='relu'))\n",
        "modelThree.add(Dropout(0.3))\n",
        "modelThree.add(Dense(10, activation='softmax'))\n",
        "\n",
        "modelThree.compile(loss='categorical_crossentropy', optimizer='adam', metrics=['accuracy'])\n",
        "X_train = X[:60000]\n",
        "y_train = Y[:60000]\n",
        "X_val = X[60000:65000]\n",
        "y_val = Y[60000:65000]\n",
        "X_test = X[65000:]\n",
        "y_test = Y[65000:]\n",
        "resThree = modelThree.fit(X_train, y_train, batch_size=150, epochs=20, validation_data=(X_val, y_val), verbose=1)\n",
        "\n",
        "score_testThree = modelThree.evaluate(X_test, y_test, verbose=0)[-1]\n",
        "score_valThree = resThree.history['val_accuracy'][-1]\n",
        "print(f'Точность на тестовой выборке ={round(score_testThree, 3)}')\n",
        "print(f'Точность на проверочной выборке ={round(score_valThree, 3)}')\n",
        "plt.figure(figsize=(10,10))\n",
        "plt.title('modelThree')\n",
        "plt.plot(resThree.history['accuracy'], \n",
        "        label='Доля верных ответов на обучающем наборе')\n",
        "plt.plot(resThree.history['val_accuracy'], \n",
        "        label='Доля верных ответов на проверочном наборе')\n",
        "\n",
        "# Выводим подписи осей\n",
        "plt.xlabel('Эпоха обучения')\n",
        "plt.ylabel('Доля верных ответов')\n",
        "\n",
        "# Выводим легенду\n",
        "plt.legend()\n",
        "plt.show()"
      ],
      "execution_count": null,
      "outputs": [
        {
          "output_type": "stream",
          "text": [
            "Epoch 1/20\n",
            "400/400 [==============================] - 2s 4ms/step - loss: 0.3466 - accuracy: 0.8959 - val_loss: 0.1516 - val_accuracy: 0.9516\n",
            "Epoch 2/20\n",
            "400/400 [==============================] - 1s 4ms/step - loss: 0.1685 - accuracy: 0.9476 - val_loss: 0.1235 - val_accuracy: 0.9600\n",
            "Epoch 3/20\n",
            "400/400 [==============================] - 1s 4ms/step - loss: 0.1310 - accuracy: 0.9592 - val_loss: 0.1121 - val_accuracy: 0.9632\n",
            "Epoch 4/20\n",
            "400/400 [==============================] - 1s 4ms/step - loss: 0.1089 - accuracy: 0.9649 - val_loss: 0.1011 - val_accuracy: 0.9710\n",
            "Epoch 5/20\n",
            "400/400 [==============================] - 1s 4ms/step - loss: 0.0957 - accuracy: 0.9701 - val_loss: 0.0925 - val_accuracy: 0.9748\n",
            "Epoch 6/20\n",
            "400/400 [==============================] - 1s 4ms/step - loss: 0.0920 - accuracy: 0.9710 - val_loss: 0.1031 - val_accuracy: 0.9682\n",
            "Epoch 7/20\n",
            "400/400 [==============================] - 1s 4ms/step - loss: 0.0801 - accuracy: 0.9746 - val_loss: 0.0971 - val_accuracy: 0.9738\n",
            "Epoch 8/20\n",
            "400/400 [==============================] - 1s 4ms/step - loss: 0.0749 - accuracy: 0.9762 - val_loss: 0.1002 - val_accuracy: 0.9724\n",
            "Epoch 9/20\n",
            "400/400 [==============================] - 1s 4ms/step - loss: 0.0701 - accuracy: 0.9773 - val_loss: 0.0939 - val_accuracy: 0.9746\n",
            "Epoch 10/20\n",
            "400/400 [==============================] - 1s 4ms/step - loss: 0.0681 - accuracy: 0.9774 - val_loss: 0.1069 - val_accuracy: 0.9730\n",
            "Epoch 11/20\n",
            "400/400 [==============================] - 1s 4ms/step - loss: 0.0642 - accuracy: 0.9793 - val_loss: 0.1059 - val_accuracy: 0.9750\n",
            "Epoch 12/20\n",
            "400/400 [==============================] - 1s 4ms/step - loss: 0.0589 - accuracy: 0.9811 - val_loss: 0.1115 - val_accuracy: 0.9714\n",
            "Epoch 13/20\n",
            "400/400 [==============================] - 1s 4ms/step - loss: 0.0571 - accuracy: 0.9814 - val_loss: 0.1163 - val_accuracy: 0.9714\n",
            "Epoch 14/20\n",
            "400/400 [==============================] - 1s 4ms/step - loss: 0.0554 - accuracy: 0.9824 - val_loss: 0.1087 - val_accuracy: 0.9746\n",
            "Epoch 15/20\n",
            "400/400 [==============================] - 1s 4ms/step - loss: 0.0469 - accuracy: 0.9846 - val_loss: 0.1025 - val_accuracy: 0.9758\n",
            "Epoch 16/20\n",
            "400/400 [==============================] - 1s 4ms/step - loss: 0.0483 - accuracy: 0.9845 - val_loss: 0.1025 - val_accuracy: 0.9754\n",
            "Epoch 17/20\n",
            "400/400 [==============================] - 1s 4ms/step - loss: 0.0482 - accuracy: 0.9841 - val_loss: 0.1081 - val_accuracy: 0.9742\n",
            "Epoch 18/20\n",
            "400/400 [==============================] - 1s 4ms/step - loss: 0.0465 - accuracy: 0.9851 - val_loss: 0.1018 - val_accuracy: 0.9762\n",
            "Epoch 19/20\n",
            "400/400 [==============================] - 2s 4ms/step - loss: 0.0444 - accuracy: 0.9855 - val_loss: 0.0989 - val_accuracy: 0.9746\n",
            "Epoch 20/20\n",
            "400/400 [==============================] - 2s 4ms/step - loss: 0.0447 - accuracy: 0.9865 - val_loss: 0.1069 - val_accuracy: 0.9760\n",
            "Точность на тестовой выборке =0.991\n",
            "Точность на проверочной выборке =0.976\n"
          ],
          "name": "stdout"
        },
        {
          "output_type": "display_data",
          "data": {
            "image/png": "[encoded data removed]",
            "text/plain": [
              "<Figure size 720x720 with 1 Axes>"
            ]
          },
          "metadata": {
            "tags": [],
            "needs_background": "light"
          }
        }
      ]
    },
    {
      "cell_type": "code",
      "metadata": {
        "id": "IVnKHQ2Rbp3_",
        "colab": {
          "base_uri": "https://localhost:8080/",
          "height": 112
        },
        "outputId": "7b569054-e3c1-45b6-9261-95c4f45c0b0a"
      },
      "source": [
        "res_df_2 = pd.DataFrame({'Модель №1': {'Точность на тестовой': score_testOne, 'Точность на проверочной': score_valOne},\n",
        "                         'Модель №2': {'Точность на тестовой': score_testTwo, 'Точность на проверочной': score_valTwo},\n",
        "                         'Модель №3': {'Точность на тестовой': score_testThree, 'Точность на проверочной': score_valThree}})\n",
        "res_df_2"
      ],
      "execution_count": null,
      "outputs": [
        {
          "output_type": "execute_result",
          "data": {
            "text/html": [
              "<div>\n",
              "<style scoped>\n",
              "    .dataframe tbody tr th:only-of-type {\n",
              "        vertical-align: middle;\n",
              "    }\n",
              "\n",
              "    .dataframe tbody tr th {\n",
              "        vertical-align: top;\n",
              "    }\n",
              "\n",
              "    .dataframe thead th {\n",
              "        text-align: right;\n",
              "    }\n",
              "</style>\n",
              "<table border=\"1\" class=\"dataframe\">\n",
              "  <thead>\n",
              "    <tr style=\"text-align: right;\">\n",
              "      <th></th>\n",
              "      <th>Модель №1</th>\n",
              "      <th>Модель №2</th>\n",
              "      <th>Модель №3</th>\n",
              "    </tr>\n",
              "  </thead>\n",
              "  <tbody>\n",
              "    <tr>\n",
              "      <th>Точность на тестовой</th>\n",
              "      <td>0.9878</td>\n",
              "      <td>0.988</td>\n",
              "      <td>0.9912</td>\n",
              "    </tr>\n",
              "    <tr>\n",
              "      <th>Точность на проверочной</th>\n",
              "      <td>0.9750</td>\n",
              "      <td>0.973</td>\n",
              "      <td>0.9760</td>\n",
              "    </tr>\n",
              "  </tbody>\n",
              "</table>\n",
              "</div>"
            ],
            "text/plain": [
              "                         Модель №1  Модель №2  Модель №3\n",
              "Точность на тестовой        0.9878      0.988     0.9912\n",
              "Точность на проверочной     0.9750      0.973     0.9760"
            ]
          },
          "metadata": {
            "tags": []
          },
          "execution_count": 168
        }
      ]
    },
    {
      "cell_type": "markdown",
      "metadata": {
        "id": "WEp6TIWv3Yoa"
      },
      "source": [
        "Соотношение обучающей/проверочной/тестовой во всех моделях одинаково и равно\n",
        "64000/3000/3000\n",
        "\n",
        "первая модель - БЕЗ слоя DropOut\n",
        "\n",
        "вторая модель - с одним слоем DropOut\n",
        "\n",
        "третья модель - многослойная модель\n",
        "\n",
        "Исходя из таблицы видно, что применение многослойной модели (слоёв нормализации и слоёв dropOut) увеличивает точность на тестовой выборке, однако необходимо тщательно подобирать порядок следования слоёв"
      ]
    },
    {
      "cell_type": "markdown",
      "metadata": {
        "id": "EHGK548zaaY6"
      },
      "source": [
        "Модель по обнаружению мин."
      ]
    },
    {
      "cell_type": "code",
      "metadata": {
        "id": "H9c3uCmx3YUL",
        "colab": {
          "base_uri": "https://localhost:8080/",
          "height": 226
        },
        "outputId": "5655cbf4-02d5-476d-8604-800971c98d3d"
      },
      "source": [
        "sonarDF = pd.read_csv('/content/drive/My Drive/Базы/sonar.csv', header=None)\n",
        "sonarDF.head()"
      ],
      "execution_count": null,
      "outputs": [
        {
          "output_type": "execute_result",
          "data": {
            "text/html": [
              "<div>\n",
              "<style scoped>\n",
              "    .dataframe tbody tr th:only-of-type {\n",
              "        vertical-align: middle;\n",
              "    }\n",
              "\n",
              "    .dataframe tbody tr th {\n",
              "        vertical-align: top;\n",
              "    }\n",
              "\n",
              "    .dataframe thead th {\n",
              "        text-align: right;\n",
              "    }\n",
              "</style>\n",
              "<table border=\"1\" class=\"dataframe\">\n",
              "  <thead>\n",
              "    <tr style=\"text-align: right;\">\n",
              "      <th></th>\n",
              "      <th>0</th>\n",
              "      <th>1</th>\n",
              "      <th>2</th>\n",
              "      <th>3</th>\n",
              "      <th>4</th>\n",
              "      <th>5</th>\n",
              "      <th>6</th>\n",
              "      <th>7</th>\n",
              "      <th>8</th>\n",
              "      <th>9</th>\n",
              "      <th>10</th>\n",
              "      <th>11</th>\n",
              "      <th>12</th>\n",
              "      <th>13</th>\n",
              "      <th>14</th>\n",
              "      <th>15</th>\n",
              "      <th>16</th>\n",
              "      <th>17</th>\n",
              "      <th>18</th>\n",
              "      <th>19</th>\n",
              "      <th>20</th>\n",
              "      <th>21</th>\n",
              "      <th>22</th>\n",
              "      <th>23</th>\n",
              "      <th>24</th>\n",
              "      <th>25</th>\n",
              "      <th>26</th>\n",
              "      <th>27</th>\n",
              "      <th>28</th>\n",
              "      <th>29</th>\n",
              "      <th>30</th>\n",
              "      <th>31</th>\n",
              "      <th>32</th>\n",
              "      <th>33</th>\n",
              "      <th>34</th>\n",
              "      <th>35</th>\n",
              "      <th>36</th>\n",
              "      <th>37</th>\n",
              "      <th>38</th>\n",
              "      <th>39</th>\n",
              "      <th>40</th>\n",
              "      <th>41</th>\n",
              "      <th>42</th>\n",
              "      <th>43</th>\n",
              "      <th>44</th>\n",
              "      <th>45</th>\n",
              "      <th>46</th>\n",
              "      <th>47</th>\n",
              "      <th>48</th>\n",
              "      <th>49</th>\n",
              "      <th>50</th>\n",
              "      <th>51</th>\n",
              "      <th>52</th>\n",
              "      <th>53</th>\n",
              "      <th>54</th>\n",
              "      <th>55</th>\n",
              "      <th>56</th>\n",
              "      <th>57</th>\n",
              "      <th>58</th>\n",
              "      <th>59</th>\n",
              "      <th>60</th>\n",
              "    </tr>\n",
              "  </thead>\n",
              "  <tbody>\n",
              "    <tr>\n",
              "      <th>0</th>\n",
              "      <td>0.0200</td>\n",
              "      <td>0.0371</td>\n",
              "      <td>0.0428</td>\n",
              "      <td>0.0207</td>\n",
              "      <td>0.0954</td>\n",
              "      <td>0.0986</td>\n",
              "      <td>0.1539</td>\n",
              "      <td>0.1601</td>\n",
              "      <td>0.3109</td>\n",
              "      <td>0.2111</td>\n",
              "      <td>0.1609</td>\n",
              "      <td>0.1582</td>\n",
              "      <td>0.2238</td>\n",
              "      <td>0.0645</td>\n",
              "      <td>0.0660</td>\n",
              "      <td>0.2273</td>\n",
              "      <td>0.3100</td>\n",
              "      <td>0.2999</td>\n",
              "      <td>0.5078</td>\n",
              "      <td>0.4797</td>\n",
              "      <td>0.5783</td>\n",
              "      <td>0.5071</td>\n",
              "      <td>0.4328</td>\n",
              "      <td>0.5550</td>\n",
              "      <td>0.6711</td>\n",
              "      <td>0.6415</td>\n",
              "      <td>0.7104</td>\n",
              "      <td>0.8080</td>\n",
              "      <td>0.6791</td>\n",
              "      <td>0.3857</td>\n",
              "      <td>0.1307</td>\n",
              "      <td>0.2604</td>\n",
              "      <td>0.5121</td>\n",
              "      <td>0.7547</td>\n",
              "      <td>0.8537</td>\n",
              "      <td>0.8507</td>\n",
              "      <td>0.6692</td>\n",
              "      <td>0.6097</td>\n",
              "      <td>0.4943</td>\n",
              "      <td>0.2744</td>\n",
              "      <td>0.0510</td>\n",
              "      <td>0.2834</td>\n",
              "      <td>0.2825</td>\n",
              "      <td>0.4256</td>\n",
              "      <td>0.2641</td>\n",
              "      <td>0.1386</td>\n",
              "      <td>0.1051</td>\n",
              "      <td>0.1343</td>\n",
              "      <td>0.0383</td>\n",
              "      <td>0.0324</td>\n",
              "      <td>0.0232</td>\n",
              "      <td>0.0027</td>\n",
              "      <td>0.0065</td>\n",
              "      <td>0.0159</td>\n",
              "      <td>0.0072</td>\n",
              "      <td>0.0167</td>\n",
              "      <td>0.0180</td>\n",
              "      <td>0.0084</td>\n",
              "      <td>0.0090</td>\n",
              "      <td>0.0032</td>\n",
              "      <td>R</td>\n",
              "    </tr>\n",
              "    <tr>\n",
              "      <th>1</th>\n",
              "      <td>0.0453</td>\n",
              "      <td>0.0523</td>\n",
              "      <td>0.0843</td>\n",
              "      <td>0.0689</td>\n",
              "      <td>0.1183</td>\n",
              "      <td>0.2583</td>\n",
              "      <td>0.2156</td>\n",
              "      <td>0.3481</td>\n",
              "      <td>0.3337</td>\n",
              "      <td>0.2872</td>\n",
              "      <td>0.4918</td>\n",
              "      <td>0.6552</td>\n",
              "      <td>0.6919</td>\n",
              "      <td>0.7797</td>\n",
              "      <td>0.7464</td>\n",
              "      <td>0.9444</td>\n",
              "      <td>1.0000</td>\n",
              "      <td>0.8874</td>\n",
              "      <td>0.8024</td>\n",
              "      <td>0.7818</td>\n",
              "      <td>0.5212</td>\n",
              "      <td>0.4052</td>\n",
              "      <td>0.3957</td>\n",
              "      <td>0.3914</td>\n",
              "      <td>0.3250</td>\n",
              "      <td>0.3200</td>\n",
              "      <td>0.3271</td>\n",
              "      <td>0.2767</td>\n",
              "      <td>0.4423</td>\n",
              "      <td>0.2028</td>\n",
              "      <td>0.3788</td>\n",
              "      <td>0.2947</td>\n",
              "      <td>0.1984</td>\n",
              "      <td>0.2341</td>\n",
              "      <td>0.1306</td>\n",
              "      <td>0.4182</td>\n",
              "      <td>0.3835</td>\n",
              "      <td>0.1057</td>\n",
              "      <td>0.1840</td>\n",
              "      <td>0.1970</td>\n",
              "      <td>0.1674</td>\n",
              "      <td>0.0583</td>\n",
              "      <td>0.1401</td>\n",
              "      <td>0.1628</td>\n",
              "      <td>0.0621</td>\n",
              "      <td>0.0203</td>\n",
              "      <td>0.0530</td>\n",
              "      <td>0.0742</td>\n",
              "      <td>0.0409</td>\n",
              "      <td>0.0061</td>\n",
              "      <td>0.0125</td>\n",
              "      <td>0.0084</td>\n",
              "      <td>0.0089</td>\n",
              "      <td>0.0048</td>\n",
              "      <td>0.0094</td>\n",
              "      <td>0.0191</td>\n",
              "      <td>0.0140</td>\n",
              "      <td>0.0049</td>\n",
              "      <td>0.0052</td>\n",
              "      <td>0.0044</td>\n",
              "      <td>R</td>\n",
              "    </tr>\n",
              "    <tr>\n",
              "      <th>2</th>\n",
              "      <td>0.0262</td>\n",
              "      <td>0.0582</td>\n",
              "      <td>0.1099</td>\n",
              "      <td>0.1083</td>\n",
              "      <td>0.0974</td>\n",
              "      <td>0.2280</td>\n",
              "      <td>0.2431</td>\n",
              "      <td>0.3771</td>\n",
              "      <td>0.5598</td>\n",
              "      <td>0.6194</td>\n",
              "      <td>0.6333</td>\n",
              "      <td>0.7060</td>\n",
              "      <td>0.5544</td>\n",
              "      <td>0.5320</td>\n",
              "      <td>0.6479</td>\n",
              "      <td>0.6931</td>\n",
              "      <td>0.6759</td>\n",
              "      <td>0.7551</td>\n",
              "      <td>0.8929</td>\n",
              "      <td>0.8619</td>\n",
              "      <td>0.7974</td>\n",
              "      <td>0.6737</td>\n",
              "      <td>0.4293</td>\n",
              "      <td>0.3648</td>\n",
              "      <td>0.5331</td>\n",
              "      <td>0.2413</td>\n",
              "      <td>0.5070</td>\n",
              "      <td>0.8533</td>\n",
              "      <td>0.6036</td>\n",
              "      <td>0.8514</td>\n",
              "      <td>0.8512</td>\n",
              "      <td>0.5045</td>\n",
              "      <td>0.1862</td>\n",
              "      <td>0.2709</td>\n",
              "      <td>0.4232</td>\n",
              "      <td>0.3043</td>\n",
              "      <td>0.6116</td>\n",
              "      <td>0.6756</td>\n",
              "      <td>0.5375</td>\n",
              "      <td>0.4719</td>\n",
              "      <td>0.4647</td>\n",
              "      <td>0.2587</td>\n",
              "      <td>0.2129</td>\n",
              "      <td>0.2222</td>\n",
              "      <td>0.2111</td>\n",
              "      <td>0.0176</td>\n",
              "      <td>0.1348</td>\n",
              "      <td>0.0744</td>\n",
              "      <td>0.0130</td>\n",
              "      <td>0.0106</td>\n",
              "      <td>0.0033</td>\n",
              "      <td>0.0232</td>\n",
              "      <td>0.0166</td>\n",
              "      <td>0.0095</td>\n",
              "      <td>0.0180</td>\n",
              "      <td>0.0244</td>\n",
              "      <td>0.0316</td>\n",
              "      <td>0.0164</td>\n",
              "      <td>0.0095</td>\n",
              "      <td>0.0078</td>\n",
              "      <td>R</td>\n",
              "    </tr>\n",
              "    <tr>\n",
              "      <th>3</th>\n",
              "      <td>0.0100</td>\n",
              "      <td>0.0171</td>\n",
              "      <td>0.0623</td>\n",
              "      <td>0.0205</td>\n",
              "      <td>0.0205</td>\n",
              "      <td>0.0368</td>\n",
              "      <td>0.1098</td>\n",
              "      <td>0.1276</td>\n",
              "      <td>0.0598</td>\n",
              "      <td>0.1264</td>\n",
              "      <td>0.0881</td>\n",
              "      <td>0.1992</td>\n",
              "      <td>0.0184</td>\n",
              "      <td>0.2261</td>\n",
              "      <td>0.1729</td>\n",
              "      <td>0.2131</td>\n",
              "      <td>0.0693</td>\n",
              "      <td>0.2281</td>\n",
              "      <td>0.4060</td>\n",
              "      <td>0.3973</td>\n",
              "      <td>0.2741</td>\n",
              "      <td>0.3690</td>\n",
              "      <td>0.5556</td>\n",
              "      <td>0.4846</td>\n",
              "      <td>0.3140</td>\n",
              "      <td>0.5334</td>\n",
              "      <td>0.5256</td>\n",
              "      <td>0.2520</td>\n",
              "      <td>0.2090</td>\n",
              "      <td>0.3559</td>\n",
              "      <td>0.6260</td>\n",
              "      <td>0.7340</td>\n",
              "      <td>0.6120</td>\n",
              "      <td>0.3497</td>\n",
              "      <td>0.3953</td>\n",
              "      <td>0.3012</td>\n",
              "      <td>0.5408</td>\n",
              "      <td>0.8814</td>\n",
              "      <td>0.9857</td>\n",
              "      <td>0.9167</td>\n",
              "      <td>0.6121</td>\n",
              "      <td>0.5006</td>\n",
              "      <td>0.3210</td>\n",
              "      <td>0.3202</td>\n",
              "      <td>0.4295</td>\n",
              "      <td>0.3654</td>\n",
              "      <td>0.2655</td>\n",
              "      <td>0.1576</td>\n",
              "      <td>0.0681</td>\n",
              "      <td>0.0294</td>\n",
              "      <td>0.0241</td>\n",
              "      <td>0.0121</td>\n",
              "      <td>0.0036</td>\n",
              "      <td>0.0150</td>\n",
              "      <td>0.0085</td>\n",
              "      <td>0.0073</td>\n",
              "      <td>0.0050</td>\n",
              "      <td>0.0044</td>\n",
              "      <td>0.0040</td>\n",
              "      <td>0.0117</td>\n",
              "      <td>R</td>\n",
              "    </tr>\n",
              "    <tr>\n",
              "      <th>4</th>\n",
              "      <td>0.0762</td>\n",
              "      <td>0.0666</td>\n",
              "      <td>0.0481</td>\n",
              "      <td>0.0394</td>\n",
              "      <td>0.0590</td>\n",
              "      <td>0.0649</td>\n",
              "      <td>0.1209</td>\n",
              "      <td>0.2467</td>\n",
              "      <td>0.3564</td>\n",
              "      <td>0.4459</td>\n",
              "      <td>0.4152</td>\n",
              "      <td>0.3952</td>\n",
              "      <td>0.4256</td>\n",
              "      <td>0.4135</td>\n",
              "      <td>0.4528</td>\n",
              "      <td>0.5326</td>\n",
              "      <td>0.7306</td>\n",
              "      <td>0.6193</td>\n",
              "      <td>0.2032</td>\n",
              "      <td>0.4636</td>\n",
              "      <td>0.4148</td>\n",
              "      <td>0.4292</td>\n",
              "      <td>0.5730</td>\n",
              "      <td>0.5399</td>\n",
              "      <td>0.3161</td>\n",
              "      <td>0.2285</td>\n",
              "      <td>0.6995</td>\n",
              "      <td>1.0000</td>\n",
              "      <td>0.7262</td>\n",
              "      <td>0.4724</td>\n",
              "      <td>0.5103</td>\n",
              "      <td>0.5459</td>\n",
              "      <td>0.2881</td>\n",
              "      <td>0.0981</td>\n",
              "      <td>0.1951</td>\n",
              "      <td>0.4181</td>\n",
              "      <td>0.4604</td>\n",
              "      <td>0.3217</td>\n",
              "      <td>0.2828</td>\n",
              "      <td>0.2430</td>\n",
              "      <td>0.1979</td>\n",
              "      <td>0.2444</td>\n",
              "      <td>0.1847</td>\n",
              "      <td>0.0841</td>\n",
              "      <td>0.0692</td>\n",
              "      <td>0.0528</td>\n",
              "      <td>0.0357</td>\n",
              "      <td>0.0085</td>\n",
              "      <td>0.0230</td>\n",
              "      <td>0.0046</td>\n",
              "      <td>0.0156</td>\n",
              "      <td>0.0031</td>\n",
              "      <td>0.0054</td>\n",
              "      <td>0.0105</td>\n",
              "      <td>0.0110</td>\n",
              "      <td>0.0015</td>\n",
              "      <td>0.0072</td>\n",
              "      <td>0.0048</td>\n",
              "      <td>0.0107</td>\n",
              "      <td>0.0094</td>\n",
              "      <td>R</td>\n",
              "    </tr>\n",
              "  </tbody>\n",
              "</table>\n",
              "</div>"
            ],
            "text/plain": [
              "       0       1       2       3       4   ...      56      57      58      59  60\n",
              "0  0.0200  0.0371  0.0428  0.0207  0.0954  ...  0.0180  0.0084  0.0090  0.0032   R\n",
              "1  0.0453  0.0523  0.0843  0.0689  0.1183  ...  0.0140  0.0049  0.0052  0.0044   R\n",
              "2  0.0262  0.0582  0.1099  0.1083  0.0974  ...  0.0316  0.0164  0.0095  0.0078   R\n",
              "3  0.0100  0.0171  0.0623  0.0205  0.0205  ...  0.0050  0.0044  0.0040  0.0117   R\n",
              "4  0.0762  0.0666  0.0481  0.0394  0.0590  ...  0.0072  0.0048  0.0107  0.0094   R\n",
              "\n",
              "[5 rows x 61 columns]"
            ]
          },
          "metadata": {
            "tags": []
          },
          "execution_count": 3
        }
      ]
    },
    {
      "cell_type": "code",
      "metadata": {
        "id": "JC3SH_5E2Pbb",
        "colab": {
          "base_uri": "https://localhost:8080/",
          "height": 121
        },
        "outputId": "05bcb6f7-52b1-4900-a287-e878485039f9"
      },
      "source": [
        "data = sonarDF.values\n",
        "X = data[:,0:60].astype(float)\n",
        "Y = data[:,60]\n",
        "Y[Y=='R'] = '0'\n",
        "Y[Y=='M'] = '1'\n",
        "Y = Y.astype(int)"
      ],
      "execution_count": null,
      "outputs": [
        {
          "output_type": "stream",
          "text": [
            "[0 0 0 0 0 0 0 0 0 0 0 0 0 0 0 0 0 0 0 0 0 0 0 0 0 0 0 0 0 0 0 0 0 0 0 0 0\n",
            " 0 0 0 0 0 0 0 0 0 0 0 0 0 0 0 0 0 0 0 0 0 0 0 0 0 0 0 0 0 0 0 0 0 0 0 0 0\n",
            " 0 0 0 0 0 0 0 0 0 0 0 0 0 0 0 0 0 0 0 0 0 0 0 1 1 1 1 1 1 1 1 1 1 1 1 1 1\n",
            " 1 1 1 1 1 1 1 1 1 1 1 1 1 1 1 1 1 1 1 1 1 1 1 1 1 1 1 1 1 1 1 1 1 1 1 1 1\n",
            " 1 1 1 1 1 1 1 1 1 1 1 1 1 1 1 1 1 1 1 1 1 1 1 1 1 1 1 1 1 1 1 1 1 1 1 1 1\n",
            " 1 1 1 1 1 1 1 1 1 1 1 1 1 1 1 1 1 1 1 1 1 1 1]\n"
          ],
          "name": "stdout"
        }
      ]
    },
    {
      "cell_type": "code",
      "metadata": {
        "id": "ReIX4x8N2Pi7"
      },
      "source": [
        "X_train_val, X_test, y_train_val, y_test = train_test_split(X, Y, test_size=0.2, \n",
        "                                                            shuffle=True)"
      ],
      "execution_count": null,
      "outputs": []
    },
    {
      "cell_type": "code",
      "metadata": {
        "id": "c6eP3lLR2Pmp"
      },
      "source": [
        "train_size = 136\n",
        "\n",
        "X_train = X_train_val[:train_size]\n",
        "y_train = y_train_val[:train_size]\n",
        "X_val = X_train_val[train_size:]\n",
        "y_val = y_train_val[train_size:]"
      ],
      "execution_count": null,
      "outputs": []
    },
    {
      "cell_type": "code",
      "metadata": {
        "id": "DFQtrG7-t_WD",
        "colab": {
          "base_uri": "https://localhost:8080/",
          "height": 86
        },
        "outputId": "30c95dbe-f49e-4dc1-d775-f566a99fb6bd"
      },
      "source": [
        "mine_network = Sequential()\n",
        "\n",
        "mine_network.add(BatchNormalization(input_shape=(60,)))\n",
        "\n",
        "mine_network.add(Dropout(0.3))\n",
        "\n",
        "mine_network.add(Dense(60, activation='relu'))\n",
        "\n",
        "mine_network.add(Dropout(0.3))\n",
        "\n",
        "mine_network.add(Dense(50, activation='relu'))\n",
        "\n",
        "mine_network.add(Dropout(0.3))\n",
        "\n",
        "\n",
        "mine_network.add(BatchNormalization())\n",
        "\n",
        "mine_network.add(Dense(1, activation='sigmoid'))\n",
        "\n",
        "\n",
        "mine_network.compile(loss='binary_crossentropy', optimizer=Adam(lr=0.001), \n",
        "                     metrics=['accuracy'])\n",
        "\n",
        "history = mine_network.fit(X_train, \n",
        "                           y_train, \n",
        "                           batch_size=15, \n",
        "                           epochs=200,\n",
        "                           validation_data=(X_val, y_val), \n",
        "                           verbose=0)\n",
        "\n",
        "mine_score = mine_network.evaluate(X_test, y_test)\n",
        "print('проверочный', history.history['val_accuracy'][-1])\n",
        "print('обучающий', history.history['accuracy'][-1])\n",
        "print('тестовый', mine_score[1])"
      ],
      "execution_count": null,
      "outputs": [
        {
          "output_type": "stream",
          "text": [
            "2/2 [==============================] - 0s 3ms/step - loss: 0.2179 - accuracy: 0.9048\n",
            "проверочный 0.8999999761581421\n",
            "обучающий 0.9338235259056091\n",
            "тестовый 0.9047619104385376\n"
          ],
          "name": "stdout"
        }
      ]
    },
    {
      "cell_type": "code",
      "metadata": {
        "id": "oP2le8Afz5xd",
        "colab": {
          "base_uri": "https://localhost:8080/",
          "height": 541
        },
        "outputId": "06a3d28d-398f-47bc-a8c9-6aa7251606b4"
      },
      "source": [
        "plt.plot(history.history['accuracy'], \n",
        "         label='Доля верных ответов на обучающем наборе')\n",
        "plt.plot(history.history['val_accuracy'], \n",
        "         label='Доля верных ответов на проверочном наборе')\n",
        "plt.xlabel('Эпоха обучения')\n",
        "plt.ylabel('Доля верных ответов')\n",
        "plt.legend()\n",
        "plt.show()\n",
        "\n",
        "# Выводим графики ошибки\n",
        "plt.plot(history.history['loss'], \n",
        "         label='Ошибка на обучающем наборе')\n",
        "plt.plot(history.history['val_loss'], \n",
        "         label='Ошибка на проверочном наборе')\n",
        "plt.xlabel('Эпоха обучения')\n",
        "plt.ylabel('Ошибка')\n",
        "plt.legend()\n",
        "plt.show()"
      ],
      "execution_count": null,
      "outputs": [
        {
          "output_type": "display_data",
          "data": {
            "image/png": "[encoded data removed]",
            "text/plain": [
              "<Figure size 432x288 with 1 Axes>"
            ]
          },
          "metadata": {
            "tags": [],
            "needs_background": "light"
          }
        },
        {
          "output_type": "display_data",
          "data": {
            "image/png": "[encoded data removed]",
            "text/plain": [
              "<Figure size 432x288 with 1 Axes>"
            ]
          },
          "metadata": {
            "tags": [],
            "needs_background": "light"
          }
        }
      ]
    },
    {
      "cell_type": "markdown",
      "metadata": {
        "id": "Xg7zrCIvom2J"
      },
      "source": [
        "Модель для предсказания цены машины.\n"
      ]
    },
    {
      "cell_type": "code",
      "metadata": {
        "id": "jG7pL-j1omMw"
      },
      "source": [
        "cars = pd.read_csv('/content/drive/My Drive/Базы/cars_new.csv', sep=',')"
      ],
      "execution_count": null,
      "outputs": []
    },
    {
      "cell_type": "code",
      "metadata": {
        "id": "nVn-uNhsomIn"
      },
      "source": [
        "def create_dict(s):\n",
        "  ret = {}\n",
        "  for _id, name in enumerate(s):\n",
        "    ret.update({name: _id})\n",
        "  return ret\n",
        "\n",
        "def to_ohe(value, d):\n",
        "  arr = [0] * len(d)\n",
        "  arr[d[value]] = 1\n",
        "  return arr"
      ],
      "execution_count": null,
      "outputs": []
    },
    {
      "cell_type": "code",
      "metadata": {
        "id": "Jksgx0jNomGQ"
      },
      "source": [
        "marks_dict = create_dict(set(cars['mark']))\n",
        "models_dict = create_dict(set(cars['model']))\n",
        "bodies_dict = create_dict(set(cars['body']))\n",
        "kpps_dict = create_dict(set(cars['kpp']))\n",
        "fuels_dict = create_dict(set(cars['fuel']))\n",
        "\n",
        "prices = np.array(cars['price'], dtype=np.float)\n",
        "\n",
        "years = preprocessing.scale(cars['year'])\n",
        "mileages = preprocessing.scale(cars['mileage'])\n",
        "volumes = preprocessing.scale(cars['volume'])\n",
        "powers = preprocessing.scale(cars['power'])"
      ],
      "execution_count": null,
      "outputs": []
    },
    {
      "cell_type": "code",
      "metadata": {
        "id": "qVPtXXYgomEv",
        "colab": {
          "base_uri": "https://localhost:8080/",
          "height": 54
        },
        "outputId": "9c8a8c1d-9bb6-4796-ce1e-661b74f747d5"
      },
      "source": [
        "print(marks_dict)"
      ],
      "execution_count": null,
      "outputs": [
        {
          "output_type": "stream",
          "text": [
            "{'subaru': 0, 'mercedes-benz': 1, 'mazda': 2, 'audi': 3, 'honda': 4, 'kia': 5, 'opel': 6, 'nissan': 7, 'skoda': 8, 'chevrolet': 9, 'peugeot': 10, 'toyota': 11, 'ford': 12, 'suzuki': 13, 'renault': 14, 'bmw': 15, 'hyundai': 16, 'daewoo': 17, 'mitsubishi': 18, 'volkswagen': 19, 'chery': 20}\n"
          ],
          "name": "stdout"
        }
      ]
    },
    {
      "cell_type": "code",
      "metadata": {
        "id": "A2-ecTwlomCe"
      },
      "source": [
        "X = []\n",
        "y = []\n",
        "\n",
        "for _id, car in enumerate(np.array(cars)):\n",
        "  y.append(prices[_id])\n",
        "\n",
        "  x_tr = to_ohe(car[0], marks_dict) + \\\n",
        "        to_ohe(car[1], models_dict) + \\\n",
        "        to_ohe(car[5], bodies_dict) + \\\n",
        "        to_ohe(car[6], kpps_dict) + \\\n",
        "        to_ohe(car[7], fuels_dict) + \\\n",
        "        [years[_id]] + \\\n",
        "        [mileages[_id]] + \\\n",
        "        [volumes[_id]] + \\\n",
        "        [powers[_id]]\n",
        "\n",
        "  X.append(x_tr)\n",
        "\n",
        "X = np.array(X, dtype=np.float)\n",
        "y = np.array(y, dtype=np.float)"
      ],
      "execution_count": null,
      "outputs": []
    },
    {
      "cell_type": "code",
      "metadata": {
        "id": "iCjQlTtBomAj",
        "colab": {
          "base_uri": "https://localhost:8080/",
          "height": 52
        },
        "outputId": "8d401dd9-95f6-4712-f813-ff32ec9566ca"
      },
      "source": [
        "print(X.shape)\n",
        "print(y.shape)"
      ],
      "execution_count": null,
      "outputs": [
        {
          "output_type": "stream",
          "text": [
            "(70119, 3208)\n",
            "(70119,)\n"
          ],
          "name": "stdout"
        }
      ]
    },
    {
      "cell_type": "code",
      "metadata": {
        "id": "pnr-F_lNol_P",
        "colab": {
          "base_uri": "https://localhost:8080/",
          "height": 104
        },
        "outputId": "6b144f85-3c6f-4b58-af08-333cb01acf87"
      },
      "source": [
        "print(X[0,:20])\n",
        "print(X[0,-20:])"
      ],
      "execution_count": null,
      "outputs": [
        {
          "output_type": "stream",
          "text": [
            "[0. 0. 0. 0. 0. 0. 0. 0. 0. 1. 0. 0. 0. 0. 0. 0. 0. 0. 0. 0.]\n",
            "[ 0.          0.          0.          0.          0.          0.\n",
            "  0.          0.          0.          1.          0.          0.\n",
            "  0.          0.          1.          0.          1.5200145  -1.40018212\n",
            "  0.12288486  0.22905575]\n"
          ],
          "name": "stdout"
        }
      ]
    },
    {
      "cell_type": "code",
      "metadata": {
        "id": "Wc-OFKLlol81",
        "colab": {
          "base_uri": "https://localhost:8080/",
          "height": 52
        },
        "outputId": "86a84156-c15d-409b-f66b-199ed9b621a2"
      },
      "source": [
        "# Выводим y_train\n",
        "print(y[:10])"
      ],
      "execution_count": null,
      "outputs": [
        {
          "output_type": "stream",
          "text": [
            "[ 996000.  140200.  750000.  970000.  205000.  985000.  589000.  500000.\n",
            " 1320000.  270000.]\n"
          ],
          "name": "stdout"
        }
      ]
    },
    {
      "cell_type": "code",
      "metadata": {
        "id": "RuZ7lHCiol6y"
      },
      "source": [
        "y_scaler = StandardScaler()\n",
        "y_scaled = y_scaler.fit_transform(y.reshape(-1,1)).flatten()"
      ],
      "execution_count": null,
      "outputs": []
    },
    {
      "cell_type": "code",
      "metadata": {
        "id": "rluC3Bsxol4o",
        "colab": {
          "base_uri": "https://localhost:8080/",
          "height": 52
        },
        "outputId": "5763e3ca-a5ee-4d91-f115-74c693107374"
      },
      "source": [
        "y_scaled"
      ],
      "execution_count": null,
      "outputs": [
        {
          "output_type": "execute_result",
          "data": {
            "text/plain": [
              "array([ 0.75082432, -0.62135434,  0.3563911 , ...,  0.98171206,\n",
              "        0.03659554, -0.15669277])"
            ]
          },
          "metadata": {
            "tags": []
          },
          "execution_count": 46
        }
      ]
    },
    {
      "cell_type": "code",
      "metadata": {
        "id": "-Zh-EnAAYm8h",
        "colab": {
          "base_uri": "https://localhost:8080/",
          "height": 86
        },
        "outputId": "1a282d91-c250-45ed-8f6f-dc46fde524b8"
      },
      "source": [
        "# Выводим базовый и нормированный y_train\n",
        "print(y[:10])\n",
        "print(y_scaled[:10])"
      ],
      "execution_count": null,
      "outputs": [
        {
          "output_type": "stream",
          "text": [
            "[ 996000.  140200.  750000.  970000.  205000.  985000.  589000.  500000.\n",
            " 1320000.  270000.]\n",
            "[ 0.75082432 -0.62135434  0.3563911   0.70913625 -0.51745486  0.73318706\n",
            "  0.09824578 -0.04445567  1.27032173 -0.4132347 ]\n"
          ],
          "name": "stdout"
        }
      ]
    },
    {
      "cell_type": "code",
      "metadata": {
        "id": "rVOnME9GYnIT"
      },
      "source": [
        "percent_train = 0.9\n",
        "percent_test = 0.1\n",
        "\n",
        "train_size = int(round(len(y) * percent_train, 0))\n",
        "test_size = int(round(len(y) * percent_test, 0))\n",
        "\n",
        "X_train = X[:train_size]\n",
        "y_train = y_scaled[:train_size]\n",
        "X_test = X[-test_size:]\n",
        "y_test = y_scaled[-test_size:]"
      ],
      "execution_count": null,
      "outputs": []
    },
    {
      "cell_type": "code",
      "metadata": {
        "id": "kROqvm_kdBQx",
        "colab": {
          "base_uri": "https://localhost:8080/",
          "height": 52
        },
        "outputId": "d9e5f3c1-95e8-4160-db6d-3418e0efd3f3"
      },
      "source": [
        "y_train"
      ],
      "execution_count": null,
      "outputs": [
        {
          "output_type": "execute_result",
          "data": {
            "text/plain": [
              "array([ 0.75082432, -0.62135434,  0.3563911 , ...,  0.67706851,\n",
              "        0.65301771, -0.38116696])"
            ]
          },
          "metadata": {
            "tags": []
          },
          "execution_count": 48
        }
      ]
    },
    {
      "cell_type": "code",
      "metadata": {
        "id": "dDnJNEhTYnUk",
        "colab": {
          "base_uri": "https://localhost:8080/",
          "height": 1000
        },
        "outputId": "08352fd0-5074-4725-ba7f-834e564039e1"
      },
      "source": [
        "cars_network = Sequential()\n",
        "cars_network.add(Dense(3000, input_shape=(3208,), activation='linear'))\n",
        "cars_network.add(Dense(1500, activation='linear'))\n",
        "cars_network.add(Dense(800, activation='linear'))\n",
        "cars_network.add(Dense(1, activation='linear'))\n",
        "\n",
        "\n",
        "cars_network.compile(loss='mse', optimizer=Adam(lr=0.001), metrics=['mape'])\n",
        "\n",
        "history = cars_network.fit(X_train, \n",
        "                           y_train, \n",
        "                           batch_size=300, \n",
        "                           epochs=200,\n",
        "                           validation_split=0.1, \n",
        "                           verbose=1)\n",
        "\n"
      ],
      "execution_count": null,
      "outputs": [
        {
          "output_type": "stream",
          "text": [
            "Epoch 1/200\n",
            "190/190 [==============================] - 2s 9ms/step - loss: 0.5358 - mape: 209.5671 - val_loss: 0.3662 - val_mape: 198.2623\n",
            "Epoch 2/200\n",
            "190/190 [==============================] - 2s 8ms/step - loss: 0.2435 - mape: 149.3745 - val_loss: 0.3578 - val_mape: 133.9985\n",
            "Epoch 3/200\n",
            "190/190 [==============================] - 2s 9ms/step - loss: 0.2112 - mape: 141.2243 - val_loss: 0.2930 - val_mape: 146.7940\n",
            "Epoch 4/200\n",
            "190/190 [==============================] - 2s 8ms/step - loss: 0.1814 - mape: 133.3427 - val_loss: 0.2822 - val_mape: 138.3186\n",
            "Epoch 5/200\n",
            "190/190 [==============================] - 2s 8ms/step - loss: 0.1775 - mape: 129.0046 - val_loss: 0.2826 - val_mape: 152.7234\n",
            "Epoch 6/200\n",
            "190/190 [==============================] - 2s 8ms/step - loss: 0.1633 - mape: 131.1616 - val_loss: 0.2617 - val_mape: 169.5571\n",
            "Epoch 7/200\n",
            "190/190 [==============================] - 2s 9ms/step - loss: 0.1422 - mape: 117.8260 - val_loss: 0.2416 - val_mape: 144.4186\n",
            "Epoch 8/200\n",
            "190/190 [==============================] - 2s 8ms/step - loss: 0.1469 - mape: 120.9540 - val_loss: 0.2291 - val_mape: 149.2822\n",
            "Epoch 9/200\n",
            "190/190 [==============================] - 2s 8ms/step - loss: 0.1274 - mape: 113.2995 - val_loss: 0.2436 - val_mape: 156.4832\n",
            "Epoch 10/200\n",
            "190/190 [==============================] - 2s 8ms/step - loss: 0.1338 - mape: 113.8736 - val_loss: 0.2506 - val_mape: 187.9744\n",
            "Epoch 11/200\n",
            "190/190 [==============================] - 2s 8ms/step - loss: 0.1230 - mape: 115.2067 - val_loss: 0.2109 - val_mape: 130.6403\n",
            "Epoch 12/200\n",
            "190/190 [==============================] - 2s 8ms/step - loss: 0.1145 - mape: 109.8728 - val_loss: 0.1976 - val_mape: 153.2116\n",
            "Epoch 13/200\n",
            "190/190 [==============================] - 2s 8ms/step - loss: 0.1108 - mape: 104.4343 - val_loss: 0.1947 - val_mape: 136.7552\n",
            "Epoch 14/200\n",
            "190/190 [==============================] - 2s 8ms/step - loss: 0.1065 - mape: 101.8344 - val_loss: 0.2419 - val_mape: 180.5912\n",
            "Epoch 15/200\n",
            "190/190 [==============================] - 2s 8ms/step - loss: 0.1407 - mape: 128.3375 - val_loss: 0.2135 - val_mape: 122.3587\n",
            "Epoch 16/200\n",
            "190/190 [==============================] - 2s 8ms/step - loss: 0.1058 - mape: 100.2519 - val_loss: 0.2487 - val_mape: 216.8941\n",
            "Epoch 17/200\n",
            "190/190 [==============================] - 2s 8ms/step - loss: 0.1074 - mape: 107.8656 - val_loss: 0.1858 - val_mape: 156.8854\n",
            "Epoch 18/200\n",
            "190/190 [==============================] - 2s 8ms/step - loss: 0.1017 - mape: 106.2120 - val_loss: 0.1845 - val_mape: 144.9998\n",
            "Epoch 19/200\n",
            "190/190 [==============================] - 2s 8ms/step - loss: 0.1129 - mape: 108.6139 - val_loss: 0.2265 - val_mape: 142.5123\n",
            "Epoch 20/200\n",
            "190/190 [==============================] - 2s 8ms/step - loss: 0.1037 - mape: 104.7670 - val_loss: 0.2856 - val_mape: 242.1271\n",
            "Epoch 21/200\n",
            "190/190 [==============================] - 2s 8ms/step - loss: 0.1039 - mape: 109.1447 - val_loss: 0.1954 - val_mape: 141.0955\n",
            "Epoch 22/200\n",
            "190/190 [==============================] - 2s 8ms/step - loss: 0.0992 - mape: 100.1152 - val_loss: 0.2117 - val_mape: 145.6244\n",
            "Epoch 23/200\n",
            "190/190 [==============================] - 2s 8ms/step - loss: 0.1024 - mape: 106.6337 - val_loss: 0.1823 - val_mape: 139.3583\n",
            "Epoch 24/200\n",
            "190/190 [==============================] - 2s 8ms/step - loss: 0.1002 - mape: 104.0134 - val_loss: 0.1838 - val_mape: 153.6745\n",
            "Epoch 25/200\n",
            "190/190 [==============================] - 2s 8ms/step - loss: 0.1181 - mape: 120.1428 - val_loss: 0.1871 - val_mape: 146.5359\n",
            "Epoch 26/200\n",
            "190/190 [==============================] - 2s 8ms/step - loss: 0.1086 - mape: 107.0529 - val_loss: 0.1895 - val_mape: 164.8119\n",
            "Epoch 27/200\n",
            "190/190 [==============================] - 2s 8ms/step - loss: 0.1007 - mape: 103.8996 - val_loss: 0.1973 - val_mape: 163.4034\n",
            "Epoch 28/200\n",
            "190/190 [==============================] - 2s 8ms/step - loss: 0.1172 - mape: 109.5698 - val_loss: 0.1819 - val_mape: 133.2989\n",
            "Epoch 29/200\n",
            "190/190 [==============================] - 2s 8ms/step - loss: 0.0927 - mape: 97.2177 - val_loss: 0.1931 - val_mape: 133.9788\n",
            "Epoch 30/200\n",
            "190/190 [==============================] - 2s 8ms/step - loss: 0.1031 - mape: 106.8688 - val_loss: 0.1850 - val_mape: 150.2197\n",
            "Epoch 31/200\n",
            "190/190 [==============================] - 2s 8ms/step - loss: 0.0912 - mape: 95.5029 - val_loss: 0.3085 - val_mape: 219.5472\n",
            "Epoch 32/200\n",
            "190/190 [==============================] - 2s 8ms/step - loss: 0.1113 - mape: 114.1518 - val_loss: 0.1829 - val_mape: 150.5121\n",
            "Epoch 33/200\n",
            "190/190 [==============================] - 2s 8ms/step - loss: 0.0939 - mape: 103.9176 - val_loss: 0.1851 - val_mape: 135.3177\n",
            "Epoch 34/200\n",
            "190/190 [==============================] - 2s 8ms/step - loss: 0.0924 - mape: 97.4125 - val_loss: 0.1843 - val_mape: 141.4132\n",
            "Epoch 35/200\n",
            "190/190 [==============================] - 2s 8ms/step - loss: 0.0911 - mape: 97.0154 - val_loss: 0.2217 - val_mape: 155.9057\n",
            "Epoch 36/200\n",
            "190/190 [==============================] - 2s 8ms/step - loss: 0.8377 - mape: 272.7511 - val_loss: 4.1341 - val_mape: 1357.0031\n",
            "Epoch 37/200\n",
            "190/190 [==============================] - 2s 8ms/step - loss: 0.2999 - mape: 170.7654 - val_loss: 0.2314 - val_mape: 194.2295\n",
            "Epoch 38/200\n",
            "190/190 [==============================] - 2s 8ms/step - loss: 0.1090 - mape: 109.4043 - val_loss: 0.2079 - val_mape: 124.1632\n",
            "Epoch 39/200\n",
            "190/190 [==============================] - 2s 8ms/step - loss: 0.0954 - mape: 101.4286 - val_loss: 0.1827 - val_mape: 140.1889\n",
            "Epoch 40/200\n",
            "190/190 [==============================] - 2s 8ms/step - loss: 0.0966 - mape: 101.3570 - val_loss: 0.1887 - val_mape: 149.3797\n",
            "Epoch 41/200\n",
            "190/190 [==============================] - 2s 8ms/step - loss: 0.0922 - mape: 93.7999 - val_loss: 0.1807 - val_mape: 124.9192\n",
            "Epoch 42/200\n",
            "190/190 [==============================] - 2s 8ms/step - loss: 0.0855 - mape: 90.9829 - val_loss: 0.1813 - val_mape: 132.4651\n",
            "Epoch 43/200\n",
            "190/190 [==============================] - 2s 8ms/step - loss: 0.0828 - mape: 90.1878 - val_loss: 0.1853 - val_mape: 155.1611\n",
            "Epoch 44/200\n",
            "190/190 [==============================] - 2s 8ms/step - loss: 0.0796 - mape: 87.3279 - val_loss: 0.1801 - val_mape: 132.4108\n",
            "Epoch 45/200\n",
            "190/190 [==============================] - 2s 8ms/step - loss: 0.0876 - mape: 93.4371 - val_loss: 0.1843 - val_mape: 134.0654\n",
            "Epoch 46/200\n",
            "190/190 [==============================] - 2s 8ms/step - loss: 0.0863 - mape: 87.0535 - val_loss: 0.1845 - val_mape: 146.3900\n",
            "Epoch 47/200\n",
            "190/190 [==============================] - 2s 8ms/step - loss: 0.0844 - mape: 88.6842 - val_loss: 0.1913 - val_mape: 157.9833\n",
            "Epoch 48/200\n",
            "190/190 [==============================] - 2s 8ms/step - loss: 0.0890 - mape: 92.6219 - val_loss: 0.1841 - val_mape: 130.9803\n",
            "Epoch 49/200\n",
            "190/190 [==============================] - 2s 8ms/step - loss: 0.0857 - mape: 91.1018 - val_loss: 0.1934 - val_mape: 163.6335\n",
            "Epoch 50/200\n",
            "190/190 [==============================] - 2s 8ms/step - loss: 0.0862 - mape: 95.4256 - val_loss: 0.2088 - val_mape: 173.4510\n",
            "Epoch 51/200\n",
            "190/190 [==============================] - 2s 8ms/step - loss: 0.0878 - mape: 93.7478 - val_loss: 0.1969 - val_mape: 150.4200\n",
            "Epoch 52/200\n",
            "190/190 [==============================] - 2s 8ms/step - loss: 0.0824 - mape: 88.1807 - val_loss: 0.1900 - val_mape: 140.2647\n",
            "Epoch 53/200\n",
            "190/190 [==============================] - 2s 8ms/step - loss: 0.0805 - mape: 90.1091 - val_loss: 0.1849 - val_mape: 127.5860\n",
            "Epoch 54/200\n",
            "190/190 [==============================] - 2s 8ms/step - loss: 0.0814 - mape: 90.0654 - val_loss: 0.1871 - val_mape: 135.3747\n",
            "Epoch 55/200\n",
            "190/190 [==============================] - 2s 8ms/step - loss: 0.0808 - mape: 87.4840 - val_loss: 0.1814 - val_mape: 134.5130\n",
            "Epoch 56/200\n",
            "190/190 [==============================] - 2s 8ms/step - loss: 0.0902 - mape: 92.4374 - val_loss: 0.1839 - val_mape: 127.8629\n",
            "Epoch 57/200\n",
            "190/190 [==============================] - 2s 8ms/step - loss: 0.0813 - mape: 92.4663 - val_loss: 0.1890 - val_mape: 120.4823\n",
            "Epoch 58/200\n",
            "190/190 [==============================] - 2s 8ms/step - loss: 0.0785 - mape: 86.5084 - val_loss: 0.2029 - val_mape: 160.4492\n",
            "Epoch 59/200\n",
            "190/190 [==============================] - 2s 8ms/step - loss: 0.0840 - mape: 94.7293 - val_loss: 0.1844 - val_mape: 126.3638\n",
            "Epoch 60/200\n",
            "190/190 [==============================] - 2s 8ms/step - loss: 0.0848 - mape: 93.1035 - val_loss: 0.2079 - val_mape: 165.0040\n",
            "Epoch 61/200\n",
            "190/190 [==============================] - 2s 9ms/step - loss: 0.0872 - mape: 97.0345 - val_loss: 0.1859 - val_mape: 146.5479\n",
            "Epoch 62/200\n",
            "190/190 [==============================] - 2s 8ms/step - loss: 0.0747 - mape: 85.9652 - val_loss: 0.2135 - val_mape: 171.4234\n",
            "Epoch 63/200\n",
            "190/190 [==============================] - 2s 8ms/step - loss: 0.0874 - mape: 97.0536 - val_loss: 0.1849 - val_mape: 129.4211\n",
            "Epoch 64/200\n",
            "190/190 [==============================] - 2s 8ms/step - loss: 0.0836 - mape: 93.6464 - val_loss: 0.1860 - val_mape: 132.0185\n",
            "Epoch 65/200\n",
            "190/190 [==============================] - 2s 9ms/step - loss: 0.0853 - mape: 97.8767 - val_loss: 0.1881 - val_mape: 134.1195\n",
            "Epoch 66/200\n",
            "190/190 [==============================] - 2s 8ms/step - loss: 0.0866 - mape: 95.4215 - val_loss: 0.1929 - val_mape: 147.4420\n",
            "Epoch 67/200\n",
            "190/190 [==============================] - 2s 8ms/step - loss: 0.1040 - mape: 106.2096 - val_loss: 0.2562 - val_mape: 156.4484\n",
            "Epoch 68/200\n",
            "190/190 [==============================] - 2s 8ms/step - loss: 0.0986 - mape: 104.7805 - val_loss: 0.1916 - val_mape: 137.3527\n",
            "Epoch 69/200\n",
            "190/190 [==============================] - 2s 8ms/step - loss: 0.0792 - mape: 87.1309 - val_loss: 0.2055 - val_mape: 169.1683\n",
            "Epoch 70/200\n",
            "190/190 [==============================] - 2s 9ms/step - loss: 0.0775 - mape: 89.7906 - val_loss: 0.2497 - val_mape: 176.3317\n",
            "Epoch 71/200\n",
            "190/190 [==============================] - 2s 8ms/step - loss: 0.0890 - mape: 99.7201 - val_loss: 0.1970 - val_mape: 124.1943\n",
            "Epoch 72/200\n",
            "190/190 [==============================] - 2s 8ms/step - loss: 0.1327 - mape: 134.5838 - val_loss: 0.1899 - val_mape: 133.6025\n",
            "Epoch 73/200\n",
            "190/190 [==============================] - 2s 8ms/step - loss: 0.1471 - mape: 134.7592 - val_loss: 0.1799 - val_mape: 133.7275\n",
            "Epoch 74/200\n",
            "190/190 [==============================] - 2s 8ms/step - loss: 0.0811 - mape: 91.2936 - val_loss: 0.2040 - val_mape: 153.8188\n",
            "Epoch 75/200\n",
            "190/190 [==============================] - 2s 8ms/step - loss: 0.0754 - mape: 86.4786 - val_loss: 0.1796 - val_mape: 131.3785\n",
            "Epoch 76/200\n",
            "190/190 [==============================] - 2s 8ms/step - loss: 0.0753 - mape: 84.6798 - val_loss: 0.2018 - val_mape: 143.3461\n",
            "Epoch 77/200\n",
            "190/190 [==============================] - 2s 8ms/step - loss: 0.0766 - mape: 86.9166 - val_loss: 0.1894 - val_mape: 122.6989\n",
            "Epoch 78/200\n",
            "190/190 [==============================] - 2s 8ms/step - loss: 0.0809 - mape: 90.9076 - val_loss: 0.1858 - val_mape: 123.7144\n",
            "Epoch 79/200\n",
            "190/190 [==============================] - 2s 8ms/step - loss: 0.0798 - mape: 86.5259 - val_loss: 0.4587 - val_mape: 376.4751\n",
            "Epoch 80/200\n",
            "190/190 [==============================] - 2s 8ms/step - loss: 1.4192 - mape: 378.3234 - val_loss: 0.3922 - val_mape: 270.9708\n",
            "Epoch 81/200\n",
            "190/190 [==============================] - 2s 8ms/step - loss: 0.1304 - mape: 117.0563 - val_loss: 0.2007 - val_mape: 157.8077\n",
            "Epoch 82/200\n",
            "190/190 [==============================] - 2s 8ms/step - loss: 0.1081 - mape: 113.5019 - val_loss: 0.1856 - val_mape: 121.5621\n",
            "Epoch 83/200\n",
            "190/190 [==============================] - 2s 8ms/step - loss: 0.0720 - mape: 81.6870 - val_loss: 0.1824 - val_mape: 126.5364\n",
            "Epoch 84/200\n",
            "190/190 [==============================] - 2s 8ms/step - loss: 0.0710 - mape: 80.8780 - val_loss: 0.1863 - val_mape: 123.3156\n",
            "Epoch 85/200\n",
            "190/190 [==============================] - 2s 8ms/step - loss: 0.0686 - mape: 78.2059 - val_loss: 0.2174 - val_mape: 153.2784\n",
            "Epoch 86/200\n",
            "190/190 [==============================] - 2s 8ms/step - loss: 0.0747 - mape: 83.4220 - val_loss: 0.1842 - val_mape: 130.6087\n",
            "Epoch 87/200\n",
            "190/190 [==============================] - 2s 8ms/step - loss: 0.0723 - mape: 83.5723 - val_loss: 0.1925 - val_mape: 143.1684\n",
            "Epoch 88/200\n",
            "190/190 [==============================] - 2s 8ms/step - loss: 0.0699 - mape: 80.9146 - val_loss: 0.1917 - val_mape: 135.1995\n",
            "Epoch 89/200\n",
            "190/190 [==============================] - 2s 8ms/step - loss: 0.0728 - mape: 84.9686 - val_loss: 0.1823 - val_mape: 126.1135\n",
            "Epoch 90/200\n",
            "190/190 [==============================] - 2s 8ms/step - loss: 0.0710 - mape: 81.7509 - val_loss: 0.1954 - val_mape: 141.0386\n",
            "Epoch 91/200\n",
            "190/190 [==============================] - 2s 8ms/step - loss: 0.0734 - mape: 83.1103 - val_loss: 0.1843 - val_mape: 126.2991\n",
            "Epoch 92/200\n",
            "190/190 [==============================] - 2s 8ms/step - loss: 0.0694 - mape: 80.9151 - val_loss: 0.1863 - val_mape: 145.7350\n",
            "Epoch 93/200\n",
            "190/190 [==============================] - 2s 8ms/step - loss: 0.0715 - mape: 83.0613 - val_loss: 0.1810 - val_mape: 130.0484\n",
            "Epoch 94/200\n",
            "190/190 [==============================] - 2s 8ms/step - loss: 0.0705 - mape: 82.4578 - val_loss: 0.1855 - val_mape: 138.2980\n",
            "Epoch 95/200\n",
            "190/190 [==============================] - 2s 8ms/step - loss: 0.0698 - mape: 82.8633 - val_loss: 0.1966 - val_mape: 147.1077\n",
            "Epoch 96/200\n",
            "190/190 [==============================] - 2s 8ms/step - loss: 0.0735 - mape: 86.4731 - val_loss: 0.1852 - val_mape: 120.8557\n",
            "Epoch 97/200\n",
            "190/190 [==============================] - 2s 8ms/step - loss: 0.0745 - mape: 86.6233 - val_loss: 0.1902 - val_mape: 138.9922\n",
            "Epoch 98/200\n",
            "190/190 [==============================] - 2s 8ms/step - loss: 0.0719 - mape: 84.2764 - val_loss: 0.2207 - val_mape: 150.4434\n",
            "Epoch 99/200\n",
            "190/190 [==============================] - 2s 8ms/step - loss: 0.0763 - mape: 87.5196 - val_loss: 0.1849 - val_mape: 133.9904\n",
            "Epoch 100/200\n",
            "190/190 [==============================] - 2s 8ms/step - loss: 0.0732 - mape: 82.7913 - val_loss: 0.1885 - val_mape: 136.0645\n",
            "Epoch 101/200\n",
            "190/190 [==============================] - 2s 8ms/step - loss: 0.0787 - mape: 91.6669 - val_loss: 0.1919 - val_mape: 146.6617\n",
            "Epoch 102/200\n",
            "190/190 [==============================] - 2s 8ms/step - loss: 0.0725 - mape: 85.3696 - val_loss: 0.1895 - val_mape: 137.8794\n",
            "Epoch 103/200\n",
            "190/190 [==============================] - 2s 8ms/step - loss: 0.0931 - mape: 104.1445 - val_loss: 0.1875 - val_mape: 134.3584\n",
            "Epoch 104/200\n",
            "190/190 [==============================] - 2s 8ms/step - loss: 0.0734 - mape: 85.5904 - val_loss: 0.1865 - val_mape: 132.4592\n",
            "Epoch 105/200\n",
            "190/190 [==============================] - 2s 8ms/step - loss: 0.0724 - mape: 84.5473 - val_loss: 0.2111 - val_mape: 155.8894\n",
            "Epoch 106/200\n",
            "190/190 [==============================] - 2s 8ms/step - loss: 0.0905 - mape: 101.3218 - val_loss: 0.1977 - val_mape: 150.3071\n",
            "Epoch 107/200\n",
            "190/190 [==============================] - 2s 8ms/step - loss: 0.0737 - mape: 85.4650 - val_loss: 0.2120 - val_mape: 147.5025\n",
            "Epoch 108/200\n",
            "190/190 [==============================] - 2s 8ms/step - loss: 0.1129 - mape: 120.0584 - val_loss: 0.1964 - val_mape: 156.2488\n",
            "Epoch 109/200\n",
            "190/190 [==============================] - 2s 8ms/step - loss: 0.0875 - mape: 101.9464 - val_loss: 0.1894 - val_mape: 134.1511\n",
            "Epoch 110/200\n",
            "190/190 [==============================] - 2s 8ms/step - loss: 0.0861 - mape: 98.1332 - val_loss: 0.1997 - val_mape: 161.7001\n",
            "Epoch 111/200\n",
            "190/190 [==============================] - 2s 8ms/step - loss: 0.0818 - mape: 90.7080 - val_loss: 0.1992 - val_mape: 151.5908\n",
            "Epoch 112/200\n",
            "190/190 [==============================] - 2s 9ms/step - loss: 0.0816 - mape: 90.0219 - val_loss: 0.1866 - val_mape: 129.4405\n",
            "Epoch 113/200\n",
            "190/190 [==============================] - 2s 9ms/step - loss: 0.0763 - mape: 87.0613 - val_loss: 0.1836 - val_mape: 123.0685\n",
            "Epoch 114/200\n",
            "190/190 [==============================] - 2s 9ms/step - loss: 0.0706 - mape: 79.3610 - val_loss: 0.1828 - val_mape: 134.3331\n",
            "Epoch 115/200\n",
            "190/190 [==============================] - 2s 9ms/step - loss: 0.0790 - mape: 91.8762 - val_loss: 0.1941 - val_mape: 143.0312\n",
            "Epoch 116/200\n",
            "190/190 [==============================] - 2s 9ms/step - loss: 0.0883 - mape: 99.0627 - val_loss: 0.1861 - val_mape: 127.5731\n",
            "Epoch 117/200\n",
            "190/190 [==============================] - 2s 8ms/step - loss: 0.0783 - mape: 91.4033 - val_loss: 0.1938 - val_mape: 137.6640\n",
            "Epoch 118/200\n",
            "190/190 [==============================] - 2s 8ms/step - loss: 0.0764 - mape: 87.9430 - val_loss: 0.1934 - val_mape: 150.3625\n",
            "Epoch 119/200\n",
            "190/190 [==============================] - 2s 8ms/step - loss: 0.0791 - mape: 91.6669 - val_loss: 0.1879 - val_mape: 136.1897\n",
            "Epoch 120/200\n",
            "190/190 [==============================] - 2s 8ms/step - loss: 0.0757 - mape: 91.0485 - val_loss: 0.1880 - val_mape: 131.7991\n",
            "Epoch 121/200\n",
            "190/190 [==============================] - 2s 8ms/step - loss: 0.0728 - mape: 88.2517 - val_loss: 0.1856 - val_mape: 129.3397\n",
            "Epoch 122/200\n",
            "190/190 [==============================] - 2s 8ms/step - loss: 0.0854 - mape: 100.6832 - val_loss: 0.1857 - val_mape: 129.2701\n",
            "Epoch 123/200\n",
            "190/190 [==============================] - 2s 8ms/step - loss: 0.0691 - mape: 81.2405 - val_loss: 0.1827 - val_mape: 132.0622\n",
            "Epoch 124/200\n",
            "190/190 [==============================] - 2s 8ms/step - loss: 0.1016 - mape: 109.4184 - val_loss: 0.1923 - val_mape: 139.0849\n",
            "Epoch 125/200\n",
            "190/190 [==============================] - 2s 8ms/step - loss: 0.9635 - mape: 344.3790 - val_loss: 0.2037 - val_mape: 160.5368\n",
            "Epoch 126/200\n",
            "190/190 [==============================] - 2s 8ms/step - loss: 0.0929 - mape: 101.7956 - val_loss: 0.1917 - val_mape: 131.8441\n",
            "Epoch 127/200\n",
            "190/190 [==============================] - 2s 8ms/step - loss: 0.0767 - mape: 87.8504 - val_loss: 0.1870 - val_mape: 123.9004\n",
            "Epoch 128/200\n",
            "190/190 [==============================] - 2s 8ms/step - loss: 0.0757 - mape: 84.0859 - val_loss: 0.1850 - val_mape: 125.1012\n",
            "Epoch 129/200\n",
            "190/190 [==============================] - 2s 8ms/step - loss: 0.0728 - mape: 87.7559 - val_loss: 0.1890 - val_mape: 131.6591\n",
            "Epoch 130/200\n",
            "190/190 [==============================] - 2s 8ms/step - loss: 0.0697 - mape: 82.2623 - val_loss: 0.1912 - val_mape: 133.2953\n",
            "Epoch 131/200\n",
            "190/190 [==============================] - 2s 8ms/step - loss: 0.0711 - mape: 83.2611 - val_loss: 0.1860 - val_mape: 128.8987\n",
            "Epoch 132/200\n",
            "190/190 [==============================] - 2s 8ms/step - loss: 0.0713 - mape: 81.5209 - val_loss: 0.1914 - val_mape: 123.9294\n",
            "Epoch 133/200\n",
            "190/190 [==============================] - 2s 8ms/step - loss: 0.0704 - mape: 81.4123 - val_loss: 0.1907 - val_mape: 135.5524\n",
            "Epoch 134/200\n",
            "190/190 [==============================] - 2s 8ms/step - loss: 0.0679 - mape: 79.9751 - val_loss: 0.2055 - val_mape: 110.8516\n",
            "Epoch 135/200\n",
            "190/190 [==============================] - 2s 8ms/step - loss: 0.0689 - mape: 80.5900 - val_loss: 0.1892 - val_mape: 128.5492\n",
            "Epoch 136/200\n",
            "190/190 [==============================] - 2s 8ms/step - loss: 0.0679 - mape: 79.7034 - val_loss: 0.2050 - val_mape: 139.4651\n",
            "Epoch 137/200\n",
            "190/190 [==============================] - 2s 8ms/step - loss: 0.0770 - mape: 90.3210 - val_loss: 0.1947 - val_mape: 136.5871\n",
            "Epoch 138/200\n",
            "190/190 [==============================] - 2s 8ms/step - loss: 0.0715 - mape: 84.8970 - val_loss: 0.1894 - val_mape: 117.2212\n",
            "Epoch 139/200\n",
            "190/190 [==============================] - 2s 8ms/step - loss: 0.0696 - mape: 81.9304 - val_loss: 0.1954 - val_mape: 134.8905\n",
            "Epoch 140/200\n",
            "190/190 [==============================] - 2s 8ms/step - loss: 0.0721 - mape: 86.9373 - val_loss: 0.1879 - val_mape: 127.8585\n",
            "Epoch 141/200\n",
            "190/190 [==============================] - 2s 8ms/step - loss: 0.0759 - mape: 89.1155 - val_loss: 0.1904 - val_mape: 127.4973\n",
            "Epoch 142/200\n",
            "190/190 [==============================] - 2s 8ms/step - loss: 0.0711 - mape: 82.1308 - val_loss: 0.1889 - val_mape: 128.5549\n",
            "Epoch 143/200\n",
            "190/190 [==============================] - 2s 8ms/step - loss: 0.0773 - mape: 90.6688 - val_loss: 0.1886 - val_mape: 134.2877\n",
            "Epoch 144/200\n",
            "190/190 [==============================] - 2s 8ms/step - loss: 0.0746 - mape: 88.4453 - val_loss: 0.1922 - val_mape: 126.2876\n",
            "Epoch 145/200\n",
            "190/190 [==============================] - 2s 8ms/step - loss: 0.0793 - mape: 90.1277 - val_loss: 0.2150 - val_mape: 145.5862\n",
            "Epoch 146/200\n",
            "190/190 [==============================] - 2s 8ms/step - loss: 0.0715 - mape: 80.8861 - val_loss: 0.1885 - val_mape: 135.9818\n",
            "Epoch 147/200\n",
            "190/190 [==============================] - 2s 8ms/step - loss: 0.0700 - mape: 81.9398 - val_loss: 0.1884 - val_mape: 139.9319\n",
            "Epoch 148/200\n",
            "190/190 [==============================] - 2s 8ms/step - loss: 0.0757 - mape: 89.2791 - val_loss: 0.1858 - val_mape: 121.2334\n",
            "Epoch 149/200\n",
            "190/190 [==============================] - 2s 8ms/step - loss: 0.0753 - mape: 87.0221 - val_loss: 0.1926 - val_mape: 130.3522\n",
            "Epoch 150/200\n",
            "190/190 [==============================] - 2s 8ms/step - loss: 0.0674 - mape: 79.2974 - val_loss: 0.2000 - val_mape: 130.7261\n",
            "Epoch 151/200\n",
            "190/190 [==============================] - 2s 8ms/step - loss: 0.0780 - mape: 90.4290 - val_loss: 0.1959 - val_mape: 124.4633\n",
            "Epoch 152/200\n",
            "190/190 [==============================] - 2s 8ms/step - loss: 0.0821 - mape: 99.0035 - val_loss: 0.1987 - val_mape: 154.9861\n",
            "Epoch 153/200\n",
            "190/190 [==============================] - 2s 8ms/step - loss: 0.0761 - mape: 87.3704 - val_loss: 0.1868 - val_mape: 127.4629\n",
            "Epoch 154/200\n",
            "190/190 [==============================] - 2s 8ms/step - loss: 0.2822 - mape: 170.9738 - val_loss: 0.4258 - val_mape: 268.9113\n",
            "Epoch 155/200\n",
            "190/190 [==============================] - 2s 8ms/step - loss: 0.1207 - mape: 122.9694 - val_loss: 0.1880 - val_mape: 123.6820\n",
            "Epoch 156/200\n",
            "190/190 [==============================] - 2s 8ms/step - loss: 0.0897 - mape: 98.0846 - val_loss: 0.2913 - val_mape: 189.4087\n",
            "Epoch 157/200\n",
            "190/190 [==============================] - 2s 8ms/step - loss: 0.0818 - mape: 91.6303 - val_loss: 0.1879 - val_mape: 121.3171\n",
            "Epoch 158/200\n",
            "190/190 [==============================] - 2s 8ms/step - loss: 0.0688 - mape: 79.4497 - val_loss: 0.2095 - val_mape: 145.2748\n",
            "Epoch 159/200\n",
            "190/190 [==============================] - 2s 8ms/step - loss: 0.1370 - mape: 121.2733 - val_loss: 0.2110 - val_mape: 137.6117\n",
            "Epoch 160/200\n",
            "190/190 [==============================] - 2s 8ms/step - loss: 0.0778 - mape: 85.2706 - val_loss: 0.1859 - val_mape: 127.2947\n",
            "Epoch 161/200\n",
            "190/190 [==============================] - 2s 8ms/step - loss: 0.0694 - mape: 80.1249 - val_loss: 0.1886 - val_mape: 131.1355\n",
            "Epoch 162/200\n",
            "190/190 [==============================] - 2s 8ms/step - loss: 0.0703 - mape: 77.4528 - val_loss: 0.1806 - val_mape: 127.3235\n",
            "Epoch 163/200\n",
            "190/190 [==============================] - 2s 8ms/step - loss: 0.0686 - mape: 77.9150 - val_loss: 0.1848 - val_mape: 124.4513\n",
            "Epoch 164/200\n",
            "190/190 [==============================] - 2s 8ms/step - loss: 0.0671 - mape: 77.4150 - val_loss: 0.1827 - val_mape: 121.8882\n",
            "Epoch 165/200\n",
            "190/190 [==============================] - 2s 8ms/step - loss: 0.0699 - mape: 78.7746 - val_loss: 0.1897 - val_mape: 135.0936\n",
            "Epoch 166/200\n",
            "190/190 [==============================] - 2s 8ms/step - loss: 0.0672 - mape: 76.5910 - val_loss: 0.1965 - val_mape: 125.9088\n",
            "Epoch 167/200\n",
            "190/190 [==============================] - 2s 8ms/step - loss: 0.0718 - mape: 83.7781 - val_loss: 0.1948 - val_mape: 138.4986\n",
            "Epoch 168/200\n",
            "190/190 [==============================] - 2s 8ms/step - loss: 0.0749 - mape: 83.4575 - val_loss: 0.1916 - val_mape: 144.1280\n",
            "Epoch 169/200\n",
            "190/190 [==============================] - 2s 8ms/step - loss: 0.0794 - mape: 91.7191 - val_loss: 0.1950 - val_mape: 142.1320\n",
            "Epoch 170/200\n",
            "190/190 [==============================] - 2s 8ms/step - loss: 0.0729 - mape: 84.8894 - val_loss: 0.1827 - val_mape: 123.8529\n",
            "Epoch 171/200\n",
            "190/190 [==============================] - 2s 8ms/step - loss: 0.0681 - mape: 80.4231 - val_loss: 0.2395 - val_mape: 157.3904\n",
            "Epoch 172/200\n",
            "190/190 [==============================] - 2s 8ms/step - loss: 0.0978 - mape: 102.3472 - val_loss: 0.2119 - val_mape: 174.3909\n",
            "Epoch 173/200\n",
            "190/190 [==============================] - 2s 8ms/step - loss: 0.0758 - mape: 93.0141 - val_loss: 0.1871 - val_mape: 126.9077\n",
            "Epoch 174/200\n",
            "190/190 [==============================] - 2s 8ms/step - loss: 0.0709 - mape: 86.5370 - val_loss: 0.1805 - val_mape: 127.6767\n",
            "Epoch 175/200\n",
            "190/190 [==============================] - 2s 8ms/step - loss: 0.2001 - mape: 144.0777 - val_loss: 0.2365 - val_mape: 236.3022\n",
            "Epoch 176/200\n",
            "190/190 [==============================] - 2s 8ms/step - loss: 0.0883 - mape: 97.5167 - val_loss: 0.1870 - val_mape: 135.0068\n",
            "Epoch 177/200\n",
            "190/190 [==============================] - 2s 8ms/step - loss: 0.0717 - mape: 84.8831 - val_loss: 0.1959 - val_mape: 145.5769\n",
            "Epoch 178/200\n",
            "190/190 [==============================] - 2s 8ms/step - loss: 0.1323 - mape: 127.1645 - val_loss: 0.2171 - val_mape: 182.6680\n",
            "Epoch 179/200\n",
            "190/190 [==============================] - 2s 8ms/step - loss: 0.1009 - mape: 102.7075 - val_loss: 2.0138 - val_mape: 532.1433\n",
            "Epoch 180/200\n",
            "190/190 [==============================] - 2s 8ms/step - loss: 0.0880 - mape: 98.0488 - val_loss: 0.2104 - val_mape: 153.4602\n",
            "Epoch 181/200\n",
            "190/190 [==============================] - 2s 8ms/step - loss: 0.0810 - mape: 89.2348 - val_loss: 0.1973 - val_mape: 128.6334\n",
            "Epoch 182/200\n",
            "190/190 [==============================] - 2s 8ms/step - loss: 0.0707 - mape: 79.8381 - val_loss: 0.1813 - val_mape: 127.1825\n",
            "Epoch 183/200\n",
            "190/190 [==============================] - 2s 8ms/step - loss: 0.0691 - mape: 82.2887 - val_loss: 0.1865 - val_mape: 122.9787\n",
            "Epoch 184/200\n",
            "190/190 [==============================] - 2s 8ms/step - loss: 0.0754 - mape: 84.4754 - val_loss: 0.1822 - val_mape: 124.6037\n",
            "Epoch 185/200\n",
            "190/190 [==============================] - 2s 8ms/step - loss: 0.0661 - mape: 76.5740 - val_loss: 0.2000 - val_mape: 130.4726\n",
            "Epoch 186/200\n",
            "190/190 [==============================] - 2s 8ms/step - loss: 0.0688 - mape: 82.3081 - val_loss: 0.2126 - val_mape: 136.0782\n",
            "Epoch 187/200\n",
            "190/190 [==============================] - 2s 8ms/step - loss: 0.0714 - mape: 82.9284 - val_loss: 0.1903 - val_mape: 127.8506\n",
            "Epoch 188/200\n",
            "190/190 [==============================] - 2s 8ms/step - loss: 0.0689 - mape: 81.0679 - val_loss: 0.2184 - val_mape: 139.7129\n",
            "Epoch 189/200\n",
            "190/190 [==============================] - 2s 8ms/step - loss: 0.0755 - mape: 87.6301 - val_loss: 0.1827 - val_mape: 128.1518\n",
            "Epoch 190/200\n",
            "190/190 [==============================] - 2s 8ms/step - loss: 0.0887 - mape: 100.8765 - val_loss: 0.1897 - val_mape: 131.7631\n",
            "Epoch 191/200\n",
            "190/190 [==============================] - 2s 8ms/step - loss: 0.0959 - mape: 99.8944 - val_loss: 0.2216 - val_mape: 150.2441\n",
            "Epoch 192/200\n",
            "190/190 [==============================] - 2s 8ms/step - loss: 0.1035 - mape: 102.3164 - val_loss: 0.1883 - val_mape: 141.6936\n",
            "Epoch 193/200\n",
            "190/190 [==============================] - 2s 8ms/step - loss: 0.2184 - mape: 154.3911 - val_loss: 0.1937 - val_mape: 134.3905\n",
            "Epoch 194/200\n",
            "190/190 [==============================] - 2s 8ms/step - loss: 0.0765 - mape: 89.7990 - val_loss: 0.1853 - val_mape: 136.1018\n",
            "Epoch 195/200\n",
            "190/190 [==============================] - 2s 8ms/step - loss: 0.0691 - mape: 80.7891 - val_loss: 0.1823 - val_mape: 126.0189\n",
            "Epoch 196/200\n",
            "190/190 [==============================] - 2s 8ms/step - loss: 0.0731 - mape: 86.9762 - val_loss: 0.1811 - val_mape: 125.5587\n",
            "Epoch 197/200\n",
            "190/190 [==============================] - 2s 8ms/step - loss: 0.0686 - mape: 79.0109 - val_loss: 0.1848 - val_mape: 118.0969\n",
            "Epoch 198/200\n",
            "190/190 [==============================] - 2s 8ms/step - loss: 0.0910 - mape: 101.8597 - val_loss: 0.1910 - val_mape: 147.0103\n",
            "Epoch 199/200\n",
            "190/190 [==============================] - 2s 8ms/step - loss: 0.0752 - mape: 87.5231 - val_loss: 0.1979 - val_mape: 153.7715\n",
            "Epoch 200/200\n",
            "190/190 [==============================] - 2s 8ms/step - loss: 0.0748 - mape: 85.2940 - val_loss: 0.1804 - val_mape: 131.5444\n"
          ],
          "name": "stdout"
        }
      ]
    },
    {
      "cell_type": "code",
      "metadata": {
        "id": "22s61qdF1NiQ"
      },
      "source": [
        "predict = cars_network.predict(X_test)\n",
        "predict_inverse = y_scaler.inverse_transform(predict).flatten()"
      ],
      "execution_count": null,
      "outputs": []
    },
    {
      "cell_type": "code",
      "metadata": {
        "id": "2cAMjBr41mCy"
      },
      "source": [
        "y_testReal = y[-test_size:]\n",
        "y_trainReal = y[:train_size]"
      ],
      "execution_count": null,
      "outputs": []
    },
    {
      "cell_type": "code",
      "metadata": {
        "id": "qTjMkhyx0CbL",
        "colab": {
          "base_uri": "https://localhost:8080/",
          "height": 69
        },
        "outputId": "d580a220-ff10-4dae-f002-ab006a3a248e"
      },
      "source": [
        "delta = y_testReal - predict_inverse\n",
        "abs_delta = abs(delta)\n",
        "mean_delta = sum(abs_delta)/len(abs_delta)\n",
        "mean_price = sum(y_trainReal)/len(y_trainReal)\n",
        "print(\"Средняя ошибка: \", round(mean_delta))\n",
        "print(\"Средняя цена: \", round(mean_price))\n",
        "print(\"Процент ошибки: \", round(100*mean_delta / mean_price), \"%\", sep=\"\")"
      ],
      "execution_count": null,
      "outputs": [
        {
          "output_type": "stream",
          "text": [
            "Средняя ошибка:  96059.0\n",
            "Средняя цена:  527557.0\n",
            "Процент ошибки: 18.0%\n"
          ],
          "name": "stdout"
        }
      ]
    }
  ]
}