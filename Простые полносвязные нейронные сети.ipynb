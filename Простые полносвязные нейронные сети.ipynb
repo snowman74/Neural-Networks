{
  "nbformat": 4,
  "nbformat_minor": 0,
  "metadata": {
    "colab": {
      "name": "Домашнее задание №14",
      "provenance": [],
      "collapsed_sections": [],
      "mount_file_id": "1PWSmVvUAQ6HkZKYO9RwqUYr6bnHwA0Fx",
      "authorship_tag": "ABX9TyNlp2gYsO6Hs8wrljJ0QZgH",
      "include_colab_link": true
    },
    "kernelspec": {
      "name": "python3",
      "display_name": "Python 3"
    },
    "accelerator": "GPU"
  },
  "cells": [
    {
      "cell_type": "markdown",
      "metadata": {
        "id": "view-in-github",
        "colab_type": "text"
      },
      "source": [
        "<a href=\"https://colab.research.google.com/github/snowman74/Neural-Networks/blob/main/%D0%9F%D1%80%D0%BE%D1%81%D1%82%D1%8B%D0%B5%20%D0%BF%D0%BE%D0%BB%D0%BD%D0%BE%D1%81%D0%B2%D1%8F%D0%B7%D0%BD%D1%8B%D0%B5%20%D0%BD%D0%B5%D0%B9%D1%80%D0%BE%D0%BD%D0%BD%D1%8B%D0%B5%20%D1%81%D0%B5%D1%82%D0%B8.ipynb\" target=\"_parent\"><img src=\"https://colab.research.google.com/assets/colab-badge.svg\" alt=\"Open In Colab\"/></a>"
      ]
    },
    {
      "cell_type": "code",
      "metadata": {
        "id": "tSp2A1JSTKEt"
      },
      "source": [
        "# импорт библиотек\n",
        "from tensorflow.keras.datasets import mnist\n",
        "from tensorflow.keras.models import Sequential\n",
        "from tensorflow.keras.layers import Dense\n",
        "from tensorflow.keras.optimizers import Adam\n",
        "from tensorflow.keras import utils\n",
        "from tensorflow.keras.preprocessing import image\n",
        "import numpy as np\n",
        "import pylab\n",
        "from google.colab import files\n",
        "import matplotlib.pyplot as plt\n",
        "from PIL import Image\n",
        "from skimage.transform import resize\n",
        "from PIL import ImageOps\n",
        "\n",
        "%matplotlib inline"
      ],
      "execution_count": null,
      "outputs": []
    },
    {
      "cell_type": "code",
      "metadata": {
        "id": "7lXxt8CGz896"
      },
      "source": [
        "# создание модели нейросети\n",
        "model = Sequential()\n",
        "model.add(Dense(800, input_dim = 784, activation='relu'))\n",
        "model.add(Dense(400, activation='relu'))\n",
        "model.add(Dense(10, activation='softmax'))"
      ],
      "execution_count": null,
      "outputs": []
    },
    {
      "cell_type": "code",
      "metadata": {
        "id": "oqTsRvp30VdG",
        "colab": {
          "base_uri": "https://localhost:8080/",
          "height": 260
        },
        "outputId": "d7f7b993-4a8a-4417-a748-8f7cae840219"
      },
      "source": [
        "# описание\n",
        "model.summary()"
      ],
      "execution_count": null,
      "outputs": [
        {
          "output_type": "stream",
          "text": [
            "Model: \"sequential\"\n",
            "_________________________________________________________________\n",
            "Layer (type)                 Output Shape              Param #   \n",
            "=================================================================\n",
            "dense (Dense)                (None, 800)               628000    \n",
            "_________________________________________________________________\n",
            "dense_1 (Dense)              (None, 400)               320400    \n",
            "_________________________________________________________________\n",
            "dense_2 (Dense)              (None, 10)                4010      \n",
            "=================================================================\n",
            "Total params: 952,410\n",
            "Trainable params: 952,410\n",
            "Non-trainable params: 0\n",
            "_________________________________________________________________\n"
          ],
          "name": "stdout"
        }
      ]
    },
    {
      "cell_type": "code",
      "metadata": {
        "id": "iU2XcB8j0jHo",
        "colab": {
          "base_uri": "https://localhost:8080/",
          "height": 52
        },
        "outputId": "64969dbf-18ae-4649-b70e-caaedfe14af2"
      },
      "source": [
        "# загрузка базы данных mnist\n",
        "(x_train_orig, y_train_orig), (x_test_orig, y_test_orig) = mnist.load_data()"
      ],
      "execution_count": null,
      "outputs": [
        {
          "output_type": "stream",
          "text": [
            "Downloading data from https://storage.googleapis.com/tensorflow/tf-keras-datasets/mnist.npz\n",
            "11493376/11490434 [==============================] - 0s 0us/step\n"
          ],
          "name": "stdout"
        }
      ]
    },
    {
      "cell_type": "code",
      "metadata": {
        "id": "jswuj4Gi0jPQ",
        "colab": {
          "base_uri": "https://localhost:8080/",
          "height": 265
        },
        "outputId": "8b98fa7f-65e6-464f-df33-1d573ea01608"
      },
      "source": [
        "# смотрим что внутри\n",
        "plt.imshow(Image.fromarray(x_train_orig[1873]))\n",
        "plt.show()"
      ],
      "execution_count": null,
      "outputs": [
        {
          "output_type": "display_data",
          "data": {
            "image/png": "[encoded data removed]",
            "text/plain": [
              "<Figure size 432x288 with 1 Axes>"
            ]
          },
          "metadata": {
            "tags": [],
            "needs_background": "light"
          }
        }
      ]
    },
    {
      "cell_type": "code",
      "metadata": {
        "id": "sHl3nI0n0jUd",
        "colab": {
          "base_uri": "https://localhost:8080/",
          "height": 34
        },
        "outputId": "ca53c3d8-c892-413b-ae91-0f28426216c1"
      },
      "source": [
        "# смотрим что нарисовано на картинке\n",
        "y_train_orig[1873]"
      ],
      "execution_count": null,
      "outputs": [
        {
          "output_type": "execute_result",
          "data": {
            "text/plain": [
              "8"
            ]
          },
          "metadata": {
            "tags": []
          },
          "execution_count": 8
        }
      ]
    },
    {
      "cell_type": "code",
      "metadata": {
        "id": "ETPsf_260jY3",
        "colab": {
          "base_uri": "https://localhost:8080/",
          "height": 52
        },
        "outputId": "f3271968-e4ee-488c-f61b-0c01b0e30594"
      },
      "source": [
        "# переводим в формат 784*1\n",
        "x_train = x_train_orig.reshape(60000, 784)\n",
        "x_test = x_test_orig.reshape(10000, 784)\n",
        "print(x_train_orig.shape)\n",
        "print(x_train.shape)"
      ],
      "execution_count": null,
      "outputs": [
        {
          "output_type": "stream",
          "text": [
            "(60000, 28, 28)\n",
            "(60000, 784)\n"
          ],
          "name": "stdout"
        }
      ]
    },
    {
      "cell_type": "code",
      "metadata": {
        "id": "TEuERkE_1RX2"
      },
      "source": [
        "# нормализуем входные данные\n",
        "x_train = x_train.astype('float32')\n",
        "x_train = x_train / 255\n",
        "x_test = x_test.astype('float32')\n",
        "x_test = x_test / 255"
      ],
      "execution_count": null,
      "outputs": []
    },
    {
      "cell_type": "code",
      "metadata": {
        "id": "icRKLHI-1Rbq",
        "colab": {
          "base_uri": "https://localhost:8080/",
          "height": 34
        },
        "outputId": "7b10e163-49c2-4bd7-dda3-ba78ebdb3598"
      },
      "source": [
        "# преобразуем ответы в формат one_hot_encoding\n",
        "y_train = utils.to_categorical(y_train_orig, 10)\n",
        "y_test = utils.to_categorical(y_test_orig, 10)\n",
        "print(y_train.shape)"
      ],
      "execution_count": null,
      "outputs": [
        {
          "output_type": "stream",
          "text": [
            "(60000, 10)\n"
          ],
          "name": "stdout"
        }
      ]
    },
    {
      "cell_type": "code",
      "metadata": {
        "id": "im29T90F1Rjw",
        "colab": {
          "base_uri": "https://localhost:8080/",
          "height": 278
        },
        "outputId": "255d4169-5981-4a78-9a9b-87184ce27dba"
      },
      "source": [
        "model.compile(loss='categorical_crossentropy', optimizer='adam', metrics=['accuracy'])\n",
        "print(model.summary())"
      ],
      "execution_count": null,
      "outputs": [
        {
          "output_type": "stream",
          "text": [
            "Model: \"sequential\"\n",
            "_________________________________________________________________\n",
            "Layer (type)                 Output Shape              Param #   \n",
            "=================================================================\n",
            "dense (Dense)                (None, 800)               628000    \n",
            "_________________________________________________________________\n",
            "dense_1 (Dense)              (None, 400)               320400    \n",
            "_________________________________________________________________\n",
            "dense_2 (Dense)              (None, 10)                4010      \n",
            "=================================================================\n",
            "Total params: 952,410\n",
            "Trainable params: 952,410\n",
            "Non-trainable params: 0\n",
            "_________________________________________________________________\n",
            "None\n"
          ],
          "name": "stdout"
        }
      ]
    },
    {
      "cell_type": "code",
      "metadata": {
        "id": "cMANH9dK1Rnz",
        "colab": {
          "base_uri": "https://localhost:8080/",
          "height": 555
        },
        "outputId": "de45dd40-e22c-4c26-d5a0-bf0bf45fd01a"
      },
      "source": [
        "model.fit(x_train, y_train, batch_size=128, epochs=15, verbose=1)"
      ],
      "execution_count": null,
      "outputs": [
        {
          "output_type": "stream",
          "text": [
            "Epoch 1/15\n",
            "469/469 [==============================] - 1s 2ms/step - loss: 0.2087 - accuracy: 0.9379\n",
            "Epoch 2/15\n",
            "469/469 [==============================] - 1s 2ms/step - loss: 0.0776 - accuracy: 0.9759\n",
            "Epoch 3/15\n",
            "469/469 [==============================] - 1s 2ms/step - loss: 0.0491 - accuracy: 0.9848\n",
            "Epoch 4/15\n",
            "469/469 [==============================] - 1s 2ms/step - loss: 0.0351 - accuracy: 0.9887\n",
            "Epoch 5/15\n",
            "469/469 [==============================] - 1s 2ms/step - loss: 0.0266 - accuracy: 0.9915\n",
            "Epoch 6/15\n",
            "469/469 [==============================] - 1s 2ms/step - loss: 0.0215 - accuracy: 0.9929\n",
            "Epoch 7/15\n",
            "469/469 [==============================] - 1s 2ms/step - loss: 0.0169 - accuracy: 0.9942\n",
            "Epoch 8/15\n",
            "469/469 [==============================] - 1s 2ms/step - loss: 0.0157 - accuracy: 0.9949\n",
            "Epoch 9/15\n",
            "469/469 [==============================] - 1s 2ms/step - loss: 0.0137 - accuracy: 0.9954\n",
            "Epoch 10/15\n",
            "469/469 [==============================] - 1s 2ms/step - loss: 0.0133 - accuracy: 0.9955\n",
            "Epoch 11/15\n",
            "469/469 [==============================] - 1s 2ms/step - loss: 0.0119 - accuracy: 0.9961\n",
            "Epoch 12/15\n",
            "469/469 [==============================] - 1s 2ms/step - loss: 0.0128 - accuracy: 0.9957\n",
            "Epoch 13/15\n",
            "469/469 [==============================] - 1s 2ms/step - loss: 0.0090 - accuracy: 0.9970\n",
            "Epoch 14/15\n",
            "469/469 [==============================] - 1s 2ms/step - loss: 0.0113 - accuracy: 0.9965\n",
            "Epoch 15/15\n",
            "469/469 [==============================] - 1s 2ms/step - loss: 0.0104 - accuracy: 0.9965\n"
          ],
          "name": "stdout"
        },
        {
          "output_type": "execute_result",
          "data": {
            "text/plain": [
              "<tensorflow.python.keras.callbacks.History at 0x7f6bf5aca860>"
            ]
          },
          "metadata": {
            "tags": []
          },
          "execution_count": 13
        }
      ]
    },
    {
      "cell_type": "code",
      "metadata": {
        "id": "T-IPlKkL1Rv3",
        "colab": {
          "base_uri": "https://localhost:8080/",
          "height": 265
        },
        "outputId": "4042a91f-5e51-4852-e48c-c3527cf71b3e"
      },
      "source": [
        "n = 770\n",
        "plt.imshow(Image.fromarray(x_test_orig[n]).convert('RGBA'))\n",
        "plt.show()"
      ],
      "execution_count": null,
      "outputs": [
        {
          "output_type": "display_data",
          "data": {
            "image/png": "[encoded data removed]",
            "text/plain": [
              "<Figure size 432x288 with 1 Axes>"
            ]
          },
          "metadata": {
            "tags": [],
            "needs_background": "light"
          }
        }
      ]
    },
    {
      "cell_type": "code",
      "metadata": {
        "id": "Bf0xfw0P1RtG",
        "colab": {
          "base_uri": "https://localhost:8080/",
          "height": 34
        },
        "outputId": "70e8fb7e-9afc-4652-f041-2a33e250e38a"
      },
      "source": [
        "x = x_test[n]\n",
        "print(x.shape)"
      ],
      "execution_count": null,
      "outputs": [
        {
          "output_type": "stream",
          "text": [
            "(784,)\n"
          ],
          "name": "stdout"
        }
      ]
    },
    {
      "cell_type": "code",
      "metadata": {
        "id": "HHEELFxi1Rgh",
        "colab": {
          "base_uri": "https://localhost:8080/",
          "height": 34
        },
        "outputId": "e5ac855b-c4db-40d5-a566-aec1f033f25d"
      },
      "source": [
        "x = np.expand_dims(x, axis=0)\n",
        "print(x.shape)"
      ],
      "execution_count": null,
      "outputs": [
        {
          "output_type": "stream",
          "text": [
            "(1, 784)\n"
          ],
          "name": "stdout"
        }
      ]
    },
    {
      "cell_type": "code",
      "metadata": {
        "id": "k_KKxjL60jdx",
        "colab": {
          "base_uri": "https://localhost:8080/",
          "height": 69
        },
        "outputId": "139ca929-525c-496c-ac2b-3a017ec46f83"
      },
      "source": [
        "prediction = model.predict(x)\n",
        "print(prediction)\n",
        "print(np.argmax(prediction))"
      ],
      "execution_count": null,
      "outputs": [
        {
          "output_type": "stream",
          "text": [
            "[[6.7761504e-17 6.8157475e-14 1.1161186e-12 1.7209748e-18 1.0000000e+00\n",
            "  7.5432933e-18 1.1007861e-13 5.9349349e-17 1.1262178e-17 1.6474867e-14]]\n",
            "4\n"
          ],
          "name": "stdout"
        }
      ]
    },
    {
      "cell_type": "code",
      "metadata": {
        "id": "fT-roAqF0jh7",
        "colab": {
          "base_uri": "https://localhost:8080/",
          "height": 34
        },
        "outputId": "2d0ecac8-27c3-4dc9-d026-7afbdcaba806"
      },
      "source": [
        "print(y_test_orig[n])"
      ],
      "execution_count": null,
      "outputs": [
        {
          "output_type": "stream",
          "text": [
            "6\n"
          ],
          "name": "stdout"
        }
      ]
    },
    {
      "cell_type": "markdown",
      "metadata": {
        "id": "cg5PNBH59T-x"
      },
      "source": [
        "# Играемся с параметрами"
      ]
    },
    {
      "cell_type": "markdown",
      "metadata": {
        "id": "qvMl_GRc6mrt"
      },
      "source": [
        "**Вариант 2**\n",
        "Проведите серию экспериментов по перебору гиперпараметров нейронной сети, созданной на занятии.\n",
        "  1. Поменяйте количество нейронов в сети, используя следующие значения:\n",
        "\n",
        "      один слой 10 нейронов\n",
        "\n",
        "      один слой 100 нейронов\n",
        "\n",
        "      один слой 5000 нейронов\n",
        "\n",
        "  2. Поменяйте активационную функцию в скрытых слоях с relu на linear.\n",
        "  3. Поменяйте размеры batch_size:\n",
        "\n",
        "      1\n",
        "\n",
        "      10\n",
        "\n",
        "      100\n",
        "\n",
        "      Вся база (60000)\n",
        "\n",
        "  4. Запишите в таблицу получившиеся точности.\n",
        "  5. Напишите выводы по результатам проведенных тестов."
      ]
    },
    {
      "cell_type": "code",
      "metadata": {
        "id": "gQjS4hFR6mTP"
      },
      "source": [
        "# для начала изменим размер второго слоя (поставим 10)\n",
        "model_10 = Sequential()\n",
        "model_10.add(Dense(800, input_dim = 784, activation='relu'))\n",
        "model_10.add(Dense(10, activation='relu'))\n",
        "model_10.add(Dense(10, activation='softmax'))\n",
        "model_10.compile(loss='categorical_crossentropy', optimizer='adam', metrics=['accuracy'])"
      ],
      "execution_count": null,
      "outputs": []
    },
    {
      "cell_type": "code",
      "metadata": {
        "id": "gezWf3n90jmj",
        "colab": {
          "base_uri": "https://localhost:8080/",
          "height": 555
        },
        "outputId": "ac2306e2-ceaf-4c84-b200-9a5796b460f3"
      },
      "source": [
        "model_10.fit(x_train, y_train, batch_size=128, epochs=15, verbose=1)"
      ],
      "execution_count": null,
      "outputs": [
        {
          "output_type": "stream",
          "text": [
            "Epoch 1/15\n",
            "469/469 [==============================] - 2s 4ms/step - loss: 0.3708 - accuracy: 0.8943\n",
            "Epoch 2/15\n",
            "469/469 [==============================] - 2s 4ms/step - loss: 0.1157 - accuracy: 0.9672\n",
            "Epoch 3/15\n",
            "469/469 [==============================] - 2s 4ms/step - loss: 0.0742 - accuracy: 0.9779\n",
            "Epoch 4/15\n",
            "469/469 [==============================] - 2s 5ms/step - loss: 0.0504 - accuracy: 0.9845\n",
            "Epoch 5/15\n",
            "469/469 [==============================] - 2s 4ms/step - loss: 0.0365 - accuracy: 0.9887\n",
            "Epoch 6/15\n",
            "469/469 [==============================] - 2s 4ms/step - loss: 0.0272 - accuracy: 0.9917\n",
            "Epoch 7/15\n",
            "469/469 [==============================] - 2s 4ms/step - loss: 0.0213 - accuracy: 0.9934\n",
            "Epoch 8/15\n",
            "469/469 [==============================] - 2s 4ms/step - loss: 0.0165 - accuracy: 0.9951\n",
            "Epoch 9/15\n",
            "469/469 [==============================] - 2s 4ms/step - loss: 0.0132 - accuracy: 0.9961\n",
            "Epoch 10/15\n",
            "469/469 [==============================] - 2s 4ms/step - loss: 0.0099 - accuracy: 0.9973\n",
            "Epoch 11/15\n",
            "469/469 [==============================] - 2s 4ms/step - loss: 0.0105 - accuracy: 0.9967\n",
            "Epoch 12/15\n",
            "469/469 [==============================] - 2s 4ms/step - loss: 0.0081 - accuracy: 0.9975\n",
            "Epoch 13/15\n",
            "469/469 [==============================] - 2s 4ms/step - loss: 0.0100 - accuracy: 0.9968\n",
            "Epoch 14/15\n",
            "469/469 [==============================] - 2s 4ms/step - loss: 0.0065 - accuracy: 0.9980\n",
            "Epoch 15/15\n",
            "469/469 [==============================] - 2s 4ms/step - loss: 0.0111 - accuracy: 0.9962\n"
          ],
          "name": "stdout"
        },
        {
          "output_type": "execute_result",
          "data": {
            "text/plain": [
              "<tensorflow.python.keras.callbacks.History at 0x7fed800e1da0>"
            ]
          },
          "metadata": {
            "tags": []
          },
          "execution_count": 60
        }
      ]
    },
    {
      "cell_type": "code",
      "metadata": {
        "id": "HDu6O76087ec"
      },
      "source": [
        "import pandas as pd"
      ],
      "execution_count": null,
      "outputs": []
    },
    {
      "cell_type": "code",
      "metadata": {
        "id": "cju5vg1h6lKq"
      },
      "source": [
        "conclusion = pd.DataFrame(index=['10 нейронов', '100 нейронов', '5000 нейронов',\n",
        "                                 'функция активации linear', 'batch_size=1',\n",
        "                                 'batch_size=10', 'batch_size=60000'], columns=['Точность'])\n",
        "conclusion.iloc[0, 0] = 0.9962"
      ],
      "execution_count": null,
      "outputs": []
    },
    {
      "cell_type": "code",
      "metadata": {
        "id": "JinHgfGj6lSE",
        "colab": {
          "base_uri": "https://localhost:8080/",
          "height": 269
        },
        "outputId": "65cbb405-9213-43bf-b4b6-788c17f2b6af"
      },
      "source": [
        "conclusion"
      ],
      "execution_count": null,
      "outputs": [
        {
          "output_type": "execute_result",
          "data": {
            "text/html": [
              "<div>\n",
              "<style scoped>\n",
              "    .dataframe tbody tr th:only-of-type {\n",
              "        vertical-align: middle;\n",
              "    }\n",
              "\n",
              "    .dataframe tbody tr th {\n",
              "        vertical-align: top;\n",
              "    }\n",
              "\n",
              "    .dataframe thead th {\n",
              "        text-align: right;\n",
              "    }\n",
              "</style>\n",
              "<table border=\"1\" class=\"dataframe\">\n",
              "  <thead>\n",
              "    <tr style=\"text-align: right;\">\n",
              "      <th></th>\n",
              "      <th>Точность</th>\n",
              "    </tr>\n",
              "  </thead>\n",
              "  <tbody>\n",
              "    <tr>\n",
              "      <th>10 нейронов</th>\n",
              "      <td>0.9967</td>\n",
              "    </tr>\n",
              "    <tr>\n",
              "      <th>100 нейронов</th>\n",
              "      <td>NaN</td>\n",
              "    </tr>\n",
              "    <tr>\n",
              "      <th>5000 нейронов</th>\n",
              "      <td>NaN</td>\n",
              "    </tr>\n",
              "    <tr>\n",
              "      <th>функция активации linear</th>\n",
              "      <td>NaN</td>\n",
              "    </tr>\n",
              "    <tr>\n",
              "      <th>batch_size=1</th>\n",
              "      <td>NaN</td>\n",
              "    </tr>\n",
              "    <tr>\n",
              "      <th>batch_size=10</th>\n",
              "      <td>NaN</td>\n",
              "    </tr>\n",
              "    <tr>\n",
              "      <th>batch_size=60000</th>\n",
              "      <td>NaN</td>\n",
              "    </tr>\n",
              "  </tbody>\n",
              "</table>\n",
              "</div>"
            ],
            "text/plain": [
              "                         Точность\n",
              "10 нейронов                0.9967\n",
              "100 нейронов                  NaN\n",
              "5000 нейронов                 NaN\n",
              "функция активации linear      NaN\n",
              "batch_size=1                  NaN\n",
              "batch_size=10                 NaN\n",
              "batch_size=60000              NaN"
            ]
          },
          "metadata": {
            "tags": []
          },
          "execution_count": 44
        }
      ]
    },
    {
      "cell_type": "code",
      "metadata": {
        "id": "MS2vFj3F-VWk"
      },
      "source": [
        "# для второго слоя поставим 100 нейронов\n",
        "model_100 = Sequential()\n",
        "model_100.add(Dense(800, input_dim = 784, activation='relu'))\n",
        "model_100.add(Dense(100, activation='relu'))\n",
        "model_100.add(Dense(10, activation='softmax'))\n",
        "model_100.compile(loss='categorical_crossentropy', optimizer='adam', metrics=['accuracy'])"
      ],
      "execution_count": null,
      "outputs": []
    },
    {
      "cell_type": "code",
      "metadata": {
        "id": "jaKwRvju-VXC",
        "colab": {
          "base_uri": "https://localhost:8080/",
          "height": 555
        },
        "outputId": "e3260d23-79a5-4a72-8813-e6203830ed75"
      },
      "source": [
        "model_100.fit(x_train, y_train, batch_size=128, epochs=15, verbose=1)"
      ],
      "execution_count": null,
      "outputs": [
        {
          "output_type": "stream",
          "text": [
            "Epoch 1/15\n",
            "469/469 [==============================] - 2s 4ms/step - loss: 0.2284 - accuracy: 0.9335\n",
            "Epoch 2/15\n",
            "469/469 [==============================] - 2s 4ms/step - loss: 0.0830 - accuracy: 0.9746\n",
            "Epoch 3/15\n",
            "469/469 [==============================] - 2s 4ms/step - loss: 0.0532 - accuracy: 0.9831\n",
            "Epoch 4/15\n",
            "469/469 [==============================] - 2s 4ms/step - loss: 0.0369 - accuracy: 0.9883\n",
            "Epoch 5/15\n",
            "469/469 [==============================] - 2s 4ms/step - loss: 0.0262 - accuracy: 0.9914\n",
            "Epoch 6/15\n",
            "469/469 [==============================] - 2s 4ms/step - loss: 0.0207 - accuracy: 0.9934\n",
            "Epoch 7/15\n",
            "469/469 [==============================] - 2s 4ms/step - loss: 0.0157 - accuracy: 0.9948\n",
            "Epoch 8/15\n",
            "469/469 [==============================] - 2s 4ms/step - loss: 0.0137 - accuracy: 0.9957\n",
            "Epoch 9/15\n",
            "469/469 [==============================] - 2s 4ms/step - loss: 0.0133 - accuracy: 0.9953\n",
            "Epoch 10/15\n",
            "469/469 [==============================] - 2s 4ms/step - loss: 0.0129 - accuracy: 0.9956\n",
            "Epoch 11/15\n",
            "469/469 [==============================] - 2s 4ms/step - loss: 0.0105 - accuracy: 0.9966\n",
            "Epoch 12/15\n",
            "469/469 [==============================] - 2s 4ms/step - loss: 0.0124 - accuracy: 0.9959\n",
            "Epoch 13/15\n",
            "469/469 [==============================] - 2s 4ms/step - loss: 0.0080 - accuracy: 0.9975\n",
            "Epoch 14/15\n",
            "469/469 [==============================] - 2s 4ms/step - loss: 0.0079 - accuracy: 0.9974\n",
            "Epoch 15/15\n",
            "469/469 [==============================] - 2s 4ms/step - loss: 0.0103 - accuracy: 0.9968\n"
          ],
          "name": "stdout"
        },
        {
          "output_type": "execute_result",
          "data": {
            "text/plain": [
              "<tensorflow.python.keras.callbacks.History at 0x7fed292e3ba8>"
            ]
          },
          "metadata": {
            "tags": []
          },
          "execution_count": 57
        }
      ]
    },
    {
      "cell_type": "code",
      "metadata": {
        "id": "-LlEGoQY6lZ1",
        "colab": {
          "base_uri": "https://localhost:8080/",
          "height": 269
        },
        "outputId": "77ff9df2-83f5-4d2d-8507-3da99494a185"
      },
      "source": [
        "conclusion.iloc[1, 0] = 0.9968\n",
        "conclusion"
      ],
      "execution_count": null,
      "outputs": [
        {
          "output_type": "execute_result",
          "data": {
            "text/html": [
              "<div>\n",
              "<style scoped>\n",
              "    .dataframe tbody tr th:only-of-type {\n",
              "        vertical-align: middle;\n",
              "    }\n",
              "\n",
              "    .dataframe tbody tr th {\n",
              "        vertical-align: top;\n",
              "    }\n",
              "\n",
              "    .dataframe thead th {\n",
              "        text-align: right;\n",
              "    }\n",
              "</style>\n",
              "<table border=\"1\" class=\"dataframe\">\n",
              "  <thead>\n",
              "    <tr style=\"text-align: right;\">\n",
              "      <th></th>\n",
              "      <th>Точность</th>\n",
              "    </tr>\n",
              "  </thead>\n",
              "  <tbody>\n",
              "    <tr>\n",
              "      <th>10 нейронов</th>\n",
              "      <td>0.9962</td>\n",
              "    </tr>\n",
              "    <tr>\n",
              "      <th>100 нейронов</th>\n",
              "      <td>0.9968</td>\n",
              "    </tr>\n",
              "    <tr>\n",
              "      <th>5000 нейронов</th>\n",
              "      <td>NaN</td>\n",
              "    </tr>\n",
              "    <tr>\n",
              "      <th>функция активации linear</th>\n",
              "      <td>NaN</td>\n",
              "    </tr>\n",
              "    <tr>\n",
              "      <th>batch_size=1</th>\n",
              "      <td>NaN</td>\n",
              "    </tr>\n",
              "    <tr>\n",
              "      <th>batch_size=10</th>\n",
              "      <td>NaN</td>\n",
              "    </tr>\n",
              "    <tr>\n",
              "      <th>batch_size=60000</th>\n",
              "      <td>NaN</td>\n",
              "    </tr>\n",
              "  </tbody>\n",
              "</table>\n",
              "</div>"
            ],
            "text/plain": [
              "                         Точность\n",
              "10 нейронов                0.9962\n",
              "100 нейронов               0.9968\n",
              "5000 нейронов                 NaN\n",
              "функция активации linear      NaN\n",
              "batch_size=1                  NaN\n",
              "batch_size=10                 NaN\n",
              "batch_size=60000              NaN"
            ]
          },
          "metadata": {
            "tags": []
          },
          "execution_count": 62
        }
      ]
    },
    {
      "cell_type": "code",
      "metadata": {
        "id": "8MCEqrEa6lfE"
      },
      "source": [
        "# для второго слоя поставим 5000 нейронов\n",
        "model_5000 = Sequential()\n",
        "model_5000.add(Dense(800, input_dim = 784, activation='relu'))\n",
        "model_5000.add(Dense(5000, activation='relu'))\n",
        "model_5000.add(Dense(10, activation='softmax'))\n",
        "model_5000.compile(loss='categorical_crossentropy', optimizer='adam', metrics=['accuracy'])"
      ],
      "execution_count": null,
      "outputs": []
    },
    {
      "cell_type": "code",
      "metadata": {
        "id": "b6LNa9fP6lXV",
        "colab": {
          "base_uri": "https://localhost:8080/",
          "height": 555
        },
        "outputId": "8900874a-33bb-4f61-e014-3e009a394b01"
      },
      "source": [
        "model_5000.fit(x_train, y_train, batch_size=128, epochs=15, verbose=1)"
      ],
      "execution_count": null,
      "outputs": [
        {
          "output_type": "stream",
          "text": [
            "Epoch 1/15\n",
            "469/469 [==============================] - 3s 7ms/step - loss: 0.1854 - accuracy: 0.9432\n",
            "Epoch 2/15\n",
            "469/469 [==============================] - 3s 7ms/step - loss: 0.0740 - accuracy: 0.9765\n",
            "Epoch 3/15\n",
            "469/469 [==============================] - 3s 7ms/step - loss: 0.0512 - accuracy: 0.9835\n",
            "Epoch 4/15\n",
            "469/469 [==============================] - 3s 7ms/step - loss: 0.0375 - accuracy: 0.9881\n",
            "Epoch 5/15\n",
            "469/469 [==============================] - 3s 7ms/step - loss: 0.0292 - accuracy: 0.9906\n",
            "Epoch 6/15\n",
            "469/469 [==============================] - 3s 7ms/step - loss: 0.0295 - accuracy: 0.9907\n",
            "Epoch 7/15\n",
            "469/469 [==============================] - 3s 7ms/step - loss: 0.0204 - accuracy: 0.9934\n",
            "Epoch 8/15\n",
            "469/469 [==============================] - 3s 7ms/step - loss: 0.0247 - accuracy: 0.9920\n",
            "Epoch 9/15\n",
            "469/469 [==============================] - 3s 7ms/step - loss: 0.0199 - accuracy: 0.9938\n",
            "Epoch 10/15\n",
            "469/469 [==============================] - 3s 7ms/step - loss: 0.0205 - accuracy: 0.9934\n",
            "Epoch 11/15\n",
            "469/469 [==============================] - 3s 7ms/step - loss: 0.0160 - accuracy: 0.9950\n",
            "Epoch 12/15\n",
            "469/469 [==============================] - 3s 7ms/step - loss: 0.0164 - accuracy: 0.9952\n",
            "Epoch 13/15\n",
            "469/469 [==============================] - 3s 7ms/step - loss: 0.0136 - accuracy: 0.9961\n",
            "Epoch 14/15\n",
            "469/469 [==============================] - 3s 7ms/step - loss: 0.0153 - accuracy: 0.9954\n",
            "Epoch 15/15\n",
            "469/469 [==============================] - 3s 7ms/step - loss: 0.0131 - accuracy: 0.9961\n"
          ],
          "name": "stdout"
        },
        {
          "output_type": "execute_result",
          "data": {
            "text/plain": [
              "<tensorflow.python.keras.callbacks.History at 0x7fed29b7bfd0>"
            ]
          },
          "metadata": {
            "tags": []
          },
          "execution_count": 53
        }
      ]
    },
    {
      "cell_type": "code",
      "metadata": {
        "id": "-_799grR6lOq",
        "colab": {
          "base_uri": "https://localhost:8080/",
          "height": 269
        },
        "outputId": "32c14f08-ceef-4277-e1fd-14f3688fabf9"
      },
      "source": [
        "conclusion.iloc[2, 0] = 0.9961\n",
        "conclusion"
      ],
      "execution_count": null,
      "outputs": [
        {
          "output_type": "execute_result",
          "data": {
            "text/html": [
              "<div>\n",
              "<style scoped>\n",
              "    .dataframe tbody tr th:only-of-type {\n",
              "        vertical-align: middle;\n",
              "    }\n",
              "\n",
              "    .dataframe tbody tr th {\n",
              "        vertical-align: top;\n",
              "    }\n",
              "\n",
              "    .dataframe thead th {\n",
              "        text-align: right;\n",
              "    }\n",
              "</style>\n",
              "<table border=\"1\" class=\"dataframe\">\n",
              "  <thead>\n",
              "    <tr style=\"text-align: right;\">\n",
              "      <th></th>\n",
              "      <th>Точность</th>\n",
              "    </tr>\n",
              "  </thead>\n",
              "  <tbody>\n",
              "    <tr>\n",
              "      <th>10 нейронов</th>\n",
              "      <td>0.9962</td>\n",
              "    </tr>\n",
              "    <tr>\n",
              "      <th>100 нейронов</th>\n",
              "      <td>0.9968</td>\n",
              "    </tr>\n",
              "    <tr>\n",
              "      <th>5000 нейронов</th>\n",
              "      <td>0.9961</td>\n",
              "    </tr>\n",
              "    <tr>\n",
              "      <th>функция активации linear</th>\n",
              "      <td>NaN</td>\n",
              "    </tr>\n",
              "    <tr>\n",
              "      <th>batch_size=1</th>\n",
              "      <td>NaN</td>\n",
              "    </tr>\n",
              "    <tr>\n",
              "      <th>batch_size=10</th>\n",
              "      <td>NaN</td>\n",
              "    </tr>\n",
              "    <tr>\n",
              "      <th>batch_size=60000</th>\n",
              "      <td>NaN</td>\n",
              "    </tr>\n",
              "  </tbody>\n",
              "</table>\n",
              "</div>"
            ],
            "text/plain": [
              "                         Точность\n",
              "10 нейронов                0.9962\n",
              "100 нейронов               0.9968\n",
              "5000 нейронов              0.9961\n",
              "функция активации linear      NaN\n",
              "batch_size=1                  NaN\n",
              "batch_size=10                 NaN\n",
              "batch_size=60000              NaN"
            ]
          },
          "metadata": {
            "tags": []
          },
          "execution_count": 63
        }
      ]
    },
    {
      "cell_type": "code",
      "metadata": {
        "id": "ZXIW6SKg0jr4",
        "colab": {
          "base_uri": "https://localhost:8080/",
          "height": 555
        },
        "outputId": "9e9cc594-1b6b-46bb-c086-c82129c0f787"
      },
      "source": [
        "# для второго слоя поставим 5000 нейронов\n",
        "model_linear = Sequential()\n",
        "model_linear.add(Dense(800, input_dim = 784, activation='linear'))\n",
        "model_linear.add(Dense(5000, activation='linear'))\n",
        "model_linear.add(Dense(10, activation='linear'))\n",
        "model_linear.compile(loss='categorical_crossentropy', optimizer='adam', metrics=['accuracy'])\n",
        "model.fit(x_train, y_train, batch_size=128, epochs=15, verbose=1)"
      ],
      "execution_count": null,
      "outputs": [
        {
          "output_type": "stream",
          "text": [
            "Epoch 1/15\n",
            "469/469 [==============================] - 2s 4ms/step - loss: 9.5753e-07 - accuracy: 1.0000\n",
            "Epoch 2/15\n",
            "469/469 [==============================] - 2s 4ms/step - loss: 7.7809e-07 - accuracy: 1.0000\n",
            "Epoch 3/15\n",
            "469/469 [==============================] - 2s 4ms/step - loss: 6.2011e-07 - accuracy: 1.0000\n",
            "Epoch 4/15\n",
            "469/469 [==============================] - 2s 4ms/step - loss: 4.8719e-07 - accuracy: 1.0000\n",
            "Epoch 5/15\n",
            "469/469 [==============================] - 2s 4ms/step - loss: 3.9460e-07 - accuracy: 1.0000\n",
            "Epoch 6/15\n",
            "469/469 [==============================] - 2s 4ms/step - loss: 3.2049e-07 - accuracy: 1.0000\n",
            "Epoch 7/15\n",
            "469/469 [==============================] - 2s 4ms/step - loss: 2.6194e-07 - accuracy: 1.0000\n",
            "Epoch 8/15\n",
            "469/469 [==============================] - 2s 4ms/step - loss: 2.1821e-07 - accuracy: 1.0000\n",
            "Epoch 9/15\n",
            "469/469 [==============================] - 2s 4ms/step - loss: 1.7962e-07 - accuracy: 1.0000\n",
            "Epoch 10/15\n",
            "469/469 [==============================] - 2s 4ms/step - loss: 1.4171e-07 - accuracy: 1.0000\n",
            "Epoch 11/15\n",
            "469/469 [==============================] - 2s 4ms/step - loss: 1.1374e-07 - accuracy: 1.0000\n",
            "Epoch 12/15\n",
            "469/469 [==============================] - 2s 4ms/step - loss: 9.5552e-08 - accuracy: 1.0000\n",
            "Epoch 13/15\n",
            "469/469 [==============================] - 2s 4ms/step - loss: 7.7228e-08 - accuracy: 1.0000\n",
            "Epoch 14/15\n",
            "469/469 [==============================] - 2s 4ms/step - loss: 6.3707e-08 - accuracy: 1.0000\n",
            "Epoch 15/15\n",
            "469/469 [==============================] - 2s 4ms/step - loss: 5.6400e-08 - accuracy: 1.0000\n"
          ],
          "name": "stdout"
        },
        {
          "output_type": "execute_result",
          "data": {
            "text/plain": [
              "<tensorflow.python.keras.callbacks.History at 0x7fed2ca407b8>"
            ]
          },
          "metadata": {
            "tags": []
          },
          "execution_count": 64
        }
      ]
    },
    {
      "cell_type": "code",
      "metadata": {
        "id": "wY2uAtCtCIlJ",
        "colab": {
          "base_uri": "https://localhost:8080/",
          "height": 269
        },
        "outputId": "dd6c0d0c-1176-4113-ac34-64a304afbb5a"
      },
      "source": [
        "conclusion.iloc[3, 0] = 1.000\n",
        "conclusion"
      ],
      "execution_count": null,
      "outputs": [
        {
          "output_type": "execute_result",
          "data": {
            "text/html": [
              "<div>\n",
              "<style scoped>\n",
              "    .dataframe tbody tr th:only-of-type {\n",
              "        vertical-align: middle;\n",
              "    }\n",
              "\n",
              "    .dataframe tbody tr th {\n",
              "        vertical-align: top;\n",
              "    }\n",
              "\n",
              "    .dataframe thead th {\n",
              "        text-align: right;\n",
              "    }\n",
              "</style>\n",
              "<table border=\"1\" class=\"dataframe\">\n",
              "  <thead>\n",
              "    <tr style=\"text-align: right;\">\n",
              "      <th></th>\n",
              "      <th>Точность</th>\n",
              "    </tr>\n",
              "  </thead>\n",
              "  <tbody>\n",
              "    <tr>\n",
              "      <th>10 нейронов</th>\n",
              "      <td>0.9962</td>\n",
              "    </tr>\n",
              "    <tr>\n",
              "      <th>100 нейронов</th>\n",
              "      <td>0.9968</td>\n",
              "    </tr>\n",
              "    <tr>\n",
              "      <th>5000 нейронов</th>\n",
              "      <td>0.9961</td>\n",
              "    </tr>\n",
              "    <tr>\n",
              "      <th>функция активации linear</th>\n",
              "      <td>1</td>\n",
              "    </tr>\n",
              "    <tr>\n",
              "      <th>batch_size=1</th>\n",
              "      <td>NaN</td>\n",
              "    </tr>\n",
              "    <tr>\n",
              "      <th>batch_size=10</th>\n",
              "      <td>NaN</td>\n",
              "    </tr>\n",
              "    <tr>\n",
              "      <th>batch_size=60000</th>\n",
              "      <td>NaN</td>\n",
              "    </tr>\n",
              "  </tbody>\n",
              "</table>\n",
              "</div>"
            ],
            "text/plain": [
              "                         Точность\n",
              "10 нейронов                0.9962\n",
              "100 нейронов               0.9968\n",
              "5000 нейронов              0.9961\n",
              "функция активации linear        1\n",
              "batch_size=1                  NaN\n",
              "batch_size=10                 NaN\n",
              "batch_size=60000              NaN"
            ]
          },
          "metadata": {
            "tags": []
          },
          "execution_count": 66
        }
      ]
    },
    {
      "cell_type": "code",
      "metadata": {
        "id": "ckO0sK4mCIp6",
        "colab": {
          "base_uri": "https://localhost:8080/",
          "height": 555
        },
        "outputId": "3ce3a716-c087-4d5d-a85c-74661d7d2959"
      },
      "source": [
        "model_b1 = Sequential()\n",
        "model_b1.add(Dense(800, input_dim=784, activation='relu'))\n",
        "model_b1.add(Dense(400, activation='relu'))\n",
        "model_b1.add(Dense(10, activation='softmax'))\n",
        "model_b1.compile(loss='categorical_crossentropy', optimizer='adam', metrics=['accuracy'])\n",
        "model_b1.fit(x_train, y_train, batch_size=1, epochs=15, verbose=1)"
      ],
      "execution_count": null,
      "outputs": [
        {
          "output_type": "stream",
          "text": [
            "Epoch 1/15\n",
            "60000/60000 [==============================] - 170s 3ms/step - loss: 0.2831 - accuracy: 0.9267\n",
            "Epoch 2/15\n",
            "60000/60000 [==============================] - 171s 3ms/step - loss: 0.1882 - accuracy: 0.9573\n",
            "Epoch 3/15\n",
            "60000/60000 [==============================] - 169s 3ms/step - loss: 0.1699 - accuracy: 0.9653\n",
            "Epoch 4/15\n",
            "60000/60000 [==============================] - 171s 3ms/step - loss: 0.1575 - accuracy: 0.9676\n",
            "Epoch 5/15\n",
            "60000/60000 [==============================] - 169s 3ms/step - loss: 0.1447 - accuracy: 0.9708\n",
            "Epoch 6/15\n",
            "60000/60000 [==============================] - 170s 3ms/step - loss: 0.1372 - accuracy: 0.9736\n",
            "Epoch 7/15\n",
            "60000/60000 [==============================] - 171s 3ms/step - loss: 0.1368 - accuracy: 0.9752\n",
            "Epoch 8/15\n",
            "60000/60000 [==============================] - 169s 3ms/step - loss: 0.1367 - accuracy: 0.9760\n",
            "Epoch 9/15\n",
            "60000/60000 [==============================] - 170s 3ms/step - loss: 0.1409 - accuracy: 0.9775\n",
            "Epoch 10/15\n",
            "60000/60000 [==============================] - 169s 3ms/step - loss: 0.1309 - accuracy: 0.9795\n",
            "Epoch 11/15\n",
            "60000/60000 [==============================] - 171s 3ms/step - loss: 0.1349 - accuracy: 0.9784\n",
            "Epoch 12/15\n",
            "60000/60000 [==============================] - 169s 3ms/step - loss: 0.1434 - accuracy: 0.9783\n",
            "Epoch 13/15\n",
            "60000/60000 [==============================] - 171s 3ms/step - loss: 0.1295 - accuracy: 0.9797\n",
            "Epoch 14/15\n",
            "60000/60000 [==============================] - 169s 3ms/step - loss: 0.1452 - accuracy: 0.9792\n",
            "Epoch 15/15\n",
            "60000/60000 [==============================] - 171s 3ms/step - loss: 0.1462 - accuracy: 0.9797\n"
          ],
          "name": "stdout"
        },
        {
          "output_type": "execute_result",
          "data": {
            "text/plain": [
              "<tensorflow.python.keras.callbacks.History at 0x7fed2a375f98>"
            ]
          },
          "metadata": {
            "tags": []
          },
          "execution_count": 68
        }
      ]
    },
    {
      "cell_type": "code",
      "metadata": {
        "id": "K5JO4uaOCIuo",
        "colab": {
          "base_uri": "https://localhost:8080/",
          "height": 269
        },
        "outputId": "0ef36299-ec61-4586-9471-78aae7fd61a0"
      },
      "source": [
        "conclusion.iloc[4, 0] = 0.9797\n",
        "conclusion"
      ],
      "execution_count": null,
      "outputs": [
        {
          "output_type": "execute_result",
          "data": {
            "text/html": [
              "<div>\n",
              "<style scoped>\n",
              "    .dataframe tbody tr th:only-of-type {\n",
              "        vertical-align: middle;\n",
              "    }\n",
              "\n",
              "    .dataframe tbody tr th {\n",
              "        vertical-align: top;\n",
              "    }\n",
              "\n",
              "    .dataframe thead th {\n",
              "        text-align: right;\n",
              "    }\n",
              "</style>\n",
              "<table border=\"1\" class=\"dataframe\">\n",
              "  <thead>\n",
              "    <tr style=\"text-align: right;\">\n",
              "      <th></th>\n",
              "      <th>Точность</th>\n",
              "    </tr>\n",
              "  </thead>\n",
              "  <tbody>\n",
              "    <tr>\n",
              "      <th>10 нейронов</th>\n",
              "      <td>0.9962</td>\n",
              "    </tr>\n",
              "    <tr>\n",
              "      <th>100 нейронов</th>\n",
              "      <td>0.9968</td>\n",
              "    </tr>\n",
              "    <tr>\n",
              "      <th>5000 нейронов</th>\n",
              "      <td>0.9961</td>\n",
              "    </tr>\n",
              "    <tr>\n",
              "      <th>функция активации linear</th>\n",
              "      <td>1</td>\n",
              "    </tr>\n",
              "    <tr>\n",
              "      <th>batch_size=1</th>\n",
              "      <td>0.9797</td>\n",
              "    </tr>\n",
              "    <tr>\n",
              "      <th>batch_size=10</th>\n",
              "      <td>NaN</td>\n",
              "    </tr>\n",
              "    <tr>\n",
              "      <th>batch_size=60000</th>\n",
              "      <td>NaN</td>\n",
              "    </tr>\n",
              "  </tbody>\n",
              "</table>\n",
              "</div>"
            ],
            "text/plain": [
              "                         Точность\n",
              "10 нейронов                0.9962\n",
              "100 нейронов               0.9968\n",
              "5000 нейронов              0.9961\n",
              "функция активации linear        1\n",
              "batch_size=1               0.9797\n",
              "batch_size=10                 NaN\n",
              "batch_size=60000              NaN"
            ]
          },
          "metadata": {
            "tags": []
          },
          "execution_count": 69
        }
      ]
    },
    {
      "cell_type": "code",
      "metadata": {
        "id": "bHQuc4G5CIzS",
        "colab": {
          "base_uri": "https://localhost:8080/",
          "height": 555
        },
        "outputId": "83855e34-f28f-43fe-d0d4-f937390a1571"
      },
      "source": [
        "model_b10 = Sequential()\n",
        "model_b10.add(Dense(800, input_dim=784, activation='relu'))\n",
        "model_b10.add(Dense(400, activation='relu'))\n",
        "model_b10.add(Dense(10, activation='softmax'))\n",
        "model_b10.compile(loss='categorical_crossentropy', optimizer='adam', metrics=['accuracy'])\n",
        "model_b10.fit(x_train, y_train, batch_size=10, epochs=15, verbose=1)"
      ],
      "execution_count": null,
      "outputs": [
        {
          "output_type": "stream",
          "text": [
            "Epoch 1/15\n",
            "6000/6000 [==============================] - 22s 4ms/step - loss: 0.1873 - accuracy: 0.9424\n",
            "Epoch 2/15\n",
            "6000/6000 [==============================] - 22s 4ms/step - loss: 0.0924 - accuracy: 0.9718\n",
            "Epoch 3/15\n",
            "6000/6000 [==============================] - 22s 4ms/step - loss: 0.0705 - accuracy: 0.9790\n",
            "Epoch 4/15\n",
            "6000/6000 [==============================] - 22s 4ms/step - loss: 0.0577 - accuracy: 0.9834\n",
            "Epoch 5/15\n",
            "6000/6000 [==============================] - 22s 4ms/step - loss: 0.0492 - accuracy: 0.9855\n",
            "Epoch 6/15\n",
            "6000/6000 [==============================] - 22s 4ms/step - loss: 0.0440 - accuracy: 0.9878\n",
            "Epoch 7/15\n",
            "6000/6000 [==============================] - 22s 4ms/step - loss: 0.0404 - accuracy: 0.9890\n",
            "Epoch 8/15\n",
            "6000/6000 [==============================] - 22s 4ms/step - loss: 0.0393 - accuracy: 0.9898\n",
            "Epoch 9/15\n",
            "6000/6000 [==============================] - 22s 4ms/step - loss: 0.0358 - accuracy: 0.9907\n",
            "Epoch 10/15\n",
            "6000/6000 [==============================] - 23s 4ms/step - loss: 0.0339 - accuracy: 0.9920\n",
            "Epoch 11/15\n",
            "6000/6000 [==============================] - 22s 4ms/step - loss: 0.0286 - accuracy: 0.9929\n",
            "Epoch 12/15\n",
            "6000/6000 [==============================] - 22s 4ms/step - loss: 0.0298 - accuracy: 0.9925\n",
            "Epoch 13/15\n",
            "6000/6000 [==============================] - 22s 4ms/step - loss: 0.0301 - accuracy: 0.9934\n",
            "Epoch 14/15\n",
            "6000/6000 [==============================] - 22s 4ms/step - loss: 0.0269 - accuracy: 0.9938\n",
            "Epoch 15/15\n",
            "6000/6000 [==============================] - 22s 4ms/step - loss: 0.0286 - accuracy: 0.9939\n"
          ],
          "name": "stdout"
        },
        {
          "output_type": "execute_result",
          "data": {
            "text/plain": [
              "<tensorflow.python.keras.callbacks.History at 0x7fed2a167668>"
            ]
          },
          "metadata": {
            "tags": []
          },
          "execution_count": 71
        }
      ]
    },
    {
      "cell_type": "code",
      "metadata": {
        "id": "mz9i4K5QCI3-",
        "colab": {
          "base_uri": "https://localhost:8080/",
          "height": 269
        },
        "outputId": "6f35afa7-7238-4bd3-e26b-a45e05e362da"
      },
      "source": [
        "conclusion.iloc[5, 0] = 0.9939\n",
        "conclusion"
      ],
      "execution_count": null,
      "outputs": [
        {
          "output_type": "execute_result",
          "data": {
            "text/html": [
              "<div>\n",
              "<style scoped>\n",
              "    .dataframe tbody tr th:only-of-type {\n",
              "        vertical-align: middle;\n",
              "    }\n",
              "\n",
              "    .dataframe tbody tr th {\n",
              "        vertical-align: top;\n",
              "    }\n",
              "\n",
              "    .dataframe thead th {\n",
              "        text-align: right;\n",
              "    }\n",
              "</style>\n",
              "<table border=\"1\" class=\"dataframe\">\n",
              "  <thead>\n",
              "    <tr style=\"text-align: right;\">\n",
              "      <th></th>\n",
              "      <th>Точность</th>\n",
              "    </tr>\n",
              "  </thead>\n",
              "  <tbody>\n",
              "    <tr>\n",
              "      <th>10 нейронов</th>\n",
              "      <td>0.9962</td>\n",
              "    </tr>\n",
              "    <tr>\n",
              "      <th>100 нейронов</th>\n",
              "      <td>0.9968</td>\n",
              "    </tr>\n",
              "    <tr>\n",
              "      <th>5000 нейронов</th>\n",
              "      <td>0.9961</td>\n",
              "    </tr>\n",
              "    <tr>\n",
              "      <th>функция активации linear</th>\n",
              "      <td>1</td>\n",
              "    </tr>\n",
              "    <tr>\n",
              "      <th>batch_size=1</th>\n",
              "      <td>0.9797</td>\n",
              "    </tr>\n",
              "    <tr>\n",
              "      <th>batch_size=10</th>\n",
              "      <td>0.9939</td>\n",
              "    </tr>\n",
              "    <tr>\n",
              "      <th>batch_size=60000</th>\n",
              "      <td>NaN</td>\n",
              "    </tr>\n",
              "  </tbody>\n",
              "</table>\n",
              "</div>"
            ],
            "text/plain": [
              "                         Точность\n",
              "10 нейронов                0.9962\n",
              "100 нейронов               0.9968\n",
              "5000 нейронов              0.9961\n",
              "функция активации linear        1\n",
              "batch_size=1               0.9797\n",
              "batch_size=10              0.9939\n",
              "batch_size=60000              NaN"
            ]
          },
          "metadata": {
            "tags": []
          },
          "execution_count": 74
        }
      ]
    },
    {
      "cell_type": "code",
      "metadata": {
        "id": "-FT7enjdCI8c",
        "colab": {
          "base_uri": "https://localhost:8080/",
          "height": 555
        },
        "outputId": "02199044-8ca7-4b8d-96dd-4c9add8255d3"
      },
      "source": [
        "model_b60k = Sequential()\n",
        "model_b60k.add(Dense(800, input_dim=784, activation='relu'))\n",
        "model_b60k.add(Dense(400, activation='relu'))\n",
        "model_b60k.add(Dense(10, activation='softmax'))\n",
        "model_b60k.compile(loss='categorical_crossentropy', optimizer='adam', metrics=['accuracy'])\n",
        "model_b60k.fit(x_train, y_train, batch_size=10, epochs=15, verbose=1)"
      ],
      "execution_count": null,
      "outputs": [
        {
          "output_type": "stream",
          "text": [
            "Epoch 1/15\n",
            "6000/6000 [==============================] - 22s 4ms/step - loss: 0.1881 - accuracy: 0.9424\n",
            "Epoch 2/15\n",
            "6000/6000 [==============================] - 22s 4ms/step - loss: 0.0922 - accuracy: 0.9721\n",
            "Epoch 3/15\n",
            "6000/6000 [==============================] - 22s 4ms/step - loss: 0.0704 - accuracy: 0.9793\n",
            "Epoch 4/15\n",
            "6000/6000 [==============================] - 23s 4ms/step - loss: 0.0566 - accuracy: 0.9832\n",
            "Epoch 5/15\n",
            "6000/6000 [==============================] - 22s 4ms/step - loss: 0.0499 - accuracy: 0.9863\n",
            "Epoch 6/15\n",
            "6000/6000 [==============================] - 22s 4ms/step - loss: 0.0400 - accuracy: 0.9886\n",
            "Epoch 7/15\n",
            "6000/6000 [==============================] - 22s 4ms/step - loss: 0.0382 - accuracy: 0.9895\n",
            "Epoch 8/15\n",
            "6000/6000 [==============================] - 22s 4ms/step - loss: 0.0366 - accuracy: 0.9904\n",
            "Epoch 9/15\n",
            "6000/6000 [==============================] - 22s 4ms/step - loss: 0.0329 - accuracy: 0.9914\n",
            "Epoch 10/15\n",
            "6000/6000 [==============================] - 22s 4ms/step - loss: 0.0318 - accuracy: 0.9918\n",
            "Epoch 11/15\n",
            "6000/6000 [==============================] - 22s 4ms/step - loss: 0.0305 - accuracy: 0.9926\n",
            "Epoch 12/15\n",
            "6000/6000 [==============================] - 22s 4ms/step - loss: 0.0317 - accuracy: 0.9931\n",
            "Epoch 13/15\n",
            "6000/6000 [==============================] - 22s 4ms/step - loss: 0.0285 - accuracy: 0.9935\n",
            "Epoch 14/15\n",
            "6000/6000 [==============================] - 22s 4ms/step - loss: 0.0311 - accuracy: 0.9940\n",
            "Epoch 15/15\n",
            "6000/6000 [==============================] - 22s 4ms/step - loss: 0.0259 - accuracy: 0.9946\n"
          ],
          "name": "stdout"
        },
        {
          "output_type": "execute_result",
          "data": {
            "text/plain": [
              "<tensorflow.python.keras.callbacks.History at 0x7fed2a075080>"
            ]
          },
          "metadata": {
            "tags": []
          },
          "execution_count": 75
        }
      ]
    },
    {
      "cell_type": "code",
      "metadata": {
        "id": "P9y57kNRCJCu",
        "colab": {
          "base_uri": "https://localhost:8080/",
          "height": 269
        },
        "outputId": "50e2801a-d0bc-4e2f-fd09-fe27e1e16843"
      },
      "source": [
        "conclusion.iloc[6, 0] = 0.9946\n",
        "conclusion"
      ],
      "execution_count": null,
      "outputs": [
        {
          "output_type": "execute_result",
          "data": {
            "text/html": [
              "<div>\n",
              "<style scoped>\n",
              "    .dataframe tbody tr th:only-of-type {\n",
              "        vertical-align: middle;\n",
              "    }\n",
              "\n",
              "    .dataframe tbody tr th {\n",
              "        vertical-align: top;\n",
              "    }\n",
              "\n",
              "    .dataframe thead th {\n",
              "        text-align: right;\n",
              "    }\n",
              "</style>\n",
              "<table border=\"1\" class=\"dataframe\">\n",
              "  <thead>\n",
              "    <tr style=\"text-align: right;\">\n",
              "      <th></th>\n",
              "      <th>Точность</th>\n",
              "    </tr>\n",
              "  </thead>\n",
              "  <tbody>\n",
              "    <tr>\n",
              "      <th>10 нейронов</th>\n",
              "      <td>0.9962</td>\n",
              "    </tr>\n",
              "    <tr>\n",
              "      <th>100 нейронов</th>\n",
              "      <td>0.9968</td>\n",
              "    </tr>\n",
              "    <tr>\n",
              "      <th>5000 нейронов</th>\n",
              "      <td>0.9961</td>\n",
              "    </tr>\n",
              "    <tr>\n",
              "      <th>функция активации linear</th>\n",
              "      <td>1</td>\n",
              "    </tr>\n",
              "    <tr>\n",
              "      <th>batch_size=1</th>\n",
              "      <td>0.9797</td>\n",
              "    </tr>\n",
              "    <tr>\n",
              "      <th>batch_size=10</th>\n",
              "      <td>0.9939</td>\n",
              "    </tr>\n",
              "    <tr>\n",
              "      <th>batch_size=60000</th>\n",
              "      <td>0.9946</td>\n",
              "    </tr>\n",
              "  </tbody>\n",
              "</table>\n",
              "</div>"
            ],
            "text/plain": [
              "                         Точность\n",
              "10 нейронов                0.9962\n",
              "100 нейронов               0.9968\n",
              "5000 нейронов              0.9961\n",
              "функция активации linear        1\n",
              "batch_size=1               0.9797\n",
              "batch_size=10              0.9939\n",
              "batch_size=60000           0.9946"
            ]
          },
          "metadata": {
            "tags": []
          },
          "execution_count": 76
        }
      ]
    },
    {
      "cell_type": "markdown",
      "metadata": {
        "id": "I7yaH1StaM1w"
      },
      "source": [
        "Как видно из таблицы, в данной задаче число нейронов (первого Dense-слоя) не влияет на итоговую точность.\n",
        "\n",
        "При изменении активационной функции на линейную, при обучении нейронки сразу видим единичную точность, вероятно здесь мы наблюдаем переобучение.\n",
        "\n",
        "Размер единичного пакета влияет заметно (при размере=1 нейронка училась заметно дольше) и точность возрастает с увеличением размера пакета. Хотя особой разницы между 10 и 60 000 нет."
      ]
    },
    {
      "cell_type": "markdown",
      "metadata": {
        "id": "KS72ipOn9lTC"
      },
      "source": [
        "# Распознаем свою цифру"
      ]
    },
    {
      "cell_type": "markdown",
      "metadata": {
        "id": "lleUZqsNx7q8"
      },
      "source": [
        "**Двойка!**"
      ]
    },
    {
      "cell_type": "code",
      "metadata": {
        "id": "IHg0CDushfNH",
        "colab": {
          "base_uri": "https://localhost:8080/",
          "height": 282
        },
        "outputId": "8d9fa0e9-d073-4d39-c151-a66ff714a73f"
      },
      "source": [
        "test_image2 = Image.open(\"/content/drive/My Drive/2.png\").convert('L')\n",
        "# test_image = ImageOps.invert(test_image)\n",
        "\n",
        "test_image2 = np.asarray(test_image2, dtype='float32')\n",
        "\n",
        "plt.imshow(test_image2)"
      ],
      "execution_count": null,
      "outputs": [
        {
          "output_type": "execute_result",
          "data": {
            "text/plain": [
              "<matplotlib.image.AxesImage at 0x7f6bf147bef0>"
            ]
          },
          "metadata": {
            "tags": []
          },
          "execution_count": 150
        },
        {
          "output_type": "display_data",
          "data": {
            "image/png": "[encoded data removed]",
            "text/plain": [
              "<Figure size 432x288 with 1 Axes>"
            ]
          },
          "metadata": {
            "tags": [],
            "needs_background": "light"
          }
        }
      ]
    },
    {
      "cell_type": "code",
      "metadata": {
        "id": "LO6QGxGEv1jg"
      },
      "source": [
        "test_image2 = resize(test_image2, (28, 28), anti_aliasing=True)\n",
        "test_image2 = test_image2.astype('float32')\n",
        "test_image2 = test_image2/255\n",
        "i2 = test_image2.reshape(1, 784)"
      ],
      "execution_count": null,
      "outputs": []
    },
    {
      "cell_type": "code",
      "metadata": {
        "id": "CiKO1_LMj9uu",
        "colab": {
          "base_uri": "https://localhost:8080/",
          "height": 69
        },
        "outputId": "a9ce0afd-0bc6-4dfc-efc6-1131e6508e2c"
      },
      "source": [
        "prediction2 = model.predict(i2)\n",
        "print(prediction2)\n",
        "print('Прогноз нейросети:', np.argmax(prediction2))"
      ],
      "execution_count": null,
      "outputs": [
        {
          "output_type": "stream",
          "text": [
            "[[5.8908437e-22 1.6215453e-14 9.9999964e-01 3.2360285e-07 5.7431345e-29\n",
            "  4.4763703e-24 9.3756621e-22 6.2612045e-16 3.9102315e-13 1.1644725e-28]]\n",
            "Прогноз нейросети: 2\n"
          ],
          "name": "stdout"
        }
      ]
    },
    {
      "cell_type": "markdown",
      "metadata": {
        "id": "189I_Ermxbdi"
      },
      "source": [
        "**А теперь цифра 6!**"
      ]
    },
    {
      "cell_type": "code",
      "metadata": {
        "id": "5AqA9L5UxMWZ",
        "colab": {
          "base_uri": "https://localhost:8080/",
          "height": 282
        },
        "outputId": "42b8a7a0-26d1-4324-cc07-59524ff69ba0"
      },
      "source": [
        "test_image6 = Image.open(\"/content/drive/My Drive/6.png\").convert('L')\n",
        "# test_image = ImageOps.invert(test_image)\n",
        "\n",
        "test_image6 = np.asarray(test_image6, dtype='float32')\n",
        "\n",
        "plt.imshow(test_image6)"
      ],
      "execution_count": null,
      "outputs": [
        {
          "output_type": "execute_result",
          "data": {
            "text/plain": [
              "<matplotlib.image.AxesImage at 0x7f6bf160bc50>"
            ]
          },
          "metadata": {
            "tags": []
          },
          "execution_count": 138
        },
        {
          "output_type": "display_data",
          "data": {
            "image/png": "[encoded data removed]",
            "text/plain": [
              "<Figure size 432x288 with 1 Axes>"
            ]
          },
          "metadata": {
            "tags": [],
            "needs_background": "light"
          }
        }
      ]
    },
    {
      "cell_type": "code",
      "metadata": {
        "id": "6LcMsxlvxMWy"
      },
      "source": [
        "test_image6 = resize(test_image6, (28, 28), anti_aliasing=True)\n",
        "test_image6 = test_image6.astype('float32')\n",
        "test_image6 = test_image6/255\n",
        "i6 = test_image6.reshape(1, 784)"
      ],
      "execution_count": null,
      "outputs": []
    },
    {
      "cell_type": "code",
      "metadata": {
        "id": "EubelWfCxMW9",
        "colab": {
          "base_uri": "https://localhost:8080/",
          "height": 69
        },
        "outputId": "18b5d2c0-c4a3-433a-b41e-6c9f810d208d"
      },
      "source": [
        "prediction6 = model.predict(i6)\n",
        "print(prediction6)\n",
        "print('Прогноз нейросети:', np.argmax(prediction6))"
      ],
      "execution_count": null,
      "outputs": [
        {
          "output_type": "stream",
          "text": [
            "[[2.5058958e-14 4.0357957e-13 3.2586598e-08 3.8703166e-11 4.2426698e-14\n",
            "  7.3162344e-04 9.7544038e-01 7.1863546e-17 2.3827979e-02 1.8943621e-14]]\n",
            "Прогноз нейросети: 6\n"
          ],
          "name": "stdout"
        }
      ]
    },
    {
      "cell_type": "markdown",
      "metadata": {
        "id": "KCWTxTAxxo1Z"
      },
      "source": [
        "**Пробуем с рукописными!**"
      ]
    },
    {
      "cell_type": "code",
      "metadata": {
        "id": "Cu93_9ZKxms0",
        "colab": {
          "base_uri": "https://localhost:8080/",
          "height": 269
        },
        "outputId": "18ad45d1-91e1-490e-a60b-a8dc5c161a9e"
      },
      "source": [
        "plt.imshow(img)\n",
        "plt.show()\n",
        "# исходное изображение (предварительно инвертировал в пэинте)"
      ],
      "execution_count": null,
      "outputs": [
        {
          "output_type": "display_data",
          "data": {
            "image/png": "[encoded data removed]",
            "text/plain": [
              "<Figure size 432x288 with 1 Axes>"
            ]
          },
          "metadata": {
            "tags": [],
            "needs_background": "light"
          }
        }
      ]
    },
    {
      "cell_type": "code",
      "metadata": {
        "id": "X9EEtulJxoo4",
        "colab": {
          "base_uri": "https://localhost:8080/",
          "height": 317
        },
        "outputId": "6fab518c-3514-4604-cdd1-05d18d9dc4ca"
      },
      "source": [
        "test_image8 = Image.open(\"/content/drive/My Drive/8.png\").convert('L')\n",
        "\n",
        "\n",
        "test_image8 = np.asarray(test_image8, dtype='float32')\n",
        "test_image8 = resize(test_image8, (28, 28), anti_aliasing=True)\n",
        "plt.imshow(test_image8)\n",
        "\n",
        "test_image8 = test_image8.astype('float32')\n",
        "test_image8 = test_image6/255\n",
        "i8 = test_image8.reshape(1, 784)"
      ],
      "execution_count": null,
      "outputs": [
        {
          "output_type": "stream",
          "text": [
            "[[0.02486821 0.02464871 0.04534081 0.04746104 0.02260038 0.5746256\n",
            "  0.07033619 0.02589484 0.12232529 0.04189888]]\n",
            "5\n"
          ],
          "name": "stdout"
        },
        {
          "output_type": "display_data",
          "data": {
            "image/png": "[encoded data removed]",
            "text/plain": [
              "<Figure size 432x288 with 1 Axes>"
            ]
          },
          "metadata": {
            "tags": [],
            "needs_background": "light"
          }
        }
      ]
    },
    {
      "cell_type": "code",
      "metadata": {
        "id": "iLkCuCey5oKO",
        "colab": {
          "base_uri": "https://localhost:8080/",
          "height": 69
        },
        "outputId": "03ae13cf-8773-457b-e60d-4e65fd82653b"
      },
      "source": [
        "prediction8 = model.predict(i8)\n",
        "print(prediction8)\n",
        "print('Прогноз нейросети:', np.argmax(prediction8)) \n",
        "# почему то всё равно пятерка при таком способе, хотя при предыдущих цифр (в самом редакторе) все было ОК\n",
        "# не подскажете в чем дело, уважаемые кураторы?"
      ],
      "execution_count": null,
      "outputs": [
        {
          "output_type": "stream",
          "text": [
            "[[0.02486821 0.02464871 0.04534081 0.04746104 0.02260038 0.5746256\n",
            "  0.07033619 0.02589484 0.12232529 0.04189888]]\n",
            "Прогноз нейросети: 5\n"
          ],
          "name": "stdout"
        }
      ]
    },
    {
      "cell_type": "markdown",
      "metadata": {
        "id": "cS88cdsC8dha"
      },
      "source": [
        "**Попробуем иначе**"
      ]
    },
    {
      "cell_type": "code",
      "metadata": {
        "id": "L6AbB7v6pJIY",
        "colab": {
          "base_uri": "https://localhost:8080/",
          "height": 282
        },
        "outputId": "f6e799c8-b7aa-4265-cbfd-4b4badc23829"
      },
      "source": [
        "img = image.load_img(\"/content/drive/My Drive/8.png\", target_size=(28, 28), color_mode = 'grayscale')\n",
        "plt.imshow(img, cmap='gray', vmin=0, vmax=255)\n",
        "plt.show()\n",
        "x_img = image.img_to_array(img) \n",
        "x_img = x_img.reshape(1, 784)\n",
        "x_img /= 255.0\n",
        "prediction = model.predict(x_img)\n",
        "print('Прогноз нейросети:', np.argmax(prediction))"
      ],
      "execution_count": null,
      "outputs": [
        {
          "output_type": "display_data",
          "data": {
            "image/png": "[encoded data removed]",
            "text/plain": [
              "<Figure size 432x288 with 1 Axes>"
            ]
          },
          "metadata": {
            "tags": [],
            "needs_background": "light"
          }
        },
        {
          "output_type": "stream",
          "text": [
            "Прогноз нейросети: 8\n"
          ],
          "name": "stdout"
        }
      ]
    }
  ]
}