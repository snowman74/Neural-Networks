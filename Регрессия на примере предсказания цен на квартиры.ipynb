{
  "nbformat": 4,
  "nbformat_minor": 0,
  "metadata": {
    "colab": {
      "name": "Домашнее задание №19",
      "provenance": [],
      "collapsed_sections": [],
      "mount_file_id": "1N6BEa3Lic6svAdmdmqQs0x8Npgs7B7XV",
      "authorship_tag": "ABX9TyNecHUm7+vgnP2hntz1K+Fy",
      "include_colab_link": true
    },
    "kernelspec": {
      "name": "python3",
      "display_name": "Python 3"
    },
    "accelerator": "GPU"
  },
  "cells": [
    {
      "cell_type": "markdown",
      "metadata": {
        "id": "view-in-github",
        "colab_type": "text"
      },
      "source": [
        "<a href=\"https://colab.research.google.com/github/snowman74/Neural-Networks/blob/main/%D0%A0%D0%B5%D0%B3%D1%80%D0%B5%D1%81%D1%81%D0%B8%D1%8F%20%D0%BD%D0%B0%20%D0%BF%D1%80%D0%B8%D0%BC%D0%B5%D1%80%D0%B5%20%D0%BF%D1%80%D0%B5%D0%B4%D1%81%D0%BA%D0%B0%D0%B7%D0%B0%D0%BD%D0%B8%D1%8F%20%D1%86%D0%B5%D0%BD%20%D0%BD%D0%B0%20%D0%BA%D0%B2%D0%B0%D1%80%D1%82%D0%B8%D1%80%D1%8B.ipynb\" target=\"_parent\"><img src=\"https://colab.research.google.com/assets/colab-badge.svg\" alt=\"Open In Colab\"/></a>"
      ]
    },
    {
      "cell_type": "markdown",
      "metadata": {
        "id": "2pXmKD7B40Iw"
      },
      "source": [
        "# Решение задачи регрессии для предсказания цены на квартиры"
      ]
    },
    {
      "cell_type": "code",
      "metadata": {
        "id": "gFFyjJcBp0Q5"
      },
      "source": [
        "import pandas as pd\n",
        "from google.colab import files\n",
        "from tensorflow.keras import utils\n",
        "import numpy as np\n",
        "from tensorflow.keras.preprocessing.sequence import pad_sequences\n",
        "from sklearn.preprocessing import StandardScaler\n",
        "from tensorflow.keras.preprocessing.text import Tokenizer, text_to_word_sequence\n",
        "import matplotlib.pyplot as plt\n",
        "%matplotlib inline\n",
        "\n",
        "from keras.optimizers import Adam\n",
        "from keras.models import Sequential, Model\n",
        "from keras.layers import concatenate, Input, Dropout, Dense, BatchNormalization, Flatten, Conv1D, Conv2D"
      ],
      "execution_count": null,
      "outputs": []
    },
    {
      "cell_type": "code",
      "metadata": {
        "id": "ZoIyWePwtGhi"
      },
      "source": [
        "###########################\n",
        "# Очистка текста и превращение в набор слов\n",
        "##########################\n",
        "def text2Words(text):\n",
        "\n",
        "  #Удаляем лишние символы\n",
        "  text = text.replace(\".\", \"\")\n",
        "  text = text.replace(\"—\", \"\")\n",
        "  text = text.replace(\",\", \"\")\n",
        "  text = text.replace(\"!\", \"\")\n",
        "  text = text.replace(\"?\", \"\")\n",
        "  text = text.replace(\"…\", \"\")\n",
        "  text = text.lower() #Переводим в нижний регистр\n",
        "  \n",
        "  \n",
        "  words = [] #Тут будут все слов\n",
        "  currWord = \"\" #Тут будет накапливаться текущее слово, между двумя пробелами\n",
        "  \n",
        "  #идём по всем символам\n",
        "  for symbol in text:\n",
        "    \n",
        "    if (symbol != \"\\ufeff\"): #Игнорируем системынй символ в начале строки\n",
        "      if (symbol != \" \"): #Если символ не пробел\n",
        "        currWord += symbol #То добавляем вимвол в текущее слово\n",
        "      else: #Если символ пробел\n",
        "        if (currWord != \"\"): \n",
        "          words.append(currWord) #Добавляем тккущее слово в список слов\n",
        "          currWord = \"\" #И обнуляем текущее слово\n",
        "\n",
        "  #Добавляем финальное слово, если оно не пустое\n",
        "  #Если не сделать, то потеряем финальное слово, потому что текст чаще всего заканчивается на не пробел\n",
        "  if (currWord != \"\"):\n",
        "        words.append(currWord)\n",
        "  \n",
        "  return words\n",
        "\n",
        "\n",
        "###########################\n",
        "# Создание словаря - все слова, упорядоченные по частоте появления\n",
        "##########################\n",
        "def createVocabulary(allWords):\n",
        "  \n",
        "  #Создаём словарь, в котором будут слова и количество их поялвений во всём текста\n",
        "  #Ключи - все наши слова\n",
        "  #Количество появлений пока везде 0\n",
        "  wCount = dict.fromkeys(allWords, 0)\n",
        "\n",
        "  #Проходим по всем словам\n",
        "  for word in allWords:\n",
        "    wCount[word] += 1 #И увеличиаем количество появлений текущего слова на 1\n",
        "\n",
        "  #Выцепляем лист из словаря\n",
        "  wordsList = list(wCount.items())\n",
        "  #И сортируем по частоте появления\n",
        "  wordsList.sort(key = lambda i:i[1], reverse=1)\n",
        "  #key = lambda i:i[1] - говорит, что сортировать надо по частоте появления\n",
        "  #В i[0] у нас слово, в i[1] - частота появления\n",
        "  #reverse=1 говорить сортироваться по убыванию\n",
        "\n",
        "  sortedWords = [] #Тут будет лист всех отсортированных слов\n",
        "\n",
        "  #Проходим по всем словам в отсортированном списке\n",
        "  for word in wordsList:\n",
        "    sortedWords.append(word[0]) #Докидываем слово в лист отсортированных слов\n",
        "\n",
        "  #Это словарь слово - индекс\n",
        "  #Изначально заполнен всеми словами\n",
        "  #У всех индекс 0\n",
        "  wordIndexes = dict.fromkeys(allWords, 0)\n",
        "  #Проходим по всем словам\n",
        "  for word in wordIndexes.keys():\n",
        "    wordIndexes[word] = sortedWords.index(word)+1 #Ставим индекс = индекс слова в отсортированном листе слов + 1\n",
        "    #+1 потому, что индекс 0 резервируем под неопознанные слова\n",
        "\n",
        "  return wordIndexes\n",
        "\n",
        "\n",
        "###########################\n",
        "# Преобразования листа слов в лист индексов\n",
        "##########################\n",
        "def words2Indexes(words, vocabulary, maxWordsCount):\n",
        "  wordsIndexes = []\n",
        "  \n",
        "  #Идём по всем словая\n",
        "  for word in words:\n",
        "    \n",
        "    wordIndex = 0 #Тут будет индекс слова, изначально 0 - слово неопознано\n",
        "    wordInVocabulary = word in vocabulary #Проверяем, есть ли слово в словаре\n",
        "    \n",
        "    #Если слово есть в словаре\n",
        "    if (wordInVocabulary):\n",
        "      index = vocabulary[word] #Индекс = индексу слова в словаре\n",
        "      if (index < maxWordsCount): #Если индекс ниже maxWordsCount - черты отсечения слов\n",
        "        wordIndex = index #То записываем индекс\n",
        "      #Иначе останется значение 0\n",
        "        \n",
        "    wordsIndexes.append(wordIndex)\n",
        "    \n",
        "  return wordsIndexes\n",
        "\n",
        "\n",
        "###########################\n",
        "# Преобразование одного короткого вектора в вектор из 0 и 1\n",
        "# По принципу words bag\n",
        "##########################\n",
        "def changeXTo01(trainVector, wordsCount):\n",
        "  #Создаём вектор длины wordsCount с нулями\n",
        "  out = np.zeros(wordsCount)\n",
        "  \n",
        "  #Идём по всем индексам в строке\n",
        "  for x in trainVector:\n",
        "    out[x] = 1 #В позицию нужного индекса ставим 1\n",
        "    \n",
        "  return out\n",
        "\n",
        "\n",
        "###########################\n",
        "# Преобразование выборки (обучающей или проверочной) к виду 0 и 1\n",
        "# По принципу words bag\n",
        "##########################\n",
        "def changeSetTo01(trainSet, wordsCount):\n",
        "  out = []\n",
        "  \n",
        "  #Проходим по всем векторам в наборе\n",
        "  for x in trainSet:\n",
        "    out.append(changeXTo01(x, wordsCount)) #Добавляем в итоговый набор текущий вектор, преобразованный в bag of words\n",
        "    \n",
        "  return np.array(out)\n",
        "\n",
        "\n",
        "###########################\n",
        "# Формируем обучающую выборку из примечаний к квартирам\n",
        "# Пока в виде слов\n",
        "##########################\n",
        "def getXTrainComments(data):\n",
        "  xTrainComments = [] #Тут будет обучающся выборка\n",
        "  allTextComments = \"\" #Тут будуте все тексты вместе для словаря\n",
        "  \n",
        "  #Идём по всем строкам квартир в базе\n",
        "  for d in data:\n",
        "    currText = getComment(d) #Вытаскиваем примечание к квартире\n",
        "    try: \n",
        "      if (currText == currText): #Проверяем на nan\n",
        "        allTextComments += currText + \" \" #Добавляем текст в общий текст для словаря\n",
        "    except:\n",
        "      currText = \"Нет комментария\" #Если не получается, то делаем стандартный текст \"Нет комментария\"\n",
        "    xTrainComments.append(currText) #Добавляем примечание новой строкой в обучающую выборку\n",
        "  \n",
        "  xTrainComments = np.array(xTrainComments)\n",
        "  \n",
        "  return (xTrainComments, allTextComments)\n",
        "\n",
        "###########################\n",
        "# Формируем обучающую выборку из примечаний к квартирам\n",
        "# Теперь в виде индексов\n",
        "##########################\n",
        "def changeSetToIndexes(xTrainComments, vocabulary, maxWordsCount):\n",
        "  xTrainCommentsIndexes = [] #Тут будет итоговый xTrain примечаний в виде индексов\n",
        "  \n",
        "  #Идём по всем текстам\n",
        "  for text in xTrainComments:\n",
        "    currWords = text2Words(text) #Разбиваем текст на слова\n",
        "    currIndexes = words2Indexes(currWords, vocabulary, maxWordsCount) #Превращаем в лист индексов\n",
        "    currIndexes = np.array(currIndexes)\n",
        "    xTrainCommentsIndexes.append(currIndexes) #Добавляем в xTrain\n",
        "  \n",
        "  xTrainCommentsIndexes = np.array(xTrainCommentsIndexes)\n",
        "  xTrainCommentsIndexes = changeSetTo01(xTrainCommentsIndexes, maxWordsCount) #Превращаем в формат bag of words\n",
        "  return xTrainCommentsIndexes\n",
        "\n",
        "###########################\n",
        "# Формируем обучающую выборку из примечаний к квартирам\n",
        "# Теперь в виде индексов\n",
        "# И с приведением к стандартной длине всех векторов - cropLen\n",
        "##########################\n",
        "def changeSetToIndexesCrop(xTrainComments, vocabulary, maxWordsCount, cropLen):\n",
        "  xTrainCommentsIndexes = [] #Тут будет итоговый xTrain примечаний в виде индексов\n",
        "  \n",
        "  #Идём по всем текстам\n",
        "  for text in xTrainComments:\n",
        "    currWords = text2Words(text) #Разбиваем текст на слова\n",
        "    currIndexes = words2Indexes(currWords, vocabulary, maxWordsCount) #Превращаем в лист индексов\n",
        "    currIndexes = np.array(currIndexes)\n",
        "    xTrainCommentsIndexes.append(currIndexes) #Добавляем в xTrain\n",
        "  \n",
        "  xTrainCommentsIndexes = np.array(xTrainCommentsIndexes)\n",
        "  xTrainCommentsIndexes = pad_sequences(xTrainCommentsIndexes, maxlen=cropLen) #Приводим все вектора к стандартной длине\n",
        "  return xTrainCommentsIndexes"
      ],
      "execution_count": null,
      "outputs": []
    },
    {
      "cell_type": "code",
      "metadata": {
        "id": "aD5bx7i4s8yj",
        "colab": {
          "resources": {
            "http://localhost:8080/nbextensions/google.colab/files.js": {
              "data": "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",
              "ok": true,
              "headers": [
                [
                  "content-type",
                  "application/javascript"
                ]
              ],
              "status": 200,
              "status_text": "OK"
            }
          },
          "base_uri": "https://localhost:8080/",
          "height": 63
        },
        "outputId": "ab1b1a62-20b1-4468-9d5d-acf59436a277"
      },
      "source": [
        "files.upload()\n",
        "!ls"
      ],
      "execution_count": null,
      "outputs": [
        {
          "output_type": "display_data",
          "data": {
            "text/html": [
              "\n",
              "     <input type=\"file\" id=\"files-553e1d4b-4b4a-4c27-a679-99d6c78de706\" name=\"files[]\" multiple disabled\n",
              "        style=\"border:none\" />\n",
              "     <output id=\"result-553e1d4b-4b4a-4c27-a679-99d6c78de706\">\n",
              "      Upload widget is only available when the cell has been executed in the\n",
              "      current browser session. Please rerun this cell to enable.\n",
              "      </output>\n",
              "      <script src=\"/nbextensions/google.colab/files.js\"></script> "
            ],
            "text/plain": [
              "<IPython.core.display.HTML object>"
            ]
          },
          "metadata": {
            "tags": []
          }
        },
        {
          "output_type": "stream",
          "text": [
            "drive  sample_data\n"
          ],
          "name": "stdout"
        }
      ]
    },
    {
      "cell_type": "code",
      "metadata": {
        "id": "9tahzaV2tGWQ",
        "colab": {
          "base_uri": "https://localhost:8080/",
          "height": 35
        },
        "outputId": "4778b264-d7a1-456c-f09b-71ea5c89358b"
      },
      "source": [
        "df_moscow = pd.read_csv('/content/drive/My Drive/Базы/moscow.csv', sep=';')\n",
        "df_moscow = df_moscow.iloc[::2,:]  \n",
        "data = df_moscow.values\n",
        "# oneRoomMask = [getRoomsCount(d, 30) == 1 for d in data]\n",
        "# data1 = data[oneRoomMask]\n",
        "print(data.shape)\n",
        "# print(data1.shape)"
      ],
      "execution_count": null,
      "outputs": [
        {
          "output_type": "stream",
          "text": [
            "(126268, 14)\n"
          ],
          "name": "stdout"
        }
      ]
    },
    {
      "cell_type": "code",
      "metadata": {
        "id": "fTd59vFmJBlx",
        "colab": {
          "base_uri": "https://localhost:8080/",
          "height": 399
        },
        "outputId": "a8a0bf93-eec8-40d1-acd0-f8ec326b01f3"
      },
      "source": [
        "print(df_moscow.iloc[:, :6].head(20))"
      ],
      "execution_count": null,
      "outputs": [
        {
          "output_type": "stream",
          "text": [
            "   Комнат        Метро / ЖД станции От станции        Дом Балкон Санузел\n",
            "0       1               Шелепиха м.        12п    35/37 М    NaN       2\n",
            "2       1        Пятницкое шоссе м.        30т    11/14 П      Л       Р\n",
            "4       1              Планерная м.         5т    11/22 П      Б       С\n",
            "6       1            Шаболовская м.        12п     8/12 ?      Б       Р\n",
            "8       1           Бабушкинская м.        15п     4/14 П    NaN       С\n",
            "10      1               Шелепиха м.        15п     9/36 К    NaN     NaN\n",
            "12      1    Улица Дмитриевского м.         2п     7/16 П      Л       Р\n",
            "14      1  Бульвар Рокоссовского м.         2п      2/5 К      Б       С\n",
            "16      1           Марьина Роща м.        10п     7/14 П     2Б     NaN\n",
            "18      1                Марьино м.        20п  10/24 М-К    NaN       -\n",
            "20      1                Марьино м.         5т      5/5 П      Б       С\n",
            "22      1              Печатники м.         5т     2/12 П      -       С\n",
            "24      1      Красногвардейская м.         3п    20/30 М      Б       С\n",
            "26      1      Красногвардейская м.         3п    12/30 М      Б       С\n",
            "28      1      Красногвардейская м.         3п    16/30 М      -       С\n",
            "30      1         Площадь Ильича м.         8п     1/10 М      -       С\n",
            "32      1      Красногвардейская м.         3п     2/30 М      -       С\n",
            "34      1      Красногвардейская м.         3п     2/30 М      -       С\n",
            "36      1         Площадь Ильича м.         8п     8/28 М      Б      2С\n",
            "38      1         Площадь Ильича м.         8п    10/28 М      Б       С\n"
          ],
          "name": "stdout"
        }
      ]
    },
    {
      "cell_type": "code",
      "metadata": {
        "id": "q8nJYKADJNiB",
        "colab": {
          "base_uri": "https://localhost:8080/",
          "height": 90
        },
        "outputId": "7dec5592-356a-43da-989d-550c8eb11af4"
      },
      "source": [
        "print(df_moscow.columns)"
      ],
      "execution_count": null,
      "outputs": [
        {
          "output_type": "stream",
          "text": [
            "Index(['Комнат', 'Метро / ЖД станции', 'От станции', 'Дом', 'Балкон',\n",
            "       'Санузел', 'Площадь', 'Цена, руб.', 'ГРМ', 'Бонус агенту', 'Дата',\n",
            "       'Кол-во дней в экспозиции', 'Источник', 'Примечание'],\n",
            "      dtype='object')\n"
          ],
          "name": "stdout"
        }
      ]
    },
    {
      "cell_type": "code",
      "metadata": {
        "id": "ovpkA0QwtGdX"
      },
      "source": [
        "def getRoomsCount(d, maxRoomCount):\n",
        "  roomsCountStr = d[0]\n",
        "\n",
        "  roomsCount = 0\n",
        "  try:\n",
        "    roomsCount = int(roomsCountStr)\n",
        "    if (roomsCOunt > maxRoomCount):\n",
        "      roomsCount = maxRoomCount\n",
        "  except:\n",
        "    if (roomsCountStr == roomsCountStr):\n",
        "      if ('Ст' in roomsCountStr):\n",
        "        roomsCount = maxRoomCount + 1\n",
        "\n",
        "  return roomsCount\n",
        "\n",
        "def getRoomsCountCategory(d, maxRoomCount):\n",
        "  roomsCount = getRoomsCount(d, maxRoomCount)\n",
        "  roomsCount = utils.to_categorical(roomsCount, maxRoomCount + 2)\n",
        "  return roomsCount\n",
        "\n",
        "def getMetro(d, allMetroNames):\n",
        "  metroStr = d[1]\n",
        "  metro = 0\n",
        "\n",
        "  if (metroStr in allMetroNames):\n",
        "    metro = allMetroNames.index(metroStr) + 1\n",
        "\n",
        "  return metro\n",
        "\n",
        "def getMetroType(d):\n",
        "  metroTypeStr = d[1]\n",
        "  metroTypeClasses = 5\n",
        "  metroType = metroTypeClasses - 1\n",
        "\n",
        "  metroNamesInsideCircle = [\"Площадь Революции\", \"Арбатская\", \"Смоленская\", \"Красные Ворота\", \"Чистые пруды\", \"Лубянка\", \"Охотный Ряд\", \"Библиотека имени Ленина\", \"Кропоткинская\", \"Сухаревская\", \"Тургеневская\", \"Китай-город\", \"Третьяковская\", \"Трубная\", \"Сретенский бульвар\", \"Цветной бульвар\", \"Чеховская\", \"Боровицкая\", \"Полянка\", \"Маяковская\", \"Тверская\", \"Театральная\", \"Новокузнецкая\", \"Пушкинская\", \"Кузнецкий Мост\", \"Китай-город\", \"Александровский сад\"]\n",
        "  \n",
        "  metroNamesCircle = [\"Киевская\", \"Парк Культуры\", \"Октябрьская\", \"Добрынинская\", \"Павелецкая\", \"Таганская\", \"Курская\", \"Комсомольская\", \"Проспект Мира\", \"Новослободская\", \"Белорусская\", \"Краснопресненская\"]\n",
        "  \n",
        "  metroNames13FromCircle = [\"Бауманская\", \"Электрозаводская\", \"Семёновская\", \"Площадь Ильича\", \"Авиамоторная\", \"Шоссе Энтузиастов\", \"Римская\", \"Крестьянская Застава\", \"Дубровка\", \"Пролетарская\", \"Волгоградский проспект\", \"Текстильщики\", \"Автозаводская\", \"Технопарк\", \"Коломенская\", \"Тульская\", \"Нагатинская\", \"Нагорная\", \"Шаболовская\", \"Ленинский проспект\", \"Академическая\", \"Фрунзенская\", \"Спортивная\", \"Воробьёвы горы\", \"Студенческая\", \"Кутузовская\", \"Фили\", \"Парк Победы\", \"Выставочная\", \"Международная\", \"Улица 1905 года\", \"Беговая\", \"Полежаевская\", \"Динамо\", \"Аэропорт\", \"Сокол\", \"Деловой центр\", \"Шелепиха\", \"Хорошёвская\", \"ЦСКА\", \"Петровский парк\", \"Савёловская\", \"Дмитровская\", \"Тимирязевская\", \"Достоевская\", \"Марьина Роща\", \"Бутырская\", \"Фонвизинская\", \"Рижская\", \"Алексеевская\", \"ВДНХ\", \"Красносельская\", \"Сокольники\", \"Преображенская площадь\"]\n",
        "  \n",
        "  metroNames48FromCircle = [\"Партизанская\", \"Измайловская\", \"Первомайская\", \"Щёлковская\", \"Новокосино\", \"Новогиреево\", \"Перово\", \"Кузьминки\", \"Рязанский проспект\", \"Выхино\", \"Лермонтовский проспект\", \"Жулебино\", \"Партизанская\", \"Измайловская\", \"Первомайская\", \"Щёлковская\", \"Новокосино\", \"Новогиреево\", \"Перово\", \"Кузьминки\", \"Рязанский проспект\", \"Выхино\", \"Лермонтовский проспект\", \"Жулебино\", \"Улица Дмитриевского\", \"Кожуховская\", \"Печатники\", \"Волжская\", \"Люблино\", \"Братиславская\", \"Коломенская\", \"Каширская\", \"Кантемировская\", \"Царицыно\", \"Орехово\", \"Севастопольская\", \"Чертановская\", \"Южная\", \"Пражская\", \"Варшавская\", \"Профсоюзная\", \"Новые Черёмушки\", \"Калужская\", \"Беляево\", \"Коньково\", \"Университет\", \"Багратионовская\", \"Филёвский парк\", \"Пионерская\", \"Кунцевская\", \"Молодёжная\", \"Октябрьское Поле\", \"Щукинская\", \"Спартак\", \"Тушинская\", \"Сходненская\", \"Войковская\", \"Водный стадион\", \"Речной вокзал\", \"Беломорская\", \"Ховрино\", \"Петровско-Разумовская\", \"Владыкино\", \"Отрадное\", \"Бибирево\", \"Алтуфьево\", \"Фонвизинская\", \"Окружная\", \"Верхние Лихоборы\", \"Селигерская\", \"ВДНХ\", \"Ботанический сад\", \"Свиблово\", \"Бабушкинская\", \"Медведково\", \"Преображенская площадь\", \"Черкизовская\", \"Бульвар Рокоссовского\"]\n",
        "  \n",
        "  if (metroTypeStr in metroNamesInsideCircle):\n",
        "    metroType = 0\n",
        "  if (metroTypeStr in metroNamesCircle):\n",
        "    metroType = 1\n",
        "  if (metroTypeStr in metroNames13FromCircle):\n",
        "    metroType = 2\n",
        "  if (metroTypeStr in metroNames48FromCircle):\n",
        "    metroType = 3\n",
        "  \n",
        "  metroType = utils.to_categorical(metroType, metroTypeClasses)\n",
        "  return metroType\n",
        "\n",
        "def getMetroDistance(d):\n",
        "  metroDistanceStr = d[2]\n",
        "\n",
        "  metroDistance = 0\n",
        "  metroDistanceType = 0 \n",
        "\n",
        "  if (metroDistanceStr == metroDistanceStr):\n",
        "    if len(metroDistanceStr) > 0:\n",
        "      if (metroDistanceStr[-1] == 'п'):\n",
        "        metroDistanceType = 1\n",
        "      elif (metroDistanceStr[-1] == 'т'):\n",
        "        metroDistanceType = 2\n",
        "      \n",
        "      metroDistanceStr = metroDistanceStr[: -1]\n",
        "      try:\n",
        "        metroDistance = int(metroDistanceStr)\n",
        "        if (metroDistance < 3):\n",
        "          metroDistance = 1\n",
        "        elif (metroDistance < 6):\n",
        "          metroDistance = 2\n",
        "        elif (metroDistance < 10):\n",
        "          metroDistance = 3\n",
        "        elif (metroDistance < 15):\n",
        "          metroDistance = 4\n",
        "        elif (metroDistance < 20):\n",
        "          metroDistance = 5\n",
        "        else:\n",
        "          metroDistance = 0\n",
        "      except:\n",
        "        metroDistance = 0\n",
        "\n",
        "  metroDistanceClasses = 7\n",
        "\n",
        "  if (metroDistanceType == 2):\n",
        "    metroDistance += metroDistanceClasses\n",
        "  if (metroDistanceType == 0):\n",
        "    metroDistance += 2*metroDistanceClasses\n",
        "  \n",
        "  metroDistance = utils.to_categorical(metroDistance, 3*metroDistanceClasses)\n",
        "  return metroDistance\n",
        "\n",
        "def getHouseTypeAndFloor(d):\n",
        "  try:\n",
        "    houseStr = d[3]\n",
        "  except:\n",
        "    houseStr = ''\n",
        "  \n",
        "  houseType = 0\n",
        "  floor = 0\n",
        "  floors = 0\n",
        "  isLastFloor = 0\n",
        "\n",
        "  if (houseStr == houseStr):\n",
        "    if (len(houseStr) > 1):\n",
        "      try:\n",
        "        slashIndex = houseStr.index('/')\n",
        "      except:\n",
        "        print(houseStr)\n",
        "\n",
        "      try:\n",
        "        spaceIndex = houseStr.index(' ')\n",
        "      except:\n",
        "        print(houseStr)\n",
        "      \n",
        "      floorStr = houseStr[:slashIndex]\n",
        "      floorsStr = houseStr[slashIndex + 1: spaceIndex]\n",
        "      houseTypeStr = houseStr[spaceIndex + 1:]\n",
        "\n",
        "      try:\n",
        "        floor = int(floorStr)\n",
        "        floorSave = floor\n",
        "        if floorSave < 5:\n",
        "          floor = 2\n",
        "        if floorSave < 10:\n",
        "          floor = 3\n",
        "        if floorSave < 20:\n",
        "          floor = 4\n",
        "        if floorSave >= 20:\n",
        "          floor = 5\n",
        "        if floorSave == 1:\n",
        "          floor = 1\n",
        "        \n",
        "        if floor == floors:\n",
        "          isLastFloor = 1\n",
        "      except:\n",
        "        floor = 0  \n",
        "      \n",
        "      if (len(houseTypeStr) > 0):\n",
        "        if (\"М\" in houseTypeStr): \n",
        "          houseType = 1\n",
        "        if (\"К\" in houseTypeStr): \n",
        "          houseType = 2\n",
        "        if (\"П\" in houseTypeStr): \n",
        "          houseType = 3\n",
        "        if (\"Б\" in houseTypeStr): \n",
        "          houseType = 4\n",
        "        if (\"?\" in houseTypeStr): \n",
        "          houseType = 5\n",
        "        if (\"-\" in houseTypeStr): \n",
        "          houseType = 6\n",
        "        \n",
        "    floor = utils.to_categorical(floor, 6)\n",
        "    floors = utils.to_categorical(floors, 5)\n",
        "    houseType = utils.to_categorical(houseType, 7)\n",
        "  \n",
        "  return floor, floors, isLastFloor, houseType\n",
        "\n",
        "def getBalcony(d):\n",
        "  balconyStr = d[4] \n",
        "  balconyVariants = ['Л', 'Б', '2Б', '-', '2Б2Л', 'БЛ', '3Б', '2Л', 'Эрк', 'Б2Л', 'ЭркЛ', '3Л', '4Л', '*Л', '*Б']\n",
        "  \n",
        "  if (balconyStr == balconyStr):\n",
        "    balcony = balconyVariants.index(balconyStr) + 1\n",
        "  else:\n",
        "    balcony = 0\n",
        "  \n",
        "  \n",
        "  balcony = utils.to_categorical(balcony, 16)\n",
        "  \n",
        "  return balcony\n",
        "\n",
        "def getWC(d):\n",
        "  wcStr = d[5]\n",
        "  wcVariants = ['2', 'Р', 'С', '-', '2С', '+', '4Р', '2Р', '3С', '4С', '4', '3', '3Р']\n",
        "  if wcStr == wcStr:\n",
        "    wc = wcVariants.index(wcStr) + 1\n",
        "  else:\n",
        "    wc = 0\n",
        "\n",
        "  wc = utils.to_categorical(wc, 14)\n",
        "  return wc\n",
        "\n",
        "def getArea(d):\n",
        "  areaStr = d[6]\n",
        "\n",
        "  if ('/' in areaStr):\n",
        "    slashIndex = areaStr.index('/')\n",
        "    try:\n",
        "      area = float(areaStr[:slashIndex])\n",
        "    except:\n",
        "      area = 0\n",
        "  else:\n",
        "    area = 0\n",
        "\n",
        "  return area\n",
        "\n",
        "def getCost(d):\n",
        "  costStr = d[7]\n",
        "\n",
        "  try:\n",
        "    cost = float(costStr)\n",
        "  except:\n",
        "    cost = 0\n",
        "\n",
        "  return cost\n",
        "\n",
        "def getComment(d):\n",
        "  commentStr = d[-1]\n",
        "  return commentStr\n",
        "\n",
        "def getAllParameters(d, allMetroNames):\n",
        "  roomsCountType = getRoomsCountCategory(d, 30)\n",
        "  metro = getMetro(d, allMetroNames)\n",
        "  metroType = getMetroType(d)\n",
        "  metroDistance = getMetroDistance(d)\n",
        "  floor, floors, isLastFloor, houseType = getHouseTypeAndFloor(d)\n",
        "  balcony = getBalcony(d)\n",
        "  wc = getWC(d)\n",
        "  area = getArea(d)\n",
        "\n",
        "  out = list(roomsCountType)\n",
        "  out.append(metro)\n",
        "  out.extend(metroType)\n",
        "  out.extend(metroDistance)\n",
        "  out.extend(floor)\n",
        "  out.extend(floors)\n",
        "  out.append(isLastFloor)\n",
        "  out.extend(wc)\n",
        "  out.append(area)\n",
        "\n",
        "  return out\n",
        "\n",
        "def getXTrain(data):\n",
        "\n",
        "  allMetroNames = list(df_moscow['Метро / ЖД станции'].unique())\n",
        "\n",
        "  xTrain = [getAllParameters(d, allMetroNames) for d in data]\n",
        "  xTrain = np.array(xTrain)\n",
        "\n",
        "  return xTrain\n",
        "\n",
        "def getYTrain(data):\n",
        "  costList = [getCost(d) for d in data]\n",
        "  yTrain = np.array(costList)\n",
        "\n",
        "  return yTrain"
      ],
      "execution_count": null,
      "outputs": []
    },
    {
      "cell_type": "code",
      "metadata": {
        "id": "XBgdCuPmtGlP"
      },
      "source": [
        "# Загружаем числовые данные\n",
        "xTrain = getXTrain(data)\n",
        "yTrain = getYTrain(data)"
      ],
      "execution_count": null,
      "outputs": []
    },
    {
      "cell_type": "code",
      "metadata": {
        "id": "laChFbpFO5jB"
      },
      "source": [
        "tokenizer = Tokenizer(num_words=2000, filters='!\"#$%&()*+,-–—./:;<=>?@[\\\\]^_`{|}~\\t\\n\\xa0', lower=True, split=' ', oov_token='unknown', char_level=False)"
      ],
      "execution_count": null,
      "outputs": []
    },
    {
      "cell_type": "code",
      "metadata": {
        "id": "am8xQ-faSDnm"
      },
      "source": [
        "def getXTrainComments(data):\n",
        "  xTrainC = [getComment(d) for d in data]\n",
        "  xTrainC = np.array(xTrainC)\n",
        "  return xTrainC"
      ],
      "execution_count": null,
      "outputs": []
    },
    {
      "cell_type": "code",
      "metadata": {
        "id": "TN06FiCZSqK8"
      },
      "source": [
        "xTrainC = getXTrainComments(data)"
      ],
      "execution_count": null,
      "outputs": []
    },
    {
      "cell_type": "code",
      "metadata": {
        "id": "8t2rGqQzQUdi",
        "colab": {
          "base_uri": "https://localhost:8080/",
          "height": 182
        },
        "outputId": "4f825860-9727-4933-abe6-681ea7e2be61"
      },
      "source": [
        "xTrainC"
      ],
      "execution_count": null,
      "outputs": [
        {
          "output_type": "execute_result",
          "data": {
            "text/plain": [
              "array(['Собственность оформлена! Ключи на руках! Оперативный показ и выход на сделку! Свободная продажа! Предлагаем приобрести апартаменты премиального уровня в ЖК «Сердце столицы» с шикарными видовыми характеристиками (смотрите фото), таких предложений в данном ЖК - нет! Реальные живые фото, из личного архива! Закрытая территория, уютные и безопасные дворы без автомобилей, подземный паркинг с автомойками, имеется м/м за отдельную плату, круглосуточная охрана. Собственная инфраструктура включает фитнес-центр, стадион, беговые и велосипедные дорожки, скейт-парк, йога-центры, летний театр, 500-метровая набережная с пляжной зоной и причалом, на территории будет располагаться собственная школа и детский сад и т.д. В шаговой доступности метро: Шелепиха, Международная, Деловой центр, Выставочная, Фили. Удобная транспортная доступность. Звоните! Может именно это предложение Вы уже давно ищете!',\n",
              "       'Зеленоград к.1820 однокомнатная квартира общ.38.4/17/9  ( Общая с учетом лоджии 41 кв.м.) Дом расположен рядом со станцией Крюково. 11 эт. 14 эт. дома.  Большая лоджия.  Сан. узел раздельный. Свободная продажа. ПОКАЗ В ЛЮБОЕ ВРЕМЯ КЛЮЧИ НА РУКАХ.',\n",
              "       'Уютная, светлая квартира, застекленный балкон на кухне, кондиционер. Район с развитой инфраструктурой - магазины, детские сады, школы, поликлиника. Рядом парк Северное Тушино, Химкинское водохранилище.Алёшкинский лес и бассейн в 700 метрах от дома.',\n",
              "       ...,\n",
              "       'СТУДИЯ В МОСКВЕ ПО ДОСТУПНОЙ ЦЕНЕ ! _________________ Район с РАЗВИТОЙ ИНФРАСТРУКТУРОЙ, рядом школы, дет.сады, почта, ТЦ Нагатинский с фитнес клубом, супермаркеты (Пятерочка и Перекресток и д.р), салоны красоты, до набережной одна минута пешком, в пешей доступности парк музей-заповедник Коломенское семейный ТЦ Нора, недалеко строится детский парк развлечений Dream Works. Студия, чистая, светлая. _________________ До метро КОЛОМЕНСКАЯ 15-17 мин пешком. _________________ НАЛИЧНЫЙ РАСЧЕТ. ПРИМЕНЕНИЕ ИПОТЕКИ И МАТЕРИНКОГО КАПИТАЛА НЕВОЗМОЖНО! _________________ Прописка, сразу после сделки, Москва! ПРИГЛАШАЮ ВАС НА ПРОСМОТР СТУДИИ, ЗВОНИТЕ В ЛЮБОЕ ВРЕМЯ!',\n",
              "       'Продается студия с отделкой в новом монолитном доме комплекса Ж.К. Северный 2019 г. постройки. Находится в 1 км. от МКАД по Дмитровскому ш. 20 минут на общественном транспорте до м. Алтуфьево. Рядом с ЖК через два года будет станция метро, проект уже в стадии реализации. Один собственник, свободная продажа.',\n",
              "       'ДАМЫ И ГОСПОДА! ВАШЕМУ ВНИМАНИЮ ПРЕДЛАГАЕТСЯ СТУДИЯ В МОСКВЕ. ПРОПИСКА СРАЗУ ПОСЛЕ СДЕЛКИ! -------------------------------- Тёплый кирпичный дом в районе Текстильщики с РАЗВИТОЙ ИНФРАСТРУКТУРОЙ (магазины, школы дет. сады, поликлиника, больница, торговые и развлекательные центры, и многое другое). -------------------------------- УДОБНОЕ ТРАНСПОРТНОЕ СООБЩЕНИЕ с любым уголком Москвы и Подмосковья: ст. м. Волжская 9 минут пешком. Кузьминки, Печатники - в шаговой доступности. -------------------------------- Наличный расчет, нотариальная сделка, расчет через банковскую ячейку. Продажа без ипотеки и материнского капитала. -------------------------------- ПРИЕЗЖАЙТЕ НА ПРОСМОТР, ЗВОНИТЕ, ВСЕ ПОДРОБНО РАССКАЖУ ВАМ!'],\n",
              "      dtype='<U8848')"
            ]
          },
          "metadata": {
            "tags": []
          },
          "execution_count": 8
        }
      ]
    },
    {
      "cell_type": "code",
      "metadata": {
        "id": "CMrVshKZtGsP"
      },
      "source": [
        "tokenizer.fit_on_texts(xTrainC)\n",
        "xTrainC01Indexes = tokenizer.texts_to_sequences(xTrainC)"
      ],
      "execution_count": null,
      "outputs": []
    },
    {
      "cell_type": "code",
      "metadata": {
        "id": "uKdmwAyGTEKt",
        "colab": {
          "base_uri": "https://localhost:8080/",
          "height": 144
        },
        "outputId": "ab82f2c3-dcd3-410f-94aa-872eab363001"
      },
      "source": [
        "xTrainC01 = tokenizer.sequences_to_matrix(xTrainC01Indexes)\n",
        "xTrainC01"
      ],
      "execution_count": null,
      "outputs": [
        {
          "output_type": "execute_result",
          "data": {
            "text/plain": [
              "array([[0., 1., 1., ..., 0., 0., 0.],\n",
              "       [0., 1., 1., ..., 0., 0., 0.],\n",
              "       [0., 1., 1., ..., 0., 0., 0.],\n",
              "       ...,\n",
              "       [0., 1., 1., ..., 0., 0., 0.],\n",
              "       [0., 1., 1., ..., 0., 0., 0.],\n",
              "       [0., 1., 1., ..., 0., 0., 0.]])"
            ]
          },
          "metadata": {
            "tags": []
          },
          "execution_count": 10
        }
      ]
    },
    {
      "cell_type": "code",
      "metadata": {
        "id": "k1_SbwCTP8sl"
      },
      "source": [
        "np.save('/content/drive/My Drive/xTrainC01_moscow.npy',xTrainC01)\n",
        "np.save('/content/drive/My Drive/xTrainScaled.npy',xTrainScaled)\n",
        "np.save('/content/drive/My Drive/yTrainScaled.npy',yTrainScaled)"
      ],
      "execution_count": null,
      "outputs": []
    },
    {
      "cell_type": "code",
      "metadata": {
        "id": "4G1UVkm4dH8G",
        "colab": {
          "base_uri": "https://localhost:8080/",
          "height": 489
        },
        "outputId": "eb4d7f66-18b1-4094-a952-6d1d3b305a8d"
      },
      "source": [
        "#Нормируем размер квартиры в xTrain\n",
        "xScaler = StandardScaler() #Создаём нормировщик нормальным распределением\n",
        "xScaler.fit(xTrain[:,-1].reshape(-1, 1)) #Обучаем его на площадях квартир (последня колонка в xTrain)\n",
        "xTrainScaled = xTrain.copy()\n",
        "xTrainScaled[:,-1] = xScaler.transform(xTrain[:,-1].reshape(-1, 1)).flatten() #Нормируем данные нормировщиком\n",
        "\n",
        "#Выводим размер и два примера для сравнения\n",
        "#Не нормированных данных и нормированных\n",
        "print(xTrainScaled.shape)\n",
        "print(xTrain[0])\n",
        "print(xTrainScaled[0])\n",
        "#Нормируем выход сети - цену квартиры\n",
        "yScaler = StandardScaler() #Делаемнормальный нормировщик\n",
        "yScaler.fit(yTrain.reshape(-1, 1)) #Обучаем на ценах квартир\n",
        "yTrainScaled = yScaler.transform(yTrain.reshape(-1, 1)) #Нормируем цены квартир\n",
        "\n",
        "#Выводим размер и два примера для сравнения\n",
        "#Не нормированных данных и нормированных\n",
        "print(yTrainScaled.shape)\n",
        "print(yTrain[0])\n",
        "print(yTrainScaled[0])"
      ],
      "execution_count": null,
      "outputs": [
        {
          "output_type": "stream",
          "text": [
            "(126268, 86)\n",
            "[ 0.   1.   0.   0.   0.   0.   0.   0.   0.   0.   0.   0.   0.   0.\n",
            "  0.   0.   0.   0.   0.   0.   0.   0.   0.   0.   0.   0.   0.   0.\n",
            "  0.   0.   0.   0.   1.   0.   0.   0.   0.   1.   0.   0.   0.   0.\n",
            "  1.   0.   0.   0.   0.   0.   0.   0.   0.   0.   0.   0.   0.   0.\n",
            "  0.   0.   0.   0.   0.   0.   0.   0.   1.   1.   0.   0.   0.   0.\n",
            "  0.   0.   1.   0.   0.   0.   0.   0.   0.   0.   0.   0.   0.   0.\n",
            "  0.  64.1]\n",
            "[ 0.          1.          0.          0.          0.          0.\n",
            "  0.          0.          0.          0.          0.          0.\n",
            "  0.          0.          0.          0.          0.          0.\n",
            "  0.          0.          0.          0.          0.          0.\n",
            "  0.          0.          0.          0.          0.          0.\n",
            "  0.          0.          1.          0.          0.          0.\n",
            "  0.          1.          0.          0.          0.          0.\n",
            "  1.          0.          0.          0.          0.          0.\n",
            "  0.          0.          0.          0.          0.          0.\n",
            "  0.          0.          0.          0.          0.          0.\n",
            "  0.          0.          0.          0.          1.          1.\n",
            "  0.          0.          0.          0.          0.          0.\n",
            "  1.          0.          0.          0.          0.          0.\n",
            "  0.          0.          0.          0.          0.          0.\n",
            "  0.         -0.02663076]\n",
            "(126268, 1)\n",
            "19500000.0\n",
            "[-0.06776608]\n"
          ],
          "name": "stdout"
        }
      ]
    },
    {
      "cell_type": "code",
      "metadata": {
        "id": "rhJrv8uOBSd-"
      },
      "source": [
        "xTrainC01 = np.load('/content/drive/My Drive/xTrainC01_moscow.npy')\n",
        "xTrainScaled = np.load('/content/drive/My Drive/xTrainScaled.npy')\n",
        "yTrainScaled = np.load('/content/drive/My Drive/yTrainScaled.npy')"
      ],
      "execution_count": null,
      "outputs": []
    },
    {
      "cell_type": "code",
      "metadata": {
        "id": "zA7BAGp8doQ6",
        "colab": {
          "base_uri": "https://localhost:8080/",
          "height": 974
        },
        "outputId": "d3ed2645-6e19-495d-e0bf-db7967a1a479"
      },
      "source": [
        "modelC = Sequential()\n",
        "modelC.add(Dense(20, activation='relu',input_dim=(xTrainC01.shape[1])))\n",
        "modelC.add(Dense(500, activation='relu'))\n",
        "modelC.add(Dropout(0.3))\n",
        "modelC.add(Dense(1, activation='linear'))\n",
        " \n",
        "modelC.compile(optimizer=Adam(lr=1e-3), loss='mse', metrics=['mae'])\n",
        " \n",
        "history = modelC.fit(xTrainC01[:100000], \n",
        "                    yTrainScaled[:100000], \n",
        "                    batch_size=20,\n",
        "                    epochs=20, \n",
        "                    validation_data=(xTrainC01[100000:], yTrainScaled[100000:]),\n",
        "                    verbose=1, shuffle=True)\n",
        " \n",
        "plt.plot(history.history['mae'], \n",
        "         label='Средняя абсолютная ошибка на обучающем наборе')\n",
        "plt.plot(history.history['val_mae'], \n",
        "         label='Средняя абсолютная ошибка на проверочном наборе')\n",
        "plt.xlabel('Эпоха обучения')\n",
        "plt.ylabel('Средняя абсолютная ошибка')\n",
        "plt.legend()\n",
        "plt.show()"
      ],
      "execution_count": null,
      "outputs": [
        {
          "output_type": "stream",
          "text": [
            "Epoch 1/20\n",
            "5000/5000 [==============================] - 12s 2ms/step - loss: 0.0521 - mae: 0.0489 - val_loss: 3.9620 - val_mae: 0.7373\n",
            "Epoch 2/20\n",
            "5000/5000 [==============================] - 12s 2ms/step - loss: 0.0334 - mae: 0.0416 - val_loss: 3.6271 - val_mae: 0.6984\n",
            "Epoch 3/20\n",
            "5000/5000 [==============================] - 12s 2ms/step - loss: 0.0124 - mae: 0.0373 - val_loss: 3.7805 - val_mae: 0.7206\n",
            "Epoch 4/20\n",
            "5000/5000 [==============================] - 12s 2ms/step - loss: 0.0115 - mae: 0.0350 - val_loss: 3.6986 - val_mae: 0.7090\n",
            "Epoch 5/20\n",
            "5000/5000 [==============================] - 12s 2ms/step - loss: 0.0138 - mae: 0.0342 - val_loss: 3.7126 - val_mae: 0.7002\n",
            "Epoch 6/20\n",
            "5000/5000 [==============================] - 11s 2ms/step - loss: 0.0084 - mae: 0.0330 - val_loss: 3.8907 - val_mae: 0.7262\n",
            "Epoch 7/20\n",
            "5000/5000 [==============================] - 12s 2ms/step - loss: 0.0061 - mae: 0.0317 - val_loss: 3.7574 - val_mae: 0.7109\n",
            "Epoch 8/20\n",
            "5000/5000 [==============================] - 12s 2ms/step - loss: 0.0089 - mae: 0.0313 - val_loss: 3.8139 - val_mae: 0.7122\n",
            "Epoch 9/20\n",
            "5000/5000 [==============================] - 12s 2ms/step - loss: 0.0100 - mae: 0.0312 - val_loss: 3.8380 - val_mae: 0.7121\n",
            "Epoch 10/20\n",
            "5000/5000 [==============================] - 12s 2ms/step - loss: 0.0115 - mae: 0.0305 - val_loss: 3.6115 - val_mae: 0.6786\n",
            "Epoch 11/20\n",
            "5000/5000 [==============================] - 12s 2ms/step - loss: 0.0057 - mae: 0.0300 - val_loss: 3.9203 - val_mae: 0.7336\n",
            "Epoch 12/20\n",
            "5000/5000 [==============================] - 12s 2ms/step - loss: 0.0070 - mae: 0.0296 - val_loss: 3.7299 - val_mae: 0.6960\n",
            "Epoch 13/20\n",
            "5000/5000 [==============================] - 12s 2ms/step - loss: 0.0124 - mae: 0.0294 - val_loss: 3.8921 - val_mae: 0.7315\n",
            "Epoch 14/20\n",
            "5000/5000 [==============================] - 12s 2ms/step - loss: 0.0091 - mae: 0.0291 - val_loss: 3.7415 - val_mae: 0.7022\n",
            "Epoch 15/20\n",
            "5000/5000 [==============================] - 12s 2ms/step - loss: 0.0087 - mae: 0.0288 - val_loss: 3.6621 - val_mae: 0.6830\n",
            "Epoch 16/20\n",
            "5000/5000 [==============================] - 12s 2ms/step - loss: 0.0054 - mae: 0.0283 - val_loss: 3.7929 - val_mae: 0.7139\n",
            "Epoch 17/20\n",
            "5000/5000 [==============================] - 12s 2ms/step - loss: 0.0062 - mae: 0.0284 - val_loss: 3.6764 - val_mae: 0.6995\n",
            "Epoch 18/20\n",
            "5000/5000 [==============================] - 12s 2ms/step - loss: 0.0049 - mae: 0.0277 - val_loss: 3.6930 - val_mae: 0.6921\n",
            "Epoch 19/20\n",
            "5000/5000 [==============================] - 12s 2ms/step - loss: 0.0056 - mae: 0.0277 - val_loss: 3.6920 - val_mae: 0.6915\n",
            "Epoch 20/20\n",
            "5000/5000 [==============================] - 12s 2ms/step - loss: 0.0069 - mae: 0.0275 - val_loss: 3.7782 - val_mae: 0.7071\n"
          ],
          "name": "stdout"
        },
        {
          "output_type": "display_data",
          "data": {
            "image/png": "[encoded data removed]",
            "text/plain": [
              "<Figure size 432x288 with 1 Axes>"
            ]
          },
          "metadata": {
            "tags": [],
            "needs_background": "light"
          }
        }
      ]
    },
    {
      "cell_type": "code",
      "metadata": {
        "id": "8esIlsa9CT8L",
        "colab": {
          "base_uri": "https://localhost:8080/",
          "height": 90
        },
        "outputId": "f3c55acb-7a42-477c-da54-8b3f29a5e603"
      },
      "source": [
        "splitVal = 0.2                                               #Процент, который выделяем в проверочную выборку\n",
        "valMask = np.random.sample(xTrainScaled.shape[0]) < splitVal #Создаём маску True-False для создания проверочной выборки\n",
        "print(xTrainScaled.shape[0])\n",
        "print(valMask)\n",
        "print(len(valMask))\n",
        "np.count_nonzero(valMask)"
      ],
      "execution_count": null,
      "outputs": [
        {
          "output_type": "stream",
          "text": [
            "126268\n",
            "[ True False False ...  True False False]\n",
            "126268\n"
          ],
          "name": "stdout"
        },
        {
          "output_type": "execute_result",
          "data": {
            "text/plain": [
              "25244"
            ]
          },
          "metadata": {
            "tags": []
          },
          "execution_count": 12
        }
      ]
    },
    {
      "cell_type": "code",
      "metadata": {
        "id": "IFr8hYrH0ozu"
      },
      "source": [
        "from tensorflow.keras.callbacks import LambdaCallback\n",
        "from tensorflow.python.keras.callbacks import LearningRateScheduler\n",
        "from IPython.display import clear_output\n",
        "import time"
      ],
      "execution_count": null,
      "outputs": []
    },
    {
      "cell_type": "code",
      "metadata": {
        "id": "hfhe2fPGCCVA"
      },
      "source": [
        "def getMAE(train_or_validation):\n",
        "  if train_or_validation:\n",
        "    mask = ~valMask\n",
        "  else:\n",
        "    mask = valMask\n",
        "\n",
        "    pred = model.predict([xTrainScaled[mask], xTrainC01[mask]])\n",
        "    predUnscaled = yScaler.inverse_transform(pred).flatten()\n",
        "    yTrainUnscaled = yScaler.inverse_transform(yTrainUnscaled[mask]).flatten()\n",
        "    delta = predUnscaled - yTrainUnscaled\n",
        "    absDelta = abs(delta)\n",
        "    mae = sum(absDelta) / (1e+6 * len(absDelta))\n",
        "    return mae\n",
        "\n",
        "def plotMAE():\n",
        "  plt.plot(mae_list,\n",
        "           label='Средняя абсолютная ошибка на обучающем наборе')\n",
        "  plt.plot(val_mae_list,\n",
        "           label='Средняя абсолютная ошибка на проверочном наборе')\n",
        "  plt.xlabel('Эпоха обучения')\n",
        "  plt.ylabel('Средняя абсолютная ошибка')\n",
        "  plt.legend()\n",
        "  plt.show()\n",
        "\n",
        "def plot_scatter_and_hist(train_or_validation):\n",
        "  if train_or_validation:\n",
        "    mask = ~valMask\n",
        "  else:\n",
        "    mask = valMask\n",
        "\n",
        "  pred = model.predict([xTrainScaled[mask], xTrainC01[mask]])\n",
        "  predUnscaled = yScaler.inverse_transform(yTrainUnscaled[mask].flatten())\n",
        "  delta = predUnscaled - yTrainUnscaled\n",
        "  absDelta = abs(delta)\n",
        "\n",
        "  plt.scatter(yTrainUnscaled[yTrainUnscaled<5e+7], predUnscaled[yTrainUnscaled<5e+7])\n",
        "  plt.xlabel('Правильные значения')\n",
        "  plt.ylabel('Предсказания')\n",
        "  plt.axis('equal')\n",
        "  plt.xlim(plt.xlim())\n",
        "  plt.ylim(plt.ylim())\n",
        "  plt.plot([-1e+8, 1e+9], [-1e+8, 1e+9])\n",
        "  plt.show()\n",
        "\n",
        "  normalizer_delta = abs(pred - yTrainScaled[valMask])\n",
        "  bins_norm = [0.01 * i for i in range(20)]\n",
        "  plt.hist(normalized_delta.flatten(), bins=bins_norm)\n",
        "  plt.xlabel('Значение ошибки')\n",
        "  plt.ylabel('Количество')\n",
        "  plt.show()\n",
        "\n",
        "mae_list = []\n",
        "val_mae_list = []\n",
        "start_time = [time.time()]\n",
        "epochs_duration = []\n",
        "\n",
        "def on_epoch_begin(epoch, logs):\n",
        "  start_time.append(time.time())\n",
        "\n",
        "\n",
        "a = [0.001]\n",
        "def sheduler(epoch):\n",
        "  std = np.array(val_mae_list[-5:]).std()\n",
        "  print('Среднеквадратичное отклонение', round(std, 4))\n",
        "  v = 0.001\n",
        "  if len(val_mae_list) < 5:\n",
        "    return v\n",
        "\n",
        "  if (std > 0.2):\n",
        "    print('Пила, понижаем скорость')\n",
        "    v = 0.0001\n",
        "    a.append(v)\n",
        "    return v\n",
        "\n",
        "  if (std < 0.002):\n",
        "    print('Плато, повышаем скорость')\n",
        "    v = 0.01\n",
        "    a.append(v)\n",
        "    return v\n",
        "  else: return a[-1]\n",
        "\n",
        "\n",
        "def save_best_model():\n",
        "  if (len(val_mae_list) < 2):\n",
        "    model.save('best_net.h5')\n",
        "  else:\n",
        "    if (val_mae_list[-1] < np.array(val_mae_list[:-1]).min()):\n",
        "      model.save('best_net.h5')\n",
        "      print('Лушая точность, сохраняем нейронку')\n",
        "\n",
        "def on_epoch_end(epoch, logs):\n",
        "\n",
        "  mae = getMAE(1)\n",
        "  val_mae = getMAE(0)\n",
        "  epochs_duration.append(round(time.time() - start_time[-1], 1))\n",
        "  all_time = round(time.time() - start_time[0], 1)\n",
        "  mean_time = sum(epochs_duration) / (epoch + 1)\n",
        "  estimate_time = round((all_epochs - epoch - 1) * mean_time, 3)\n",
        "  mae_list.append(mae)\n",
        "  val_mae_list.append(val_mae)\n",
        "\n",
        "  clear_output()\n",
        "\n",
        "  print('Эпоха', epoch)\n",
        "  print('Модуль ошибки на обучающей выборке', round(mae, 2))\n",
        "  print('Модуль ошибки на проверочной выборке', round(val_mae, 2))\n",
        "\n",
        "  print()\n",
        "  print('Время обучения')\n",
        "  print('Текущая эпоха -> ', epochs_duration[-1], 'c', sep='')\n",
        "  print('Суммарное время обучения -> ', all_time, 'c', sep='')\n",
        "  print('Время до завершения обучения -> ', estimate_time, 'c', sep='')\n",
        "\n",
        "  plot_scatter_and_hist(0)\n",
        "  plotMAE()\n",
        "  save_best_model()\n",
        "\n",
        "pltMae = LambdaCallback(on_epoch_end=on_epoch_end, on_epoch_begin=on_epoch_begin)\n",
        "Callback_two = LearningRateScheduler(sheduler)\n",
        "\n",
        "\n",
        "  "
      ],
      "execution_count": null,
      "outputs": []
    },
    {
      "cell_type": "code",
      "metadata": {
        "id": "lfViIhj0CCRJ",
        "colab": {
          "base_uri": "https://localhost:8080/",
          "height": 164
        },
        "outputId": "83e1e233-977b-47b7-ea37-382418b49ec1"
      },
      "source": [
        "#Простая Dense сеть\n",
        "all_epohs = 18\n",
        "input1 = Input((xTrainScaled.shape[1],))\n",
        "input2 = Input((xTrainC01.shape[1],))\n",
        "\n",
        "x1 = Dense(5, activation=\"relu\")(input1)\n",
        "x2 = Dense(25, activation=\"relu\")(input2)\n",
        "\n",
        "x = concatenate([x1, x2])\n",
        "\n",
        "x = Dense(10, activation='relu')(x)\n",
        "x = Dense(10, activation='relu')(x)\n",
        "x = Dense(1, activation='linear')(x)\n",
        "\n",
        "model = Model((input1, input2), x)\n",
        "Lrate = 1e-3\n",
        "model.compile(optimizer=Adam(learning_rate=Lrate), loss='mse')\n",
        "\n",
        "\n",
        "\n",
        "history = model.fit([xTrainScaled[~valMask], xTrainC01[~valMask]], \n",
        "                    yTrainScaled[~valMask], \n",
        "                    epochs=all_epohs, \n",
        "                    validation_data=([xTrainScaled[valMask], xTrainC01[valMask]], \n",
        "                    yTrainScaled[valMask]), \n",
        "                    verbose=0,\n",
        "                    # callbacks=[pltMae]\n",
        "                    callbacks=[pltMae, Callback_two]\n",
        "                    )"
      ],
      "execution_count": null,
      "outputs": [
        {
          "output_type": "stream",
          "text": [
            "/usr/local/lib/python3.6/dist-packages/numpy/core/_methods.py:217: RuntimeWarning: Degrees of freedom <= 0 for slice\n",
            "  keepdims=keepdims)\n",
            "/usr/local/lib/python3.6/dist-packages/numpy/core/_methods.py:186: RuntimeWarning: invalid value encountered in true_divide\n",
            "  arrmean, rcount, out=arrmean, casting='unsafe', subok=False)\n",
            "/usr/local/lib/python3.6/dist-packages/numpy/core/_methods.py:209: RuntimeWarning: invalid value encountered in double_scalars\n",
            "  ret = ret.dtype.type(ret / rcount)\n"
          ],
          "name": "stderr"
        },
        {
          "output_type": "stream",
          "text": [
            "Среднеквадратичное отклонение nan\n"
          ],
          "name": "stdout"
        }
      ]
    },
    {
      "cell_type": "code",
      "metadata": {
        "id": "tEgkKKHPzZTV"
      },
      "source": [
        "my_callBack = LambdaCallback"
      ],
      "execution_count": null,
      "outputs": []
    },
    {
      "cell_type": "code",
      "metadata": {
        "id": "pWF7lEM6doYh"
      },
      "source": [
        "def on_epoch_end(epoch, logs):\n",
        "  pred = model.predict([xTrainScaled[valMask], xTrainC01[valMask]]) #Полуаем выход сети на проверочно выборке\n",
        "  predUnscaled = yScaler.inverse_transform(pred).flatten() #Делаем обратное нормирование выхода к изначальным величинам цен квартир\n",
        "  yTrainUnscaled = yScaler.inverse_transform(yTrainScaled[valMask]).flatten() #Делаем такое же обратное нормирование yTrain к базовым ценам\n",
        "  delta = predUnscaled - yTrainUnscaled #Считаем разность предсказания и правильных цен\n",
        "  absDelta = abs(delta) #Берём модуль отклонения\n",
        "  print(\"Эпоха\", epoch, \"модуль ошибки\", round(sum(absDelta) / (1e+6 * len(absDelta)),3)) #Выводим усреднённую ошибку в миллионах рублей\n",
        "\n",
        "# Коллбэки\n",
        "pltMae = LambdaCallback(on_epoch_end=on_epoch_end)"
      ],
      "execution_count": null,
      "outputs": []
    },
    {
      "cell_type": "code",
      "metadata": {
        "id": "Q59Y4EetdocW",
        "colab": {
          "base_uri": "https://localhost:8080/",
          "height": 383
        },
        "outputId": "0563300b-a029-4db1-e9a5-e4c9f08e87d9"
      },
      "source": [
        "model = Sequential()\n",
        "model.add(Dense(5, activation='relu',input_dim=(xTrainC01.shape[1])))\n",
        "model.add(Dense(1, activation='linear'))\n",
        " \n",
        "model.compile(optimizer=Adam(lr=1e-3), loss='mse', metrics=['mae'])\n",
        " \n",
        "history = model.fit(xTrainC01[:1000], \n",
        "                    yTrainScaled[:1000], \n",
        "                    batch_size=20,\n",
        "                    epochs=5, \n",
        "                    validation_data=(xTrainC01[1000:2000], yTrainScaled[1000:2000]),\n",
        "                    verbose=0, \n",
        "                    callbacks=[pltMae],\n",
        "                    shuffle=True)\n",
        " \n",
        "plt.plot(history.history['mae'], \n",
        "         label='Средняя абсолютная ошибка на обучающем наборе')\n",
        "plt.plot(history.history['val_mae'], \n",
        "         label='Средняя абсолютная ошибка на проверочном наборе')\n",
        "plt.xlabel('Эпоха обучения')\n",
        "plt.ylabel('Средняя абсолютная ошибка')\n",
        "plt.legend()\n",
        "plt.show()"
      ],
      "execution_count": null,
      "outputs": [
        {
          "output_type": "error",
          "ename": "NameError",
          "evalue": "ignored",
          "traceback": [
            "\u001b[0;31m---------------------------------------------------------------------------\u001b[0m",
            "\u001b[0;31mNameError\u001b[0m                                 Traceback (most recent call last)",
            "\u001b[0;32m<ipython-input-20-e95c515a47a7>\u001b[0m in \u001b[0;36m<module>\u001b[0;34m()\u001b[0m\n\u001b[1;32m     12\u001b[0m                     \u001b[0mverbose\u001b[0m\u001b[0;34m=\u001b[0m\u001b[0;36m0\u001b[0m\u001b[0;34m,\u001b[0m\u001b[0;34m\u001b[0m\u001b[0;34m\u001b[0m\u001b[0m\n\u001b[1;32m     13\u001b[0m                     \u001b[0mcallbacks\u001b[0m\u001b[0;34m=\u001b[0m\u001b[0;34m[\u001b[0m\u001b[0mpltMae\u001b[0m\u001b[0;34m]\u001b[0m\u001b[0;34m,\u001b[0m\u001b[0;34m\u001b[0m\u001b[0;34m\u001b[0m\u001b[0m\n\u001b[0;32m---> 14\u001b[0;31m                     shuffle=True)\n\u001b[0m\u001b[1;32m     15\u001b[0m \u001b[0;34m\u001b[0m\u001b[0m\n\u001b[1;32m     16\u001b[0m plt.plot(history.history['mae'], \n",
            "\u001b[0;32m/usr/local/lib/python3.6/dist-packages/tensorflow/python/keras/engine/training.py\u001b[0m in \u001b[0;36m_method_wrapper\u001b[0;34m(self, *args, **kwargs)\u001b[0m\n\u001b[1;32m    106\u001b[0m   \u001b[0;32mdef\u001b[0m \u001b[0m_method_wrapper\u001b[0m\u001b[0;34m(\u001b[0m\u001b[0mself\u001b[0m\u001b[0;34m,\u001b[0m \u001b[0;34m*\u001b[0m\u001b[0margs\u001b[0m\u001b[0;34m,\u001b[0m \u001b[0;34m**\u001b[0m\u001b[0mkwargs\u001b[0m\u001b[0;34m)\u001b[0m\u001b[0;34m:\u001b[0m\u001b[0;34m\u001b[0m\u001b[0;34m\u001b[0m\u001b[0m\n\u001b[1;32m    107\u001b[0m     \u001b[0;32mif\u001b[0m \u001b[0;32mnot\u001b[0m \u001b[0mself\u001b[0m\u001b[0;34m.\u001b[0m\u001b[0m_in_multi_worker_mode\u001b[0m\u001b[0;34m(\u001b[0m\u001b[0;34m)\u001b[0m\u001b[0;34m:\u001b[0m  \u001b[0;31m# pylint: disable=protected-access\u001b[0m\u001b[0;34m\u001b[0m\u001b[0;34m\u001b[0m\u001b[0m\n\u001b[0;32m--> 108\u001b[0;31m       \u001b[0;32mreturn\u001b[0m \u001b[0mmethod\u001b[0m\u001b[0;34m(\u001b[0m\u001b[0mself\u001b[0m\u001b[0;34m,\u001b[0m \u001b[0;34m*\u001b[0m\u001b[0margs\u001b[0m\u001b[0;34m,\u001b[0m \u001b[0;34m**\u001b[0m\u001b[0mkwargs\u001b[0m\u001b[0;34m)\u001b[0m\u001b[0;34m\u001b[0m\u001b[0;34m\u001b[0m\u001b[0m\n\u001b[0m\u001b[1;32m    109\u001b[0m \u001b[0;34m\u001b[0m\u001b[0m\n\u001b[1;32m    110\u001b[0m     \u001b[0;31m# Running inside `run_distribute_coordinator` already.\u001b[0m\u001b[0;34m\u001b[0m\u001b[0;34m\u001b[0m\u001b[0;34m\u001b[0m\u001b[0m\n",
            "\u001b[0;32m/usr/local/lib/python3.6/dist-packages/tensorflow/python/keras/engine/training.py\u001b[0m in \u001b[0;36mfit\u001b[0;34m(self, x, y, batch_size, epochs, verbose, callbacks, validation_split, validation_data, shuffle, class_weight, sample_weight, initial_epoch, steps_per_epoch, validation_steps, validation_batch_size, validation_freq, max_queue_size, workers, use_multiprocessing)\u001b[0m\n\u001b[1;32m   1135\u001b[0m           \u001b[0mepoch_logs\u001b[0m\u001b[0;34m.\u001b[0m\u001b[0mupdate\u001b[0m\u001b[0;34m(\u001b[0m\u001b[0mval_logs\u001b[0m\u001b[0;34m)\u001b[0m\u001b[0;34m\u001b[0m\u001b[0;34m\u001b[0m\u001b[0m\n\u001b[1;32m   1136\u001b[0m \u001b[0;34m\u001b[0m\u001b[0m\n\u001b[0;32m-> 1137\u001b[0;31m         \u001b[0mcallbacks\u001b[0m\u001b[0;34m.\u001b[0m\u001b[0mon_epoch_end\u001b[0m\u001b[0;34m(\u001b[0m\u001b[0mepoch\u001b[0m\u001b[0;34m,\u001b[0m \u001b[0mepoch_logs\u001b[0m\u001b[0;34m)\u001b[0m\u001b[0;34m\u001b[0m\u001b[0;34m\u001b[0m\u001b[0m\n\u001b[0m\u001b[1;32m   1138\u001b[0m         \u001b[0mtraining_logs\u001b[0m \u001b[0;34m=\u001b[0m \u001b[0mepoch_logs\u001b[0m\u001b[0;34m\u001b[0m\u001b[0;34m\u001b[0m\u001b[0m\n\u001b[1;32m   1139\u001b[0m         \u001b[0;32mif\u001b[0m \u001b[0mself\u001b[0m\u001b[0;34m.\u001b[0m\u001b[0mstop_training\u001b[0m\u001b[0;34m:\u001b[0m\u001b[0;34m\u001b[0m\u001b[0;34m\u001b[0m\u001b[0m\n",
            "\u001b[0;32m/usr/local/lib/python3.6/dist-packages/tensorflow/python/keras/callbacks.py\u001b[0m in \u001b[0;36mon_epoch_end\u001b[0;34m(self, epoch, logs)\u001b[0m\n\u001b[1;32m    414\u001b[0m         \u001b[0;32mif\u001b[0m \u001b[0mnumpy_logs\u001b[0m \u001b[0;32mis\u001b[0m \u001b[0;32mNone\u001b[0m\u001b[0;34m:\u001b[0m  \u001b[0;31m# Only convert once.\u001b[0m\u001b[0;34m\u001b[0m\u001b[0;34m\u001b[0m\u001b[0m\n\u001b[1;32m    415\u001b[0m           \u001b[0mnumpy_logs\u001b[0m \u001b[0;34m=\u001b[0m \u001b[0mtf_utils\u001b[0m\u001b[0;34m.\u001b[0m\u001b[0mto_numpy_or_python_type\u001b[0m\u001b[0;34m(\u001b[0m\u001b[0mlogs\u001b[0m\u001b[0;34m)\u001b[0m\u001b[0;34m\u001b[0m\u001b[0;34m\u001b[0m\u001b[0m\n\u001b[0;32m--> 416\u001b[0;31m         \u001b[0mcallback\u001b[0m\u001b[0;34m.\u001b[0m\u001b[0mon_epoch_end\u001b[0m\u001b[0;34m(\u001b[0m\u001b[0mepoch\u001b[0m\u001b[0;34m,\u001b[0m \u001b[0mnumpy_logs\u001b[0m\u001b[0;34m)\u001b[0m\u001b[0;34m\u001b[0m\u001b[0;34m\u001b[0m\u001b[0m\n\u001b[0m\u001b[1;32m    417\u001b[0m \u001b[0;34m\u001b[0m\u001b[0m\n\u001b[1;32m    418\u001b[0m   \u001b[0;32mdef\u001b[0m \u001b[0mon_train_batch_begin\u001b[0m\u001b[0;34m(\u001b[0m\u001b[0mself\u001b[0m\u001b[0;34m,\u001b[0m \u001b[0mbatch\u001b[0m\u001b[0;34m,\u001b[0m \u001b[0mlogs\u001b[0m\u001b[0;34m=\u001b[0m\u001b[0;32mNone\u001b[0m\u001b[0;34m)\u001b[0m\u001b[0;34m:\u001b[0m\u001b[0;34m\u001b[0m\u001b[0;34m\u001b[0m\u001b[0m\n",
            "\u001b[0;32m<ipython-input-17-bcf428f87273>\u001b[0m in \u001b[0;36mon_epoch_end\u001b[0;34m(epoch, logs)\u001b[0m\n\u001b[1;32m      1\u001b[0m \u001b[0;32mdef\u001b[0m \u001b[0mon_epoch_end\u001b[0m\u001b[0;34m(\u001b[0m\u001b[0mepoch\u001b[0m\u001b[0;34m,\u001b[0m \u001b[0mlogs\u001b[0m\u001b[0;34m)\u001b[0m\u001b[0;34m:\u001b[0m\u001b[0;34m\u001b[0m\u001b[0;34m\u001b[0m\u001b[0m\n\u001b[0;32m----> 2\u001b[0;31m   \u001b[0mpred\u001b[0m \u001b[0;34m=\u001b[0m \u001b[0mmodel\u001b[0m\u001b[0;34m.\u001b[0m\u001b[0mpredict\u001b[0m\u001b[0;34m(\u001b[0m\u001b[0;34m[\u001b[0m\u001b[0mxTrainScaled\u001b[0m\u001b[0;34m[\u001b[0m\u001b[0mvalMask\u001b[0m\u001b[0;34m]\u001b[0m\u001b[0;34m,\u001b[0m \u001b[0mxTrainC01\u001b[0m\u001b[0;34m[\u001b[0m\u001b[0mvalMask\u001b[0m\u001b[0;34m]\u001b[0m\u001b[0;34m]\u001b[0m\u001b[0;34m)\u001b[0m \u001b[0;31m#Полуаем выход сети на проверочно выборке\u001b[0m\u001b[0;34m\u001b[0m\u001b[0;34m\u001b[0m\u001b[0m\n\u001b[0m\u001b[1;32m      3\u001b[0m   \u001b[0mpredUnscaled\u001b[0m \u001b[0;34m=\u001b[0m \u001b[0myScaler\u001b[0m\u001b[0;34m.\u001b[0m\u001b[0minverse_transform\u001b[0m\u001b[0;34m(\u001b[0m\u001b[0mpred\u001b[0m\u001b[0;34m)\u001b[0m\u001b[0;34m.\u001b[0m\u001b[0mflatten\u001b[0m\u001b[0;34m(\u001b[0m\u001b[0;34m)\u001b[0m \u001b[0;31m#Делаем обратное нормирование выхода к изначальным величинам цен квартир\u001b[0m\u001b[0;34m\u001b[0m\u001b[0;34m\u001b[0m\u001b[0m\n\u001b[1;32m      4\u001b[0m   \u001b[0myTrainUnscaled\u001b[0m \u001b[0;34m=\u001b[0m \u001b[0myScaler\u001b[0m\u001b[0;34m.\u001b[0m\u001b[0minverse_transform\u001b[0m\u001b[0;34m(\u001b[0m\u001b[0myTrainScaled\u001b[0m\u001b[0;34m[\u001b[0m\u001b[0mvalMask\u001b[0m\u001b[0;34m]\u001b[0m\u001b[0;34m)\u001b[0m\u001b[0;34m.\u001b[0m\u001b[0mflatten\u001b[0m\u001b[0;34m(\u001b[0m\u001b[0;34m)\u001b[0m \u001b[0;31m#Делаем такое же обратное нормирование yTrain к базовым ценам\u001b[0m\u001b[0;34m\u001b[0m\u001b[0;34m\u001b[0m\u001b[0m\n\u001b[1;32m      5\u001b[0m   \u001b[0mdelta\u001b[0m \u001b[0;34m=\u001b[0m \u001b[0mpredUnscaled\u001b[0m \u001b[0;34m-\u001b[0m \u001b[0myTrainUnscaled\u001b[0m \u001b[0;31m#Считаем разность предсказания и правильных цен\u001b[0m\u001b[0;34m\u001b[0m\u001b[0;34m\u001b[0m\u001b[0m\n",
            "\u001b[0;31mNameError\u001b[0m: name 'valMask' is not defined"
          ]
        }
      ]
    },
    {
      "cell_type": "code",
      "metadata": {
        "id": "30A9L9judogC"
      },
      "source": [
        ""
      ],
      "execution_count": null,
      "outputs": []
    },
    {
      "cell_type": "code",
      "metadata": {
        "id": "EOaJtDnBdom8"
      },
      "source": [
        ""
      ],
      "execution_count": null,
      "outputs": []
    },
    {
      "cell_type": "code",
      "metadata": {
        "id": "VnQ5KQLWdoqp"
      },
      "source": [
        ""
      ],
      "execution_count": null,
      "outputs": []
    },
    {
      "cell_type": "code",
      "metadata": {
        "id": "aG-PS67odokE"
      },
      "source": [
        ""
      ],
      "execution_count": null,
      "outputs": []
    }
  ]
}